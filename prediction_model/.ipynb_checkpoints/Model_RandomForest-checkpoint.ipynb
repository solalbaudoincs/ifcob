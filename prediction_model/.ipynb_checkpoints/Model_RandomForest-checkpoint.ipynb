{
 "cells": [
  {
   "cell_type": "code",
   "execution_count": null,
   "id": "81cd2000-dd91-4405-88ab-17dd12a1496b",
   "metadata": {},
   "outputs": [],
   "source": [
    "import numpy as np \n",
    "import matplotlib.pyplot as plt\n",
    "import pandas as pd "
   ]
  },
  {
   "cell_type": "code",
   "execution_count": null,
   "id": "52cce037-fcf8-4491-89bc-ea6c4bd01d1f",
   "metadata": {},
   "outputs": [],
   "source": [
    "def compute_return(price_eth: pd.Series, timestamp: pd.Series) -> pd.Series:\n",
    "    # Calcul des différences\n",
    "    dP = price_eth.diff()\n",
    "    dt = timestamp.diff()\n",
    "\n",
    "    # Calcul du return\n",
    "    return_eth = dP / dt\n",
    "\n",
    "    # Optionnel : remplacer le premier NaN par 0\n",
    "    return_eth.iloc[0] = 0\n",
    "\n",
    "    return return_eth"
   ]
  },
  {
   "cell_type": "code",
   "execution_count": null,
   "id": "fb243f38-97e0-4084-9009-630cddc20b85",
   "metadata": {},
   "outputs": [],
   "source": [
    "def create_dataset(features_BTC, features_ETH, tau):\n",
    "\n",
    "    '''\n",
    "    Entrée : \n",
    "        - Un dataframe features_BTC qui contient les différentes features et une colonne 'timestamp'\n",
    "        - un dataframe return_ETH qui contient les différents returns et une colonne 'timestamp'.\n",
    "        - tau la fenêtre des features BTC qui sera utilisé \n",
    "        - les deux dataframes ont exactement la même taille N\n",
    "\n",
    "    Sortie : Un dataset (X, y) de deux dataframes\n",
    "        - X sont les données d'entrée de taille (N - tau, tau * k) où tau est la fenetre de features et k le nombres de features \n",
    "        - y les labels de taille (N - tau , ) tq y = return_ETH\n",
    "    '''\n",
    "    \n",
    "    return_ETH = compute_return(features_ETH['price'], features_ETH['timestamp'])\n",
    "    features = features_BTC.drop(columns=['timestamp']).to_numpy()\n",
    "    targets = return_ETH.to_numpy()\n",
    "\n",
    "    N, k = features.shape\n",
    "    X = []\n",
    "    y = []\n",
    "\n",
    "    for t in range(tau, N):\n",
    "        window = features[t - tau:t]   # shape (tau, k)\n",
    "        X.append(window.flatten())     # devient shape (tau * k,)\n",
    "        y.append(targets[t])           # return_ETH à t\n",
    "\n",
    "    return np.array(X), np.array(y)\n",
    "\n",
    "'''\n",
    "# Pour créer un modèle il faut juste mettre sous ce format et ensuite on pourra faire \n",
    "# TODO : Vérifier que Matéo prend en compte la différence des timestamp dans le computing des features\n",
    "\n",
    "X, y = create_dataset(features_BTC, features_ETH)\n",
    "'''\n",
    "    "
   ]
  },
  {
   "cell_type": "code",
   "execution_count": null,
   "id": "3e33cef2-ba61-43b1-8b9c-1508d6fcf0c8",
   "metadata": {},
   "outputs": [],
   "source": []
  }
 ],
 "metadata": {
  "kernelspec": {
   "display_name": "Python 3 (ipykernel)",
   "language": "python",
   "name": "python3"
  },
  "language_info": {
   "codemirror_mode": {
    "name": "ipython",
    "version": 3
   },
   "file_extension": ".py",
   "mimetype": "text/x-python",
   "name": "python",
   "nbconvert_exporter": "python",
   "pygments_lexer": "ipython3",
   "version": "3.12.4"
  }
 },
 "nbformat": 4,
 "nbformat_minor": 5
}
