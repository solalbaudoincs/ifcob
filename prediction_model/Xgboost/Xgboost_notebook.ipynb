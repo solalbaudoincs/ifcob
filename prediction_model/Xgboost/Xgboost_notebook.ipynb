{
 "cells": [
  {
   "cell_type": "markdown",
   "id": "adc1b325",
   "metadata": {},
   "source": [
    "# XGBoost Classification Model (Clean Version)\n",
    "\n",
    "Ce notebook utilise l'utilitaire DataPreprocessor pour préparer les données et entraîner un modèle XGBoost pour la classification de signaux de trading crypto."
   ]
  },
  {
   "cell_type": "code",
   "execution_count": 70,
   "id": "7381ec74",
   "metadata": {},
   "outputs": [
    {
     "name": "stdout",
     "output_type": "stream",
     "text": [
      "Project root ajouté au sys.path : /raid/home/automatants/lahrach_cha/ChakibProjects/ifcob\n"
     ]
    }
   ],
   "source": [
    "import sys\n",
    "import os\n",
    "# Ajoute le dossier racine du projet au sys.path\n",
    "project_root = os.path.abspath(os.path.join(os.getcwd(), \"../..\"))\n",
    "if project_root not in sys.path:\n",
    "    sys.path.insert(0, project_root)\n",
    "print(\"Project root ajouté au sys.path :\", project_root)"
   ]
  },
  {
   "cell_type": "code",
   "execution_count": 71,
   "id": "0a4f39f3",
   "metadata": {},
   "outputs": [],
   "source": [
    "# Imports principaux\n",
    "import pandas as pd\n",
    "import numpy as np\n",
    "from prediction_model.data_preprocess import DataPreprocessor\n",
    "import xgboost as xgb\n",
    "from sklearn.metrics import accuracy_score, classification_report, confusion_matrix\n",
    "from sklearn.utils.class_weight import compute_class_weight\n",
    "import matplotlib.pyplot as plt\n",
    "import seaborn as sns"
   ]
  },
  {
   "cell_type": "code",
   "execution_count": 72,
   "id": "d144b942",
   "metadata": {},
   "outputs": [
    {
     "name": "stdout",
     "output_type": "stream",
     "text": [
      "ETH shape: (1817685, 65)\n",
      "XBT shape: (563395, 65)\n"
     ]
    }
   ],
   "source": [
    "# Chargement des données ETH et XBT\n",
    "eth_path = \"../../data/features/DATA_0/ETH_EUR.parquet\"\n",
    "xbt_path = \"../../data/features/DATA_0/XBT_EUR.parquet\"\n",
    "df_eth = pd.read_parquet(eth_path)\n",
    "df_xbt = pd.read_parquet(xbt_path)\n",
    "print(f\"ETH shape: {df_eth.shape}\")\n",
    "print(f\"XBT shape: {df_xbt.shape}\")"
   ]
  },
  {
   "cell_type": "code",
   "execution_count": 73,
   "id": "9f9941ea",
   "metadata": {},
   "outputs": [
    {
     "data": {
      "text/plain": [
       "Index(['bid-ask-imbalance-5-levels', 'spread', 'slope-bid-5-levels',\n",
       "       'slope-ask-5-levels', 'vwap-bid-5-levels', 'vwap-ask-5-levels',\n",
       "       'liquidity-ratio-5-levels', 'rate-inst-volatility-20-sample',\n",
       "       'rate-momentum-20-sample', 'rate-mid-price-trend-20-sample',\n",
       "       'rate-bid-volume-level-1', 'rate-ask-volume-level-1', 'V-bid-5-levels',\n",
       "       'V-ask-5-levels', 'inst-return', 'return-all-signed-for-5-ms',\n",
       "       'return-all-signed-for-10-ms', 'return-all-signed-for-20-ms',\n",
       "       'return-vs-volatility-5-ms', 'return-vs-volatility-10-ms',\n",
       "       'return-vs-volatility-20-ms',\n",
       "       'return-vs-volatility-transfer-entropy-5-ms',\n",
       "       'sharpe-ratio-quantile-calibrated-5-ms',\n",
       "       'sharpe-ratio-transfer-entropy-5-ms', 'level-1-bid-price',\n",
       "       'level-1-bid-volume', 'level-2-bid-price', 'level-2-bid-volume',\n",
       "       'level-3-bid-price', 'level-3-bid-volume', 'level-4-bid-price',\n",
       "       'level-4-bid-volume', 'level-5-bid-price', 'level-5-bid-volume',\n",
       "       'level-6-bid-price', 'level-6-bid-volume', 'level-7-bid-price',\n",
       "       'level-7-bid-volume', 'level-8-bid-price', 'level-8-bid-volume',\n",
       "       'level-9-bid-price', 'level-9-bid-volume', 'level-10-bid-price',\n",
       "       'level-10-bid-volume', 'level-1-ask-price', 'level-1-ask-volume',\n",
       "       'level-2-ask-price', 'level-2-ask-volume', 'level-3-ask-price',\n",
       "       'level-3-ask-volume', 'level-4-ask-price', 'level-4-ask-volume',\n",
       "       'level-5-ask-price', 'level-5-ask-volume', 'level-6-ask-price',\n",
       "       'level-6-ask-volume', 'level-7-ask-price', 'level-7-ask-volume',\n",
       "       'level-8-ask-price', 'level-8-ask-volume', 'level-9-ask-price',\n",
       "       'level-9-ask-volume', 'level-10-ask-price', 'level-10-ask-volume',\n",
       "       'timestamp'],\n",
       "      dtype='object')"
      ]
     },
     "execution_count": 73,
     "metadata": {},
     "output_type": "execute_result"
    }
   ],
   "source": [
    "df_eth.columns"
   ]
  },
  {
   "cell_type": "code",
   "execution_count": 74,
   "id": "140a8f64",
   "metadata": {},
   "outputs": [
    {
     "name": "stdout",
     "output_type": "stream",
     "text": [
      "=== PRÉPARATION DES DONNÉES ADABOOST ===\n",
      "Étape 1: Extraction du target 'return-vs-volatility-5-ms'...\n",
      "Target shape: (1817685,)\n",
      "Étape 2: Sélection des features du features_df...\n",
      "Features sélectionnées: ['V-bid-5-levels', 'V-ask-5-levels', 'slope-bid-5-levels', 'slope-ask-5-levels']\n",
      "Features shape avant dropna: (563395, 4)\n",
      "Features shape après dropna: (562697, 4)\n",
      "Étape 2b: Sélection des features du target_df avec lag...\n",
      "Features target sélectionnées: ['V-bid-5-levels', 'V-ask-5-levels', 'slope-bid-5-levels', 'slope-ask-5-levels']\n",
      "Target features shape après shift (lag=10): (1817685, 4)\n",
      "Target features shape après dropna: (1814876, 4)\n",
      "Étape 3: Alignement temporel avec np.searchsorted...\n",
      "Features après filtrage: (1817685, 4)\n",
      "Indices filtrés: 1817685\n",
      "Étape 4: Création des DataFrames nettoyés...\n",
      "Étape 4b: Ajout des features du target_df après synchronisation et lag...\n",
      "Target features après alignement: (1814876, 4)\n",
      "Features combinées shape: (1817685, 8)\n",
      "Colonnes finales: ['V-bid-5-levels', 'V-ask-5-levels', 'slope-bid-5-levels', 'slope-ask-5-levels', 'V-bid-5-levels', 'V-ask-5-levels', 'slope-bid-5-levels', 'slope-ask-5-levels']\n",
      "Données après dropna et filtrage NaN: (1814876, 8)\n",
      "Target après dropna et filtrage NaN: (1814876,)\n",
      "Distribution des classes:\n",
      "return-vs-volatility-5-ms\n",
      "-1     106959\n",
      " 0    1597999\n",
      " 1     109918\n",
      "Name: count, dtype: int64\n",
      "Proportions des classes:\n",
      "return-vs-volatility-5-ms\n",
      "-1    0.058935\n",
      " 0    0.880500\n",
      " 1    0.060565\n",
      "Name: proportion, dtype: float64\n",
      "Étape 5: Conversion en arrays numpy...\n",
      "\n",
      "=== RÉSULTAT FINAL ===\n",
      "Features (X): (1814876, 8)\n",
      "Labels encodés (y): (1814876,)\n",
      "Mapping des labels: {np.int64(-1): 0, np.int64(0): 1, np.int64(1): 2}\n",
      "Étape 6: Split train/test chronologique...\n",
      "Train set: (1451900, 8), Test set: (362976, 8)\n",
      "X_train: (1451900, 8), X_test: (362976, 8)\n",
      "y_train: (1451900,), y_test: (362976,)\n",
      "Label mapping: {0: np.int64(-1), 1: np.int64(0), 2: np.int64(1)}\n"
     ]
    }
   ],
   "source": [
    "# Initialisation du DataPreprocessor\n",
    "preprocessor = DataPreprocessor()\n",
    "\n",
    "# Définition des colonnes features (XBT)\n",
    "feature_columns = [\n",
    "    \"V-bid-5-levels\",\n",
    "    \"V-ask-5-levels\",\n",
    "    \"slope-bid-5-levels\",\n",
    "    \"slope-ask-5-levels\"\n",
    "]\n",
    "\n",
    "feature_target_columns = [\n",
    "    \"V-bid-5-levels\",\n",
    "    \"V-ask-5-levels\",\n",
    "    \"slope-bid-5-levels\",\n",
    "    \"slope-ask-5-levels\"\n",
    "]\n",
    "\n",
    "target_column = \"return-vs-volatility-5-ms\"\n",
    "\n",
    "# Préparation des données (split train/test inclus)\n",
    "X_train, X_test, y_train, y_test = preprocessor.prepare_data(\n",
    "    features_df=df_xbt,\n",
    "    target_df=df_eth,\n",
    "    feature_columns=feature_columns,\n",
    "    features_columns_target=feature_target_columns,\n",
    "    target_column=target_column,\n",
    "    test_size=0.2,\n",
    "    target_lag=10,\n",
    ")\n",
    "\n",
    "print(f\"X_train: {X_train.shape}, X_test: {X_test.shape}\")\n",
    "print(f\"y_train: {y_train.shape}, y_test: {y_test.shape}\")\n",
    "print(f\"Label mapping: {preprocessor.get_label_mapping()}\")"
   ]
  },
  {
   "cell_type": "code",
   "execution_count": 75,
   "id": "2cf08940",
   "metadata": {},
   "outputs": [
    {
     "name": "stdout",
     "output_type": "stream",
     "text": [
      "=== DONNÉES AVANT ENTRAÎNEMENT ===\n",
      "\n",
      "X_train shape: (1451900, 8)\n",
      "X_train:\n",
      "[[ 8.21151910e+00  7.47207400e+00 -5.84544704e-01  1.17771853e+00\n",
      "   1.32389727e+02  7.54174759e+01 -3.62565896e-03  5.35619016e-03]\n",
      " [ 8.21151910e+00  7.47207400e+00 -5.84544704e-01  1.17771853e+00\n",
      "   1.32389727e+02  4.25751100e+01 -3.62565896e-03  6.81149150e-03]\n",
      " [ 8.21151910e+00  7.47207400e+00 -5.84544704e-01  1.17771853e+00\n",
      "   1.32389727e+02  7.68954290e+01 -3.62565896e-03  3.51126203e-03]\n",
      " [ 8.21151910e+00  7.47207400e+00 -5.84544704e-01  1.17771853e+00\n",
      "   1.49496442e+02  7.68954290e+01 -2.74254018e-03  3.51126203e-03]\n",
      " [ 8.21151910e+00  7.47207400e+00 -5.84544704e-01  1.17771853e+00\n",
      "   1.15168181e+02  7.68954290e+01 -2.17073845e-03  3.51126203e-03]]\n",
      "\n",
      "y_train shape: (1451900,)\n",
      "y_train:\n",
      "[1 1 1 1 1 1 1 1 1 1]\n",
      "\n",
      "X_test shape: (362976, 8)\n",
      "X_test:\n",
      "[[ 7.30240519e+00  4.93576890e-01 -4.38211783e-01  2.93773884e+01\n",
      "   5.19222225e+01  8.47350934e+01 -4.23710676e-03  3.89449031e-03]\n",
      " [ 7.30240519e+00  4.93576890e-01 -4.38211783e-01  2.93773884e+01\n",
      "   5.19222225e+01  8.47350934e+01 -4.23710676e-03  4.01250517e-03]\n",
      " [ 7.39530519e+00  4.93576890e-01 -4.32706956e-01  2.93773884e+01\n",
      "   5.19222222e+01  8.47350934e+01 -4.23710679e-03  4.01250517e-03]\n",
      " [ 7.39530519e+00  4.93576890e-01 -4.32706956e-01  2.93773884e+01\n",
      "   4.04006158e+01  1.09510053e+02 -6.12799800e-03  3.11285097e-03]\n",
      " [ 7.39530519e+00  4.93576890e-01 -4.32706956e-01  2.93773884e+01\n",
      "   3.46398130e+01  8.58404716e+01 -7.21712902e-03  4.65980664e-03]]\n",
      "\n",
      "y_test shape: (362976,)\n",
      "y_test:\n",
      "[0 0 0 0 0 0 0 0 0 0]\n",
      "\n",
      "Distribution des classes dans y_train:\n",
      "Classe 0: 86792 échantillons (5.98%)\n",
      "Classe 1: 1276698 échantillons (87.93%)\n",
      "Classe 2: 88410 échantillons (6.09%)\n"
     ]
    }
   ],
   "source": [
    "# Affichage des données avant l'entraînement\n",
    "print(\"=== DONNÉES AVANT ENTRAÎNEMENT ===\")\n",
    "print(f\"\\nX_train shape: {X_train.shape}\")\n",
    "print(f\"X_train:\\n{X_train[:5]}\")\n",
    "print(f\"\\ny_train shape: {y_train.shape}\")\n",
    "print(f\"y_train:\\n{y_train[:10]}\")\n",
    "print(f\"\\nX_test shape: {X_test.shape}\")\n",
    "print(f\"X_test:\\n{X_test[:5]}\")\n",
    "print(f\"\\ny_test shape: {y_test.shape}\")\n",
    "print(f\"y_test:\\n{y_test[:10]}\")\n",
    "print(f\"\\nDistribution des classes dans y_train:\")\n",
    "unique, counts = np.unique(y_train, return_counts=True)\n",
    "for u, c in zip(unique, counts):\n",
    "    print(f\"Classe {u}: {c} échantillons ({c/len(y_train)*100:.2f}%)\")"
   ]
  },
  {
   "cell_type": "code",
   "execution_count": 76,
   "id": "0718b937",
   "metadata": {},
   "outputs": [
    {
     "name": "stdout",
     "output_type": "stream",
     "text": [
      "=== VÉRIFICATION DES NaN DANS LES DONNÉES ===\n",
      "\n",
      "X_train contient des NaN: False\n",
      "\n",
      "X_test contient des NaN: False\n",
      "\n",
      "y_train contient des NaN: False\n",
      "\n",
      "y_test contient des NaN: False\n"
     ]
    }
   ],
   "source": [
    "# Vérification des NaN dans les données d'entraînement et de test\n",
    "print(\"=== VÉRIFICATION DES NaN DANS LES DONNÉES ===\")\n",
    "\n",
    "# Vérification X_train\n",
    "x_train_nan = np.isnan(X_train)\n",
    "x_train_has_nan = np.any(x_train_nan)\n",
    "print(f\"\\nX_train contient des NaN: {x_train_has_nan}\")\n",
    "if x_train_has_nan:\n",
    "    nan_indices = np.where(x_train_nan)\n",
    "    print(f\"Nombre total de NaN dans X_train: {np.sum(x_train_nan)}\")\n",
    "    print(f\"Lignes avec NaN: {np.unique(nan_indices[0])[:10]}...\")  # Affiche les 10 premières\n",
    "    print(f\"Colonnes avec NaN: {np.unique(nan_indices[1])}\")\n",
    "\n",
    "# Vérification X_test\n",
    "x_test_nan = np.isnan(X_test)\n",
    "x_test_has_nan = np.any(x_test_nan)\n",
    "print(f\"\\nX_test contient des NaN: {x_test_has_nan}\")\n",
    "if x_test_has_nan:\n",
    "    nan_indices = np.where(x_test_nan)\n",
    "    print(f\"Nombre total de NaN dans X_test: {np.sum(x_test_nan)}\")\n",
    "    print(f\"Lignes avec NaN: {np.unique(nan_indices[0])[:10]}...\")  # Affiche les 10 premières\n",
    "    print(f\"Colonnes avec NaN: {np.unique(nan_indices[1])}\")\n",
    "\n",
    "# Vérification y_train\n",
    "y_train_nan = np.isnan(y_train)\n",
    "y_train_has_nan = np.any(y_train_nan)\n",
    "print(f\"\\ny_train contient des NaN: {y_train_has_nan}\")\n",
    "if y_train_has_nan:\n",
    "    nan_indices = np.where(y_train_nan)[0]\n",
    "    print(f\"Nombre de NaN dans y_train: {np.sum(y_train_nan)}\")\n",
    "    print(f\"Indices avec NaN: {nan_indices[:10]}...\")  # Affiche les 10 premiers\n",
    "\n",
    "# Vérification y_test\n",
    "y_test_nan = np.isnan(y_test)\n",
    "y_test_has_nan = np.any(y_test_nan)\n",
    "print(f\"\\ny_test contient des NaN: {y_test_has_nan}\")\n",
    "if y_test_has_nan:\n",
    "    nan_indices = np.where(y_test_nan)[0]\n",
    "    print(f\"Nombre de NaN dans y_test: {np.sum(y_test_nan)}\")\n",
    "    print(f\"Indices avec NaN: {nan_indices[:10]}...\")  # Affiche les 10 premiers"
   ]
  },
  {
   "cell_type": "code",
   "execution_count": 77,
   "id": "a0736ee4",
   "metadata": {},
   "outputs": [
    {
     "name": "stdout",
     "output_type": "stream",
     "text": [
      "Class weights: {np.int64(0): np.float64(5.576166774203459), np.int64(1): np.float64(0.37907685816588316), np.int64(2): np.float64(5.474116804283075)}\n",
      "Sample weights shape: (1451900,)\n",
      "Sample weights min/max: 0.3791/5.5762\n"
     ]
    }
   ],
   "source": [
    "# Calcul des poids pour équilibrer les classes\n",
    "class_weights = compute_class_weight('balanced', classes=unique, y=y_train)\n",
    "class_weight_dict = dict(zip(unique, class_weights))\n",
    "print(f\"Class weights: {class_weight_dict}\")\n",
    "\n",
    "# Création des sample weights pour XGBoost\n",
    "sample_weights = np.array([class_weight_dict[label] for label in y_train])\n",
    "print(f\"Sample weights shape: {sample_weights.shape}\")\n",
    "print(f\"Sample weights min/max: {sample_weights.min():.4f}/{sample_weights.max():.4f}\")"
   ]
  },
  {
   "cell_type": "code",
   "execution_count": null,
   "id": "cbb3113c",
   "metadata": {},
   "outputs": [
    {
     "name": "stdout",
     "output_type": "stream",
     "text": [
      "Modèle XGBoost initialisé\n",
      "Paramètres: n_estimators=150, max_depth=5, learning_rate=0.15\n"
     ]
    }
   ],
   "source": [
    "# Initialisation du modèle XGBoost\n",
    "xgb_classifier = xgb.XGBClassifier(\n",
    "    n_estimators=150,\n",
    "    max_depth=5,\n",
    "    learning_rate=0.15,\n",
    "    subsample=0.8,\n",
    "    colsample_bytree=0.8,\n",
    "    random_state=42,\n",
    "    eval_metric='logloss',\n",
    "    use_label_encoder=False,\n",
    "    n_jobs=-1\n",
    ")\n",
    "\n",
    "print(\"Modèle XGBoost initialisé\")\n",
    "print(f\"Paramètres: n_estimators={xgb_classifier.n_estimators}, max_depth={xgb_classifier.max_depth}, learning_rate={xgb_classifier.learning_rate}\")"
   ]
  },
  {
   "cell_type": "code",
   "execution_count": 79,
   "id": "371046f6",
   "metadata": {},
   "outputs": [
    {
     "name": "stdout",
     "output_type": "stream",
     "text": [
      "Entraînement du modèle XGBoost en cours...\n"
     ]
    },
    {
     "name": "stderr",
     "output_type": "stream",
     "text": [
      "/raid/home/automatants/lahrach_cha/ChakibProjects/ifcob/.venv/lib/python3.10/site-packages/xgboost/training.py:183: UserWarning: [16:22:05] WARNING: /workspace/src/learner.cc:738: \n",
      "Parameters: { \"use_label_encoder\" } are not used.\n",
      "\n",
      "  bst.update(dtrain, iteration=i, fobj=obj)\n"
     ]
    },
    {
     "name": "stdout",
     "output_type": "stream",
     "text": [
      "Modèle XGBoost entraîné!\n"
     ]
    }
   ],
   "source": [
    "# Entraînement du modèle XGBoost\n",
    "print(\"Entraînement du modèle XGBoost en cours...\")\n",
    "xgb_classifier.fit(X_train, y_train, sample_weight=sample_weights, verbose=True)\n",
    "print(\"Modèle XGBoost entraîné!\")"
   ]
  },
  {
   "cell_type": "code",
   "execution_count": 80,
   "id": "7b9c6349",
   "metadata": {},
   "outputs": [
    {
     "name": "stdout",
     "output_type": "stream",
     "text": [
      "\n",
      "=== RÉSULTATS DU MODÈLE XGBOOST ===\n",
      "Train Accuracy: 0.5921\n",
      "Test Accuracy: 0.4867\n",
      "Différence (overfitting): 0.1054\n",
      "\n",
      "=== CLASSIFICATION REPORT (TEST SET) ===\n",
      "              precision    recall  f1-score   support\n",
      "\n",
      "           0       0.06      0.23      0.10     20167\n",
      "           1       0.89      0.51      0.65    321301\n",
      "           2       0.07      0.34      0.12     21508\n",
      "\n",
      "    accuracy                           0.49    362976\n",
      "   macro avg       0.34      0.36      0.29    362976\n",
      "weighted avg       0.80      0.49      0.59    362976\n",
      "\n",
      "\n",
      "=== CONFUSION MATRIX (TEST SET) ===\n",
      "[[  4722  10050   5395]\n",
      " [ 67000 164626  89675]\n",
      " [  3805  10402   7301]]\n"
     ]
    }
   ],
   "source": [
    "# Prédictions et évaluation\n",
    "y_pred = xgb_classifier.predict(X_test)\n",
    "y_train_pred = xgb_classifier.predict(X_train)\n",
    "\n",
    "train_acc = accuracy_score(y_train, y_train_pred)\n",
    "test_acc = accuracy_score(y_test, y_pred)\n",
    "\n",
    "print(f\"\\n=== RÉSULTATS DU MODÈLE XGBOOST ===\")\n",
    "print(f\"Train Accuracy: {train_acc:.4f}\")\n",
    "print(f\"Test Accuracy: {test_acc:.4f}\")\n",
    "print(f\"Différence (overfitting): {train_acc - test_acc:.4f}\")\n",
    "\n",
    "print(\"\\n=== CLASSIFICATION REPORT (TEST SET) ===\")\n",
    "print(classification_report(y_test, y_pred))\n",
    "\n",
    "print(\"\\n=== CONFUSION MATRIX (TEST SET) ===\")\n",
    "print(confusion_matrix(y_test, y_pred))"
   ]
  },
  {
   "cell_type": "code",
   "execution_count": 81,
   "id": "6b591298",
   "metadata": {},
   "outputs": [
    {
     "data": {
      "image/png": "[encoded data removed]",
      "text/plain": [
       "<Figure size 1200x800 with 1 Axes>"
      ]
     },
     "metadata": {},
     "output_type": "display_data"
    },
    {
     "name": "stdout",
     "output_type": "stream",
     "text": [
      "\n",
      "Importances des features (avec suffixes XBT/ETH):\n",
      "slope-bid-5-levels_XBT: 0.1370\n",
      "slope-ask-5-levels_XBT: 0.1365\n",
      "V-ask-5-levels_XBT: 0.1309\n",
      "V-bid-5-levels_XBT: 0.1296\n",
      "slope-bid-5-levels_ETH: 0.1262\n",
      "V-bid-5-levels_ETH: 0.1239\n",
      "slope-ask-5-levels_ETH: 0.1153\n",
      "V-ask-5-levels_ETH: 0.1006\n"
     ]
    }
   ],
   "source": [
    "\n",
    "# Ajout de suffixes pour distinguer les sources XBT et ETH\n",
    "xbt_features = [f\"{col}_XBT\" for col in feature_columns]\n",
    "eth_features = [f\"{col}_ETH\" for col in feature_target_columns if col != target_column]\n",
    "\n",
    "# Concaténation des deux listes dans l'ordre d'entrée du modèle\n",
    "actual_feature_names = xbt_features + eth_features\n",
    "\n",
    "# Vérification des dimensions avec le modèle\n",
    "if len(actual_feature_names) == len(xgb_classifier.feature_importances_):\n",
    "    # Création du DataFrame des importances corrigées\n",
    "    feature_importance_corrected = pd.DataFrame({\n",
    "        'feature': actual_feature_names,\n",
    "        'importance': xgb_classifier.feature_importances_\n",
    "    }).sort_values('importance', ascending=False)\n",
    "\n",
    "    # Affichage du barplot\n",
    "    plt.figure(figsize=(12, 8))\n",
    "    plt.barh(feature_importance_corrected['feature'], feature_importance_corrected['importance'], color='lightgreen')\n",
    "    plt.xlabel('Importance')\n",
    "    plt.title('Importance des Features - XGBoost (XBT vs ETH)')\n",
    "    plt.gca().invert_yaxis()\n",
    "    plt.tight_layout()\n",
    "    plt.show()\n",
    "\n",
    "    # Affichage textuel des importances\n",
    "    print(\"\\nImportances des features (avec suffixes XBT/ETH):\")\n",
    "    for idx, row in feature_importance_corrected.iterrows():\n",
    "        print(f\"{row['feature']}: {row['importance']:.4f}\")\n",
    "else:\n",
    "    print(f\"❌ Erreur: {len(actual_feature_names)} noms vs {len(xgb_classifier.feature_importances_)} importances\")\n"
   ]
  },
  {
   "cell_type": "code",
   "execution_count": 82,
   "id": "15f6bd49",
   "metadata": {},
   "outputs": [
    {
     "data": {
      "image/png": "[encoded data removed]",
      "text/plain": [
       "<Figure size 600x500 with 2 Axes>"
      ]
     },
     "metadata": {},
     "output_type": "display_data"
    }
   ],
   "source": [
    "# Visualisation de la matrice de confusion\n",
    "plt.figure(figsize=(6, 5))\n",
    "sns.heatmap(confusion_matrix(y_test, y_pred), annot=True, fmt='d', cmap='Blues')\n",
    "plt.title('Confusion Matrix - Test Set')\n",
    "plt.ylabel('True Label')\n",
    "plt.xlabel('Predicted Label')\n",
    "plt.tight_layout()\n",
    "plt.show()"
   ]
  },
  {
   "cell_type": "code",
   "execution_count": 83,
   "id": "8ef1c48b",
   "metadata": {},
   "outputs": [
    {
     "name": "stdout",
     "output_type": "stream",
     "text": [
      "\n",
      "=== COMPARAISON DE DIFFÉRENTS PARAMÈTRES XGBOOST ===\n",
      "\n",
      "Test 1: n_est=50, lr=0.05, depth=2\n"
     ]
    },
    {
     "name": "stderr",
     "output_type": "stream",
     "text": [
      "/raid/home/automatants/lahrach_cha/ChakibProjects/ifcob/.venv/lib/python3.10/site-packages/xgboost/training.py:183: UserWarning: [16:22:21] WARNING: /workspace/src/learner.cc:738: \n",
      "Parameters: { \"use_label_encoder\" } are not used.\n",
      "\n",
      "  bst.update(dtrain, iteration=i, fobj=obj)\n"
     ]
    },
    {
     "name": "stdout",
     "output_type": "stream",
     "text": [
      "Accuracy: 0.3712\n",
      "\n",
      "Test 2: n_est=100, lr=0.1, depth=3\n"
     ]
    },
    {
     "name": "stderr",
     "output_type": "stream",
     "text": [
      "/raid/home/automatants/lahrach_cha/ChakibProjects/ifcob/.venv/lib/python3.10/site-packages/xgboost/training.py:183: UserWarning: [16:22:24] WARNING: /workspace/src/learner.cc:738: \n",
      "Parameters: { \"use_label_encoder\" } are not used.\n",
      "\n",
      "  bst.update(dtrain, iteration=i, fobj=obj)\n"
     ]
    },
    {
     "name": "stdout",
     "output_type": "stream",
     "text": [
      "Accuracy: 0.3488\n",
      "\n",
      "Test 3: n_est=150, lr=0.15, depth=4\n"
     ]
    },
    {
     "name": "stderr",
     "output_type": "stream",
     "text": [
      "/raid/home/automatants/lahrach_cha/ChakibProjects/ifcob/.venv/lib/python3.10/site-packages/xgboost/training.py:183: UserWarning: [16:22:31] WARNING: /workspace/src/learner.cc:738: \n",
      "Parameters: { \"use_label_encoder\" } are not used.\n",
      "\n",
      "  bst.update(dtrain, iteration=i, fobj=obj)\n"
     ]
    },
    {
     "name": "stdout",
     "output_type": "stream",
     "text": [
      "Accuracy: 0.4218\n",
      "\n",
      "Test 4: n_est=200, lr=0.08, depth=3\n"
     ]
    },
    {
     "name": "stderr",
     "output_type": "stream",
     "text": [
      "/raid/home/automatants/lahrach_cha/ChakibProjects/ifcob/.venv/lib/python3.10/site-packages/xgboost/training.py:183: UserWarning: [16:22:43] WARNING: /workspace/src/learner.cc:738: \n",
      "Parameters: { \"use_label_encoder\" } are not used.\n",
      "\n",
      "  bst.update(dtrain, iteration=i, fobj=obj)\n"
     ]
    },
    {
     "name": "stdout",
     "output_type": "stream",
     "text": [
      "Accuracy: 0.3717\n",
      "\n",
      "=== MEILLEUR PARAMÉTRAGE ===\n",
      "Paramètres: {'n_estimators': 150, 'learning_rate': 0.15, 'max_depth': 4}\n",
      "Accuracy: 0.4218\n"
     ]
    }
   ],
   "source": [
    "# Test avec différents paramètres XGBoost\n",
    "print(\"\\n=== COMPARAISON DE DIFFÉRENTS PARAMÈTRES XGBOOST ===\")\n",
    "\n",
    "params_to_test = [\n",
    "    {'n_estimators': 50, 'learning_rate': 0.05, 'max_depth': 2},\n",
    "    {'n_estimators': 100, 'learning_rate': 0.1, 'max_depth': 3},\n",
    "    {'n_estimators': 150, 'learning_rate': 0.15, 'max_depth': 4},\n",
    "    {'n_estimators': 200, 'learning_rate': 0.08, 'max_depth': 3},\n",
    "]\n",
    "\n",
    "results = []\n",
    "\n",
    "for i, params in enumerate(params_to_test):\n",
    "    print(f\"\\nTest {i+1}: n_est={params['n_estimators']}, lr={params['learning_rate']}, depth={params['max_depth']}\")\n",
    "    \n",
    "    # Créer un nouveau modèle avec ces paramètres\n",
    "    temp_classifier = xgb.XGBClassifier(\n",
    "        n_estimators=params['n_estimators'],\n",
    "        learning_rate=params['learning_rate'],\n",
    "        max_depth=params['max_depth'],\n",
    "        subsample=0.8,\n",
    "        colsample_bytree=0.8,\n",
    "        random_state=42,\n",
    "        eval_metric='logloss',\n",
    "        use_label_encoder=False\n",
    "    )\n",
    "    \n",
    "    # Entraîner\n",
    "    temp_classifier.fit(X_train, y_train, sample_weight=sample_weights, verbose=False)\n",
    "    \n",
    "    # Prédire\n",
    "    temp_pred = temp_classifier.predict(X_test)\n",
    "    temp_accuracy = accuracy_score(y_test, temp_pred)\n",
    "    \n",
    "    results.append({\n",
    "        'params': params,\n",
    "        'accuracy': temp_accuracy\n",
    "    })\n",
    "    \n",
    "    print(f\"Accuracy: {temp_accuracy:.4f}\")\n",
    "\n",
    "# Meilleur modèle\n",
    "best_result = max(results, key=lambda x: x['accuracy'])\n",
    "print(f\"\\n=== MEILLEUR PARAMÉTRAGE ===\")\n",
    "print(f\"Paramètres: {best_result['params']}\")\n",
    "print(f\"Accuracy: {best_result['accuracy']:.4f}\")"
   ]
  }
 ],
 "metadata": {
  "kernelspec": {
   "display_name": ".venv",
   "language": "python",
   "name": "python3"
  },
  "language_info": {
   "codemirror_mode": {
    "name": "ipython",
    "version": 3
   },
   "file_extension": ".py",
   "mimetype": "text/x-python",
   "name": "python",
   "nbconvert_exporter": "python",
   "pygments_lexer": "ipython3",
   "version": "3.13.2"
  }
 },
 "nbformat": 4,
 "nbformat_minor": 5
}
