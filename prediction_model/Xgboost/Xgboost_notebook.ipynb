{
 "cells": [
  {
   "cell_type": "markdown",
   "id": "adc1b325",
   "metadata": {},
   "source": [
    "# XGBoost Classification Model (Clean Version)\n",
    "\n",
    "Ce notebook utilise l'utilitaire DataPreprocessor pour préparer les données et entraîner un modèle XGBoost pour la classification de signaux de trading crypto."
   ]
  },
  {
   "cell_type": "code",
   "execution_count": 51,
   "id": "7381ec74",
   "metadata": {},
   "outputs": [
    {
     "name": "stdout",
     "output_type": "stream",
     "text": [
      "Project root ajouté au sys.path : /raid/home/automatants/lahrach_cha/ChakibProjects/ifcob\n"
     ]
    }
   ],
   "source": [
    "import sys\n",
    "import os\n",
    "# Ajoute le dossier racine du projet au sys.path\n",
    "project_root = os.path.abspath(os.path.join(os.getcwd(), \"../..\"))\n",
    "if project_root not in sys.path:\n",
    "    sys.path.insert(0, project_root)\n",
    "print(\"Project root ajouté au sys.path :\", project_root)"
   ]
  },
  {
   "cell_type": "code",
   "execution_count": 52,
   "id": "0a4f39f3",
   "metadata": {},
   "outputs": [],
   "source": [
    "# Imports principaux\n",
    "import pandas as pd\n",
    "import numpy as np\n",
    "from prediction_model.data_preprocess import DataPreprocessor\n",
    "import xgboost as xgb\n",
    "from sklearn.metrics import accuracy_score, classification_report, confusion_matrix\n",
    "from sklearn.utils.class_weight import compute_class_weight\n",
    "import matplotlib.pyplot as plt\n",
    "import seaborn as sns"
   ]
  },
  {
   "cell_type": "code",
   "execution_count": 53,
   "id": "d144b942",
   "metadata": {},
   "outputs": [
    {
     "name": "stdout",
     "output_type": "stream",
     "text": [
      "ETH shape: (1817685, 63)\n",
      "XBT shape: (563395, 63)\n"
     ]
    }
   ],
   "source": [
    "# Chargement des données ETH et XBT\n",
    "eth_path = \"../../data/features/DATA_0/ETH_EUR.parquet\"\n",
    "xbt_path = \"../../data/features/DATA_0/XBT_EUR.parquet\"\n",
    "df_eth = pd.read_parquet(eth_path)\n",
    "df_xbt = pd.read_parquet(xbt_path)\n",
    "print(f\"ETH shape: {df_eth.shape}\")\n",
    "print(f\"XBT shape: {df_xbt.shape}\")"
   ]
  },
  {
   "cell_type": "code",
   "execution_count": 54,
   "id": "9f9941ea",
   "metadata": {},
   "outputs": [
    {
     "data": {
      "text/plain": [
       "Index(['bid-ask-imbalance-5-levels', 'spread', 'slope-bid-5-levels',\n",
       "       'slope-ask-5-levels', 'vwap-bid-5-levels', 'vwap-ask-5-levels',\n",
       "       'liquidity-ratio-5-levels', 'rate-inst-volatility-20-sample',\n",
       "       'rate-momentum-20-sample', 'rate-mid-price-trend-20-sample',\n",
       "       'rate-bid-volume-level-1', 'rate-ask-volume-level-1', 'V-bid-5-levels',\n",
       "       'V-ask-5-levels', 'inst-return', 'return-all-signed-for-5-ms',\n",
       "       'return-all-signed-for-10-ms', 'return-all-signed-for-20-ms',\n",
       "       'return-vs-volatility-5-ms', 'return-vs-volatility-10-ms',\n",
       "       'return-vs-volatility-20-ms', 'sharpe-ratio-quantile-calibrated-5-ms',\n",
       "       'level-1-bid-price', 'level-1-bid-volume', 'level-2-bid-price',\n",
       "       'level-2-bid-volume', 'level-3-bid-price', 'level-3-bid-volume',\n",
       "       'level-4-bid-price', 'level-4-bid-volume', 'level-5-bid-price',\n",
       "       'level-5-bid-volume', 'level-6-bid-price', 'level-6-bid-volume',\n",
       "       'level-7-bid-price', 'level-7-bid-volume', 'level-8-bid-price',\n",
       "       'level-8-bid-volume', 'level-9-bid-price', 'level-9-bid-volume',\n",
       "       'level-10-bid-price', 'level-10-bid-volume', 'level-1-ask-price',\n",
       "       'level-1-ask-volume', 'level-2-ask-price', 'level-2-ask-volume',\n",
       "       'level-3-ask-price', 'level-3-ask-volume', 'level-4-ask-price',\n",
       "       'level-4-ask-volume', 'level-5-ask-price', 'level-5-ask-volume',\n",
       "       'level-6-ask-price', 'level-6-ask-volume', 'level-7-ask-price',\n",
       "       'level-7-ask-volume', 'level-8-ask-price', 'level-8-ask-volume',\n",
       "       'level-9-ask-price', 'level-9-ask-volume', 'level-10-ask-price',\n",
       "       'level-10-ask-volume', 'timestamp'],\n",
       "      dtype='object')"
      ]
     },
     "execution_count": 54,
     "metadata": {},
     "output_type": "execute_result"
    }
   ],
   "source": [
    "df_eth.columns"
   ]
  },
  {
   "cell_type": "code",
   "execution_count": 55,
   "id": "140a8f64",
   "metadata": {},
   "outputs": [
    {
     "name": "stdout",
     "output_type": "stream",
     "text": [
      "=== PRÉPARATION DES DONNÉES ADABOOST ===\n",
      "Étape 1: Extraction du target 'sharpe-ratio-quantile-calibrated-5-ms'...\n",
      "Target shape: (1817685,)\n",
      "Étape 2: Sélection des features...\n",
      "Features sélectionnées: ['bid-ask-imbalance-5-levels', 'spread', 'inst-return', 'V-bid-5-levels', 'V-ask-5-levels', 'slope-bid-5-levels', 'slope-ask-5-levels']\n",
      "Features shape avant dropna: (563395, 7)\n",
      "Features shape après dropna: (562683, 7)\n",
      "Étape 3: Alignement temporel avec np.searchsorted...\n",
      "Features après filtrage: (1817685, 7)\n",
      "Indices filtrés: 1817685\n",
      "Étape 4: Création des DataFrames nettoyés...\n",
      "Données après dropna et filtrage NaN: (1817685, 7)\n",
      "Target après dropna et filtrage NaN: (1817685,)\n",
      "Distribution des classes:\n",
      "sharpe-ratio-quantile-calibrated-5-ms\n",
      "-1     181769\n",
      " 0    1454147\n",
      " 1     181769\n",
      "Name: count, dtype: int64\n",
      "Proportions des classes:\n",
      "sharpe-ratio-quantile-calibrated-5-ms\n",
      "-1    0.100000\n",
      " 0    0.799999\n",
      " 1    0.100000\n",
      "Name: proportion, dtype: float64\n",
      "Étape 5: Conversion en arrays numpy...\n",
      "\n",
      "=== RÉSULTAT FINAL ===\n",
      "Features (X): (1817685, 7)\n",
      "Labels encodés (y): (1817685,)\n",
      "Mapping des labels: {np.int64(-1): 0, np.int64(0): 1, np.int64(1): 2}\n",
      "Étape 6: Split train/test chronologique...\n",
      "Train set: (1454148, 7), Test set: (363537, 7)\n",
      "X_train: (1454148, 7), X_test: (363537, 7)\n",
      "y_train: (1454148,), y_test: (363537,)\n",
      "Label mapping: {0: np.int64(-1), 1: np.int64(0), 2: np.int64(1)}\n"
     ]
    }
   ],
   "source": [
    "# Initialisation du DataPreprocessor\n",
    "preprocessor = DataPreprocessor()\n",
    "\n",
    "# Définition des colonnes features (XBT)\n",
    "feature_columns = [\n",
    "    \"bid-ask-imbalance-5-levels\",\n",
    "    \"spread\",\n",
    "    \"inst-return\",\n",
    "    \"V-bid-5-levels\",\n",
    "    \"V-ask-5-levels\",\n",
    "    \"slope-bid-5-levels\",\n",
    "    \"slope-ask-5-levels\"\n",
    "]\n",
    "\n",
    "target_column = \"sharpe-ratio-quantile-calibrated-5-ms\"\n",
    "\n",
    "# Préparation des données (split train/test inclus)\n",
    "X_train, X_test, y_train, y_test = preprocessor.prepare_data(\n",
    "    features_df=df_xbt,\n",
    "    target_df=df_eth,\n",
    "    feature_columns=feature_columns,\n",
    "    target_column=target_column,\n",
    "    test_size=0.2\n",
    ")\n",
    "print(f\"X_train: {X_train.shape}, X_test: {X_test.shape}\")\n",
    "print(f\"y_train: {y_train.shape}, y_test: {y_test.shape}\")\n",
    "print(f\"Label mapping: {preprocessor.get_label_mapping()}\")"
   ]
  },
  {
   "cell_type": "code",
   "execution_count": 56,
   "id": "2cf08940",
   "metadata": {},
   "outputs": [
    {
     "name": "stdout",
     "output_type": "stream",
     "text": [
      "=== DONNÉES AVANT ENTRAÎNEMENT ===\n",
      "\n",
      "X_train shape: (1454148, 7)\n",
      "X_train:\n",
      "[[ 0.04714768  0.1         0.          8.2115191   7.472074   -0.5845447\n",
      "   1.17771853]\n",
      " [ 0.04714768  0.1         0.          8.2115191   7.472074   -0.5845447\n",
      "   1.17771853]\n",
      " [ 0.04714768  0.1         0.          8.2115191   7.472074   -0.5845447\n",
      "   1.17771853]\n",
      " [ 0.04714768  0.1         0.          8.2115191   7.472074   -0.5845447\n",
      "   1.17771853]\n",
      " [ 0.04714768  0.1         0.          8.2115191   7.472074   -0.5845447\n",
      "   1.17771853]]\n",
      "\n",
      "y_train shape: (1454148,)\n",
      "y_train:\n",
      "[0 0 0 0 0 0 0 0 0 0]\n",
      "\n",
      "X_test shape: (363537, 7)\n",
      "X_test:\n",
      "[[ 0.54170144  0.1         0.          7.78442349  2.31406029 -0.21838483\n",
      "  10.03320524]\n",
      " [ 0.54170144  0.1         0.          7.78442349  2.31406029 -0.21838483\n",
      "  10.03320524]\n",
      " [ 0.54170144  0.1         0.          7.78442349  2.31406029 -0.21838483\n",
      "  10.03320524]\n",
      " [ 0.54170144  0.1         0.          7.78442349  2.31406029 -0.21838483\n",
      "  10.03320524]\n",
      " [ 0.54170144  0.1         0.          7.78442349  2.31406029 -0.21838483\n",
      "  10.03320524]]\n",
      "\n",
      "y_test shape: (363537,)\n",
      "y_test:\n",
      "[1 1 1 1 1 1 1 1 1 1]\n",
      "\n",
      "Distribution des classes dans y_train:\n",
      "Classe 0: 143028 échantillons (9.84%)\n",
      "Classe 1: 1151994 échantillons (79.22%)\n",
      "Classe 2: 159126 échantillons (10.94%)\n"
     ]
    }
   ],
   "source": [
    "# Affichage des données avant l'entraînement\n",
    "print(\"=== DONNÉES AVANT ENTRAÎNEMENT ===\")\n",
    "print(f\"\\nX_train shape: {X_train.shape}\")\n",
    "print(f\"X_train:\\n{X_train[:5]}\")\n",
    "print(f\"\\ny_train shape: {y_train.shape}\")\n",
    "print(f\"y_train:\\n{y_train[:10]}\")\n",
    "print(f\"\\nX_test shape: {X_test.shape}\")\n",
    "print(f\"X_test:\\n{X_test[:5]}\")\n",
    "print(f\"\\ny_test shape: {y_test.shape}\")\n",
    "print(f\"y_test:\\n{y_test[:10]}\")\n",
    "print(f\"\\nDistribution des classes dans y_train:\")\n",
    "unique, counts = np.unique(y_train, return_counts=True)\n",
    "for u, c in zip(unique, counts):\n",
    "    print(f\"Classe {u}: {c} échantillons ({c/len(y_train)*100:.2f}%)\")"
   ]
  },
  {
   "cell_type": "code",
   "execution_count": 57,
   "id": "0718b937",
   "metadata": {},
   "outputs": [
    {
     "name": "stdout",
     "output_type": "stream",
     "text": [
      "=== VÉRIFICATION DES NaN DANS LES DONNÉES ===\n",
      "\n",
      "X_train contient des NaN: False\n",
      "\n",
      "X_test contient des NaN: False\n",
      "\n",
      "y_train contient des NaN: False\n",
      "\n",
      "y_test contient des NaN: False\n"
     ]
    }
   ],
   "source": [
    "# Vérification des NaN dans les données d'entraînement et de test\n",
    "print(\"=== VÉRIFICATION DES NaN DANS LES DONNÉES ===\")\n",
    "\n",
    "# Vérification X_train\n",
    "x_train_nan = np.isnan(X_train)\n",
    "x_train_has_nan = np.any(x_train_nan)\n",
    "print(f\"\\nX_train contient des NaN: {x_train_has_nan}\")\n",
    "if x_train_has_nan:\n",
    "    nan_indices = np.where(x_train_nan)\n",
    "    print(f\"Nombre total de NaN dans X_train: {np.sum(x_train_nan)}\")\n",
    "    print(f\"Lignes avec NaN: {np.unique(nan_indices[0])[:10]}...\")  # Affiche les 10 premières\n",
    "    print(f\"Colonnes avec NaN: {np.unique(nan_indices[1])}\")\n",
    "\n",
    "# Vérification X_test\n",
    "x_test_nan = np.isnan(X_test)\n",
    "x_test_has_nan = np.any(x_test_nan)\n",
    "print(f\"\\nX_test contient des NaN: {x_test_has_nan}\")\n",
    "if x_test_has_nan:\n",
    "    nan_indices = np.where(x_test_nan)\n",
    "    print(f\"Nombre total de NaN dans X_test: {np.sum(x_test_nan)}\")\n",
    "    print(f\"Lignes avec NaN: {np.unique(nan_indices[0])[:10]}...\")  # Affiche les 10 premières\n",
    "    print(f\"Colonnes avec NaN: {np.unique(nan_indices[1])}\")\n",
    "\n",
    "# Vérification y_train\n",
    "y_train_nan = np.isnan(y_train)\n",
    "y_train_has_nan = np.any(y_train_nan)\n",
    "print(f\"\\ny_train contient des NaN: {y_train_has_nan}\")\n",
    "if y_train_has_nan:\n",
    "    nan_indices = np.where(y_train_nan)[0]\n",
    "    print(f\"Nombre de NaN dans y_train: {np.sum(y_train_nan)}\")\n",
    "    print(f\"Indices avec NaN: {nan_indices[:10]}...\")  # Affiche les 10 premiers\n",
    "\n",
    "# Vérification y_test\n",
    "y_test_nan = np.isnan(y_test)\n",
    "y_test_has_nan = np.any(y_test_nan)\n",
    "print(f\"\\ny_test contient des NaN: {y_test_has_nan}\")\n",
    "if y_test_has_nan:\n",
    "    nan_indices = np.where(y_test_nan)[0]\n",
    "    print(f\"Nombre de NaN dans y_test: {np.sum(y_test_nan)}\")\n",
    "    print(f\"Indices avec NaN: {nan_indices[:10]}...\")  # Affiche les 10 premiers"
   ]
  },
  {
   "cell_type": "code",
   "execution_count": 58,
   "id": "a0736ee4",
   "metadata": {},
   "outputs": [
    {
     "name": "stdout",
     "output_type": "stream",
     "text": [
      "Class weights: {np.int64(0): np.float64(3.3889588052688984), np.int64(1): np.float64(0.42076260813858407), np.int64(2): np.float64(3.0461143999095057)}\n",
      "Sample weights shape: (1454148,)\n",
      "Sample weights min/max: 0.4208/3.3890\n"
     ]
    }
   ],
   "source": [
    "# Calcul des poids pour équilibrer les classes\n",
    "class_weights = compute_class_weight('balanced', classes=unique, y=y_train)\n",
    "class_weight_dict = dict(zip(unique, class_weights))\n",
    "print(f\"Class weights: {class_weight_dict}\")\n",
    "\n",
    "# Création des sample weights pour XGBoost\n",
    "sample_weights = np.array([class_weight_dict[label] for label in y_train])\n",
    "print(f\"Sample weights shape: {sample_weights.shape}\")\n",
    "print(f\"Sample weights min/max: {sample_weights.min():.4f}/{sample_weights.max():.4f}\")"
   ]
  },
  {
   "cell_type": "code",
   "execution_count": 66,
   "id": "cbb3113c",
   "metadata": {},
   "outputs": [
    {
     "name": "stdout",
     "output_type": "stream",
     "text": [
      "Modèle XGBoost initialisé\n",
      "Paramètres: n_estimators=150, max_depth=5, learning_rate=0.15\n"
     ]
    }
   ],
   "source": [
    "# Initialisation du modèle XGBoost\n",
    "xgb_classifier = xgb.XGBClassifier(\n",
    "    n_estimators=150,\n",
    "    max_depth=5,\n",
    "    learning_rate=0.15,\n",
    "    subsample=0.8,\n",
    "    colsample_bytree=0.8,\n",
    "    random_state=42,\n",
    "    eval_metric='logloss',\n",
    "    use_label_encoder=False\n",
    ")\n",
    "\n",
    "print(\"Modèle XGBoost initialisé\")\n",
    "print(f\"Paramètres: n_estimators={xgb_classifier.n_estimators}, max_depth={xgb_classifier.max_depth}, learning_rate={xgb_classifier.learning_rate}\")"
   ]
  },
  {
   "cell_type": "code",
   "execution_count": 67,
   "id": "371046f6",
   "metadata": {},
   "outputs": [
    {
     "name": "stdout",
     "output_type": "stream",
     "text": [
      "Entraînement du modèle XGBoost en cours...\n"
     ]
    },
    {
     "name": "stderr",
     "output_type": "stream",
     "text": [
      "/raid/home/automatants/lahrach_cha/ChakibProjects/ifcob/.venv/lib/python3.10/site-packages/xgboost/training.py:183: UserWarning: [14:34:04] WARNING: /workspace/src/learner.cc:738: \n",
      "Parameters: { \"use_label_encoder\" } are not used.\n",
      "\n",
      "  bst.update(dtrain, iteration=i, fobj=obj)\n"
     ]
    },
    {
     "name": "stdout",
     "output_type": "stream",
     "text": [
      "Modèle XGBoost entraîné!\n"
     ]
    }
   ],
   "source": [
    "# Entraînement du modèle XGBoost\n",
    "print(\"Entraînement du modèle XGBoost en cours...\")\n",
    "xgb_classifier.fit(X_train, y_train, sample_weight=sample_weights, verbose=False)\n",
    "print(\"Modèle XGBoost entraîné!\")"
   ]
  },
  {
   "cell_type": "code",
   "execution_count": 68,
   "id": "7b9c6349",
   "metadata": {},
   "outputs": [
    {
     "name": "stdout",
     "output_type": "stream",
     "text": [
      "\n",
      "=== RÉSULTATS DU MODÈLE XGBOOST ===\n",
      "Train Accuracy: 0.5663\n",
      "Test Accuracy: 0.4429\n",
      "Différence (overfitting): 0.1234\n",
      "\n",
      "=== CLASSIFICATION REPORT (TEST SET) ===\n",
      "              precision    recall  f1-score   support\n",
      "\n",
      "           0       0.12      0.25      0.16     38741\n",
      "           1       0.83      0.47      0.60    302153\n",
      "           2       0.08      0.37      0.12     22643\n",
      "\n",
      "    accuracy                           0.44    363537\n",
      "   macro avg       0.34      0.36      0.30    363537\n",
      "weighted avg       0.71      0.44      0.53    363537\n",
      "\n",
      "\n",
      "=== CONFUSION MATRIX (TEST SET) ===\n",
      "[[  9543  18591  10607]\n",
      " [ 65422 143008  93723]\n",
      " [  4367   9816   8460]]\n"
     ]
    }
   ],
   "source": [
    "# Prédictions et évaluation\n",
    "y_pred = xgb_classifier.predict(X_test)\n",
    "y_train_pred = xgb_classifier.predict(X_train)\n",
    "\n",
    "train_acc = accuracy_score(y_train, y_train_pred)\n",
    "test_acc = accuracy_score(y_test, y_pred)\n",
    "\n",
    "print(f\"\\n=== RÉSULTATS DU MODÈLE XGBOOST ===\")\n",
    "print(f\"Train Accuracy: {train_acc:.4f}\")\n",
    "print(f\"Test Accuracy: {test_acc:.4f}\")\n",
    "print(f\"Différence (overfitting): {train_acc - test_acc:.4f}\")\n",
    "\n",
    "print(\"\\n=== CLASSIFICATION REPORT (TEST SET) ===\")\n",
    "print(classification_report(y_test, y_pred))\n",
    "\n",
    "print(\"\\n=== CONFUSION MATRIX (TEST SET) ===\")\n",
    "print(confusion_matrix(y_test, y_pred))"
   ]
  },
  {
   "cell_type": "code",
   "execution_count": 62,
   "id": "6b591298",
   "metadata": {},
   "outputs": [
    {
     "name": "stdout",
     "output_type": "stream",
     "text": [
      "\n",
      "=== IMPORTANCE DES FEATURES ===\n",
      "                      feature  importance\n",
      "5          slope-bid-5-levels    0.238303\n",
      "6          slope-ask-5-levels    0.185049\n",
      "3              V-bid-5-levels    0.162366\n",
      "4              V-ask-5-levels    0.148348\n",
      "0  bid-ask-imbalance-5-levels    0.142113\n",
      "2                 inst-return    0.073918\n",
      "1                      spread    0.049902\n"
     ]
    },
    {
     "data": {
      "image/png": "[encoded data removed]",
      "text/plain": [
       "<Figure size 800x500 with 1 Axes>"
      ]
     },
     "metadata": {},
     "output_type": "display_data"
    }
   ],
   "source": [
    "# Visualisation des importances des features\n",
    "feature_importance = pd.DataFrame({\n",
    "    'feature': feature_columns,\n",
    "    'importance': xgb_classifier.feature_importances_\n",
    "}).sort_values('importance', ascending=False)\n",
    "\n",
    "print(\"\\n=== IMPORTANCE DES FEATURES ===\")\n",
    "print(feature_importance)\n",
    "\n",
    "plt.figure(figsize=(8, 5))\n",
    "plt.barh(feature_importance['feature'], feature_importance['importance'])\n",
    "plt.xlabel('Importance')\n",
    "plt.title('Importance des Features - XGBoost')\n",
    "plt.gca().invert_yaxis()\n",
    "plt.tight_layout()\n",
    "plt.show()"
   ]
  },
  {
   "cell_type": "code",
   "execution_count": 63,
   "id": "15f6bd49",
   "metadata": {},
   "outputs": [
    {
     "data": {
      "image/png": "[encoded data removed]",
      "text/plain": [
       "<Figure size 600x500 with 2 Axes>"
      ]
     },
     "metadata": {},
     "output_type": "display_data"
    }
   ],
   "source": [
    "# Visualisation de la matrice de confusion\n",
    "plt.figure(figsize=(6, 5))\n",
    "sns.heatmap(confusion_matrix(y_test, y_pred), annot=True, fmt='d', cmap='Blues')\n",
    "plt.title('Confusion Matrix - Test Set')\n",
    "plt.ylabel('True Label')\n",
    "plt.xlabel('Predicted Label')\n",
    "plt.tight_layout()\n",
    "plt.show()"
   ]
  },
  {
   "cell_type": "code",
   "execution_count": 64,
   "id": "8ef1c48b",
   "metadata": {},
   "outputs": [
    {
     "name": "stdout",
     "output_type": "stream",
     "text": [
      "\n",
      "=== COMPARAISON DE DIFFÉRENTS PARAMÈTRES XGBOOST ===\n",
      "\n",
      "Test 1: n_est=50, lr=0.05, depth=2\n"
     ]
    },
    {
     "name": "stderr",
     "output_type": "stream",
     "text": [
      "/raid/home/automatants/lahrach_cha/ChakibProjects/ifcob/.venv/lib/python3.10/site-packages/xgboost/training.py:183: UserWarning: [14:30:00] WARNING: /workspace/src/learner.cc:738: \n",
      "Parameters: { \"use_label_encoder\" } are not used.\n",
      "\n",
      "  bst.update(dtrain, iteration=i, fobj=obj)\n"
     ]
    },
    {
     "name": "stdout",
     "output_type": "stream",
     "text": [
      "Accuracy: 0.2589\n",
      "\n",
      "Test 2: n_est=100, lr=0.1, depth=3\n"
     ]
    },
    {
     "name": "stderr",
     "output_type": "stream",
     "text": [
      "/raid/home/automatants/lahrach_cha/ChakibProjects/ifcob/.venv/lib/python3.10/site-packages/xgboost/training.py:183: UserWarning: [14:30:04] WARNING: /workspace/src/learner.cc:738: \n",
      "Parameters: { \"use_label_encoder\" } are not used.\n",
      "\n",
      "  bst.update(dtrain, iteration=i, fobj=obj)\n"
     ]
    },
    {
     "name": "stdout",
     "output_type": "stream",
     "text": [
      "Accuracy: 0.3284\n",
      "\n",
      "Test 3: n_est=150, lr=0.15, depth=4\n"
     ]
    },
    {
     "name": "stderr",
     "output_type": "stream",
     "text": [
      "/raid/home/automatants/lahrach_cha/ChakibProjects/ifcob/.venv/lib/python3.10/site-packages/xgboost/training.py:183: UserWarning: [14:30:11] WARNING: /workspace/src/learner.cc:738: \n",
      "Parameters: { \"use_label_encoder\" } are not used.\n",
      "\n",
      "  bst.update(dtrain, iteration=i, fobj=obj)\n"
     ]
    },
    {
     "name": "stdout",
     "output_type": "stream",
     "text": [
      "Accuracy: 0.4025\n",
      "\n",
      "Test 4: n_est=200, lr=0.08, depth=3\n"
     ]
    },
    {
     "name": "stderr",
     "output_type": "stream",
     "text": [
      "/raid/home/automatants/lahrach_cha/ChakibProjects/ifcob/.venv/lib/python3.10/site-packages/xgboost/training.py:183: UserWarning: [14:30:27] WARNING: /workspace/src/learner.cc:738: \n",
      "Parameters: { \"use_label_encoder\" } are not used.\n",
      "\n",
      "  bst.update(dtrain, iteration=i, fobj=obj)\n"
     ]
    },
    {
     "name": "stdout",
     "output_type": "stream",
     "text": [
      "Accuracy: 0.3350\n",
      "\n",
      "=== MEILLEUR PARAMÉTRAGE ===\n",
      "Paramètres: {'n_estimators': 150, 'learning_rate': 0.15, 'max_depth': 4}\n",
      "Accuracy: 0.4025\n"
     ]
    }
   ],
   "source": [
    "# Test avec différents paramètres XGBoost\n",
    "print(\"\\n=== COMPARAISON DE DIFFÉRENTS PARAMÈTRES XGBOOST ===\")\n",
    "\n",
    "params_to_test = [\n",
    "    {'n_estimators': 50, 'learning_rate': 0.05, 'max_depth': 2},\n",
    "    {'n_estimators': 100, 'learning_rate': 0.1, 'max_depth': 3},\n",
    "    {'n_estimators': 150, 'learning_rate': 0.15, 'max_depth': 4},\n",
    "    {'n_estimators': 200, 'learning_rate': 0.08, 'max_depth': 3},\n",
    "]\n",
    "\n",
    "results = []\n",
    "\n",
    "for i, params in enumerate(params_to_test):\n",
    "    print(f\"\\nTest {i+1}: n_est={params['n_estimators']}, lr={params['learning_rate']}, depth={params['max_depth']}\")\n",
    "    \n",
    "    # Créer un nouveau modèle avec ces paramètres\n",
    "    temp_classifier = xgb.XGBClassifier(\n",
    "        n_estimators=params['n_estimators'],\n",
    "        learning_rate=params['learning_rate'],\n",
    "        max_depth=params['max_depth'],\n",
    "        subsample=0.8,\n",
    "        colsample_bytree=0.8,\n",
    "        random_state=42,\n",
    "        eval_metric='logloss',\n",
    "        use_label_encoder=False\n",
    "    )\n",
    "    \n",
    "    # Entraîner\n",
    "    temp_classifier.fit(X_train, y_train, sample_weight=sample_weights, verbose=False)\n",
    "    \n",
    "    # Prédire\n",
    "    temp_pred = temp_classifier.predict(X_test)\n",
    "    temp_accuracy = accuracy_score(y_test, temp_pred)\n",
    "    \n",
    "    results.append({\n",
    "        'params': params,\n",
    "        'accuracy': temp_accuracy\n",
    "    })\n",
    "    \n",
    "    print(f\"Accuracy: {temp_accuracy:.4f}\")\n",
    "\n",
    "# Meilleur modèle\n",
    "best_result = max(results, key=lambda x: x['accuracy'])\n",
    "print(f\"\\n=== MEILLEUR PARAMÉTRAGE ===\")\n",
    "print(f\"Paramètres: {best_result['params']}\")\n",
    "print(f\"Accuracy: {best_result['accuracy']:.4f}\")"
   ]
  },
  {
   "cell_type": "code",
   "execution_count": 65,
   "id": "50fa2654",
   "metadata": {},
   "outputs": [
    {
     "name": "stdout",
     "output_type": "stream",
     "text": [
      "\n",
      "=== STATISTIQUES FINALES ===\n",
      "Nombre total d'échantillons d'entraînement: 1454148\n",
      "Nombre total d'échantillons de test: 363537\n",
      "Nombre de features: 7\n",
      "Features utilisées: ['bid-ask-imbalance-5-levels', 'spread', 'inst-return', 'V-bid-5-levels', 'V-ask-5-levels', 'slope-bid-5-levels', 'slope-ask-5-levels']\n",
      "Classes dans le dataset: [np.int64(0), np.int64(1), np.int64(2)]\n",
      "\n",
      "Performances du modèle XGBoost final:\n",
      "- Train Accuracy: 0.4006\n",
      "- Test Accuracy: 0.3284\n",
      "- Feature la plus importante: slope-bid-5-levels (0.2383)\n",
      "\n",
      "=== ANALYSE TERMINÉE ===\n"
     ]
    }
   ],
   "source": [
    "# Statistiques finales et sauvegarde\n",
    "print(\"\\n=== STATISTIQUES FINALES ===\")\n",
    "print(f\"Nombre total d'échantillons d'entraînement: {len(X_train)}\")\n",
    "print(f\"Nombre total d'échantillons de test: {len(X_test)}\")\n",
    "print(f\"Nombre de features: {X_train.shape[1]}\")\n",
    "print(f\"Features utilisées: {list(feature_columns)}\")\n",
    "print(f\"Classes dans le dataset: {sorted(np.unique(y_train))}\")\n",
    "\n",
    "print(f\"\\nPerformances du modèle XGBoost final:\")\n",
    "print(f\"- Train Accuracy: {train_acc:.4f}\")\n",
    "print(f\"- Test Accuracy: {test_acc:.4f}\")\n",
    "print(f\"- Feature la plus importante: {feature_importance.iloc[0]['feature']} ({feature_importance.iloc[0]['importance']:.4f})\")\n",
    "\n",
    "# Option pour sauvegarder le modèle\n",
    "# import joblib\n",
    "# os.makedirs(\"../../predictors/xgboost\", exist_ok=True)\n",
    "# joblib.dump(xgb_classifier, '../../predictors/xgboost/xgb_model_5ms.joblib')\n",
    "# print(\"\\nModèle sauvegardé dans '../../predictors/xgboost/xgb_model_5ms.joblib'\")\n",
    "\n",
    "print(\"\\n=== ANALYSE TERMINÉE ===\")"
   ]
  }
 ],
 "metadata": {
  "kernelspec": {
   "display_name": ".venv",
   "language": "python",
   "name": "python3"
  },
  "language_info": {
   "codemirror_mode": {
    "name": "ipython",
    "version": 3
   },
   "file_extension": ".py",
   "mimetype": "text/x-python",
   "name": "python",
   "nbconvert_exporter": "python",
   "pygments_lexer": "ipython3",
   "version": "3.10.13"
  }
 },
 "nbformat": 4,
 "nbformat_minor": 5
}
