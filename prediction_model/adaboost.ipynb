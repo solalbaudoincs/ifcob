{
 "cells": [
  {
   "cell_type": "markdown",
   "id": "7bfd6cfa",
   "metadata": {},
   "source": [
    "Implémentation d'un Adaboost "
   ]
  },
  {
   "cell_type": "code",
   "execution_count": 1,
   "id": "584863e9",
   "metadata": {},
   "outputs": [
    {
     "name": "stdout",
     "output_type": "stream",
     "text": [
      "Collecting polars\n",
      "  Using cached polars-1.30.0-cp39-abi3-win_amd64.whl.metadata (15 kB)\n",
      "Using cached polars-1.30.0-cp39-abi3-win_amd64.whl (36.4 MB)\n",
      "Installing collected packages: polars\n",
      "Successfully installed polars-1.30.0\n"
     ]
    },
    {
     "name": "stderr",
     "output_type": "stream",
     "text": [
      "\n",
      "[notice] A new release of pip is available: 25.0.1 -> 25.1.1\n",
      "[notice] To update, run: python.exe -m pip install --upgrade pip\n"
     ]
    }
   ],
   "source": [
    "!python -m pip install polars"
   ]
  },
  {
   "cell_type": "code",
   "execution_count": null,
   "id": "26b56df4",
   "metadata": {},
   "outputs": [
    {
     "ename": "ModuleNotFoundError",
     "evalue": "No module named 'polars'",
     "output_type": "error",
     "traceback": [
      "\u001b[31m---------------------------------------------------------------------------\u001b[39m",
      "\u001b[31mModuleNotFoundError\u001b[39m                       Traceback (most recent call last)",
      "\u001b[36mCell\u001b[39m\u001b[36m \u001b[39m\u001b[32mIn[1]\u001b[39m\u001b[32m, line 2\u001b[39m\n\u001b[32m      1\u001b[39m \u001b[38;5;66;03m# Imports nécessaires pour l'implémentation AdaBoost\u001b[39;00m\n\u001b[32m----> \u001b[39m\u001b[32m2\u001b[39m \u001b[38;5;28;01mimport\u001b[39;00m\u001b[38;5;250m \u001b[39m\u001b[34;01mpolars\u001b[39;00m\u001b[38;5;250m \u001b[39m\u001b[38;5;28;01mas\u001b[39;00m\u001b[38;5;250m \u001b[39m\u001b[34;01mpl\u001b[39;00m\n\u001b[32m      3\u001b[39m \u001b[38;5;28;01mimport\u001b[39;00m\u001b[38;5;250m \u001b[39m\u001b[34;01mnumpy\u001b[39;00m\u001b[38;5;250m \u001b[39m\u001b[38;5;28;01mas\u001b[39;00m\u001b[38;5;250m \u001b[39m\u001b[34;01mnp\u001b[39;00m\n\u001b[32m      4\u001b[39m \u001b[38;5;28;01mfrom\u001b[39;00m\u001b[38;5;250m \u001b[39m\u001b[34;01msklearn\u001b[39;00m\u001b[34;01m.\u001b[39;00m\u001b[34;01mensemble\u001b[39;00m\u001b[38;5;250m \u001b[39m\u001b[38;5;28;01mimport\u001b[39;00m AdaBoostClassifier\n",
      "\u001b[31mModuleNotFoundError\u001b[39m: No module named 'polars'"
     ]
    }
   ],
   "source": [
    "# Imports nécessaires pour l'implémentation AdaBoost\n",
    "import pandas as pd\n",
    "import numpy as np\n",
    "from sklearn.ensemble import AdaBoostClassifier\n",
    "from sklearn.tree import DecisionTreeClassifier\n",
    "from sklearn.model_selection import train_test_split\n",
    "from sklearn.metrics import accuracy_score, classification_report, confusion_matrix\n",
    "import matplotlib.pyplot as plt\n",
    "import seaborn as sns\n",
    "from pathlib import Path"
   ]
  },
  {
   "cell_type": "code",
   "execution_count": null,
   "id": "dacfd369",
   "metadata": {},
   "outputs": [],
   "source": [
    "# Chargement des données depuis le dossier features avec Polars\n",
    "data_path = Path(r'..\\data\\features\\DATA_0')\n",
    "\n",
    "# Chargement du fichier XBT_EUR.parquet avec Polars\n",
    "xbt_data_pl = pl.read_parquet(data_path / 'XBT_EUR.parquet')\n",
    "\n",
    "# Conversion en pandas pour compatibilité avec sklearn (si nécessaire)\n",
    "xbt_data = xbt_data_pl.to_pandas()\n",
    "\n",
    "print(f\"Shape des données XBT_EUR: {xbt_data_pl.shape}\")\n",
    "print(f\"\\nPremières lignes des données (Polars):\")\n",
    "print(xbt_data_pl.head())\n",
    "\n",
    "print(f\"\\nInformations sur les colonnes (Polars):\")\n",
    "print(xbt_data_pl.schema)\n",
    "\n",
    "print(f\"\\nStatistiques descriptives (Polars):\")\n",
    "print(xbt_data_pl.describe())\n",
    "\n",
    "print(f\"\\nTypes de données (Polars):\")\n",
    "print(xbt_data_pl.dtypes)"
   ]
  },
  {
   "cell_type": "code",
   "execution_count": null,
   "id": "f50a455b",
   "metadata": {},
   "outputs": [],
   "source": []
  }
 ],
 "metadata": {
  "kernelspec": {
   "display_name": "Python 3",
   "language": "python",
   "name": "python3"
  },
  "language_info": {
   "codemirror_mode": {
    "name": "ipython",
    "version": 3
   },
   "file_extension": ".py",
   "mimetype": "text/x-python",
   "name": "python",
   "nbconvert_exporter": "python",
   "pygments_lexer": "ipython3",
   "version": "3.13.3"
  }
 },
 "nbformat": 4,
 "nbformat_minor": 5
}
