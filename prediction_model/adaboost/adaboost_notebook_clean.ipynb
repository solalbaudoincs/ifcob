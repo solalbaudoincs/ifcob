{
 "cells": [
  {
   "cell_type": "markdown",
   "id": "bb4519c0",
   "metadata": {},
   "source": [
    "# AdaBoost Classification Model (Clean Version)\n",
    "\n",
    "Ce notebook utilise l'utilitaire DataPreprocessor pour préparer les données et entraîner un modèle AdaBoost pour la classification de signaux de trading crypto."
   ]
  },
  {
   "cell_type": "code",
   "execution_count": 19,
   "id": "9b402923",
   "metadata": {},
   "outputs": [
    {
     "name": "stdout",
     "output_type": "stream",
     "text": [
      "Project root ajouté au sys.path : c:\\Users\\enzo.cAo\\Documents\\ST-Finance\\EI LOB\\ifcob\n"
     ]
    }
   ],
   "source": [
    "import sys\n",
    "import os\n",
    "# Ajoute le dossier racine du projet au sys.path\n",
    "project_root = os.path.abspath(os.path.join(os.getcwd(), \"../..\"))\n",
    "if project_root not in sys.path:\n",
    "    sys.path.insert(0, project_root)\n",
    "print(\"Project root ajouté au sys.path :\", project_root)\n"
   ]
  },
  {
   "cell_type": "code",
   "execution_count": 20,
   "id": "102bdc7b",
   "metadata": {},
   "outputs": [],
   "source": [
    "# Imports principaux\n",
    "import pandas as pd\n",
    "import numpy as np\n",
    "from prediction_model.data_preprocess import DataPreprocessor\n",
    "from sklearn.metrics import accuracy_score, classification_report, confusion_matrix\n",
    "from sklearn.utils.class_weight import compute_class_weight\n",
    "import matplotlib.pyplot as plt\n",
    "import seaborn as sns"
   ]
  },
  {
   "cell_type": "code",
   "execution_count": 21,
   "id": "a1405505",
   "metadata": {},
   "outputs": [
    {
     "name": "stdout",
     "output_type": "stream",
     "text": [
      "ETH shape: (1817685, 18)\n",
      "XBT shape: (563395, 18)\n"
     ]
    }
   ],
   "source": [
    "# Chargement des données ETH et XBT\n",
    "eth_path = \"../../data/features/DATA_0/ETH_EUR.parquet\"\n",
    "xbt_path = \"../../data/features/DATA_0/XBT_EUR.parquet\"\n",
    "df_eth = pd.read_parquet(eth_path)\n",
    "df_xbt = pd.read_parquet(xbt_path)\n",
    "print(f\"ETH shape: {df_eth.shape}\")\n",
    "print(f\"XBT shape: {df_xbt.shape}\")"
   ]
  },
  {
   "cell_type": "code",
   "execution_count": 22,
   "id": "6169019f",
   "metadata": {},
   "outputs": [
    {
     "name": "stdout",
     "output_type": "stream",
     "text": [
      "=== PRÉPARATION DES DONNÉES ADABOOST ===\n",
      "Étape 1: Extraction du target 'return-all-signed-for-5-ms'...\n",
      "Target shape: (1817685,)\n",
      "Étape 2: Sélection des features du features_df...\n",
      "Features sélectionnées: ['V-bid-5-levels', 'V-ask-5-levels', 'slope-bid-5-levels', 'slope-ask-5-levels']\n",
      "Features shape avant dropna: (563395, 4)\n",
      "Features shape après dropna: (562697, 4)\n",
      "Étape 2b: Sélection des features du target_df avec lag...\n",
      "Features target sélectionnées: ['V-bid-5-levels', 'V-ask-5-levels', 'slope-bid-5-levels', 'slope-ask-5-levels']\n",
      "Target features shape après shift (lag=5): (1817685, 4)\n",
      "Target features shape après dropna: (1814881, 4)\n",
      "Étape 3: Alignement temporel avec np.searchsorted...\n",
      "Features après filtrage: (1817685, 4)\n",
      "Indices filtrés: 1817685\n",
      "Étape 4: Création des DataFrames nettoyés...\n",
      "Étape 4b: Ajout des features du target_df après synchronisation et lag...\n",
      "Target features après alignement: (1814881, 4)\n",
      "Features combinées shape: (1817685, 8)\n",
      "Colonnes finales: ['V-bid-5-levels', 'V-ask-5-levels', 'slope-bid-5-levels', 'slope-ask-5-levels', 'V-bid-5-levels', 'V-ask-5-levels', 'slope-bid-5-levels', 'slope-ask-5-levels']\n",
      "Données après dropna et filtrage NaN: (1814881, 8)\n",
      "Target après dropna et filtrage NaN: (1814881,)\n",
      "Distribution des classes:\n",
      "return-all-signed-for-5-ms\n",
      "-1     202247\n",
      " 0    1612634\n",
      "Name: count, dtype: int64\n",
      "Proportions des classes:\n",
      "return-all-signed-for-5-ms\n",
      "-1    0.111438\n",
      " 0    0.888562\n",
      "Name: proportion, dtype: float64\n",
      "Étape 5: Conversion en arrays numpy...\n",
      "\n",
      "=== RÉSULTAT FINAL ===\n",
      "Features (X): (1814881, 8)\n",
      "Labels encodés (y): (1814881,)\n",
      "Mapping des labels: {np.int64(-1): 0, np.int64(0): 1}\n",
      "Étape 6: Split train/test chronologique...\n",
      "Train set: (1451904, 8), Test set: (362977, 8)\n",
      "X_train: (1451904, 8), X_test: (362977, 8)\n",
      "y_train: (1451904,), y_test: (362977,)\n",
      "Label mapping: {0: np.int64(-1), 1: np.int64(0)}\n"
     ]
    }
   ],
   "source": [
    "# Initialisation du DataPreprocessor\n",
    "preprocessor = DataPreprocessor()\n",
    "\n",
    "# Définition des colonnes features (XBT)\n",
    "feature_columns = [\n",
    "    \"V-bid-5-levels\",\n",
    "    \"V-ask-5-levels\",\n",
    "    \"slope-bid-5-levels\",\n",
    "    \"slope-ask-5-levels\"\n",
    "]\n",
    "\n",
    "feature_target_columns = [\n",
    "    \"V-bid-5-levels\",\n",
    "    \"V-ask-5-levels\",\n",
    "    \"slope-bid-5-levels\",\n",
    "    \"slope-ask-5-levels\"\n",
    "]\n",
    "\n",
    "target_column = \"return-all-signed-for-5-ms\"\n",
    "\n",
    "# Préparation des données (split train/test inclus)\n",
    "X_train, X_test, y_train, y_test = preprocessor.prepare_data(\n",
    "    features_df=df_xbt,\n",
    "    target_df=df_eth,\n",
    "    feature_columns=feature_columns,\n",
    "    features_columns_target=feature_target_columns,\n",
    "    target_column=target_column,\n",
    "    test_size=0.2,\n",
    "    target_lag=5,\n",
    ")\n",
    "\n",
    "print(f\"X_train: {X_train.shape}, X_test: {X_test.shape}\")\n",
    "print(f\"y_train: {y_train.shape}, y_test: {y_test.shape}\")\n",
    "print(f\"Label mapping: {preprocessor.get_label_mapping()}\")"
   ]
  },
  {
   "cell_type": "code",
   "execution_count": 23,
   "id": "836af67c",
   "metadata": {},
   "outputs": [
    {
     "name": "stdout",
     "output_type": "stream",
     "text": [
      "=== DONNÉES AVANT ENTRAÎNEMENT ===\n",
      "\n",
      "X_train shape: (1451904, 8)\n",
      "X_train:\n",
      "[[ 8.21151910e+00  7.47207400e+00 -5.84544704e-01  1.17771853e+00\n",
      "   1.32389727e+02  7.54174759e+01 -3.62565896e-03  5.35619016e-03]\n",
      " [ 8.21151910e+00  7.47207400e+00 -5.84544704e-01  1.17771853e+00\n",
      "   1.32389727e+02  4.25751100e+01 -3.62565896e-03  6.81149150e-03]\n",
      " [ 8.21151910e+00  7.47207400e+00 -5.84544704e-01  1.17771853e+00\n",
      "   1.32389727e+02  7.68954290e+01 -3.62565896e-03  3.51126203e-03]\n",
      " [ 8.21151910e+00  7.47207400e+00 -5.84544704e-01  1.17771853e+00\n",
      "   1.49496442e+02  7.68954290e+01 -2.74254018e-03  3.51126203e-03]\n",
      " [ 8.21151910e+00  7.47207400e+00 -5.84544704e-01  1.17771853e+00\n",
      "   1.15168181e+02  7.68954290e+01 -2.17073845e-03  3.51126203e-03]]\n",
      "\n",
      "y_train shape: (1451904,)\n",
      "y_train:\n",
      "[1 1 1 1 1 1 1 1 1 1]\n",
      "\n",
      "X_test shape: (362977, 8)\n",
      "X_test:\n",
      "[[ 7.39530519e+00  4.93576890e-01 -4.32706956e-01  2.93773884e+01\n",
      "   3.46398130e+01  8.58404716e+01 -7.21712902e-03  4.65980664e-03]\n",
      " [ 7.39530519e+00  4.93576890e-01 -4.32706956e-01  2.93773884e+01\n",
      "   3.46398130e+01  8.58404716e+01 -7.21712902e-03  4.65980664e-03]\n",
      " [ 7.39530519e+00  4.93576890e-01 -4.32706956e-01  2.93773884e+01\n",
      "   5.12479147e+01  8.58404716e+01 -7.04932521e-03  4.65980664e-03]\n",
      " [ 7.39530519e+00  4.93576890e-01 -4.32706956e-01  2.93773884e+01\n",
      "   6.78560166e+01  8.58404716e+01 -6.18957641e-03  4.65980664e-03]\n",
      " [ 7.39530519e+00  4.93576890e-01 -4.32706956e-01  2.93773884e+01\n",
      "   6.78555475e+01  8.58404716e+01 -5.74750355e-03  4.65980664e-03]]\n",
      "\n",
      "y_test shape: (362977,)\n",
      "y_test:\n",
      "[1 1 1 1 1 1 1 1 1 1]\n",
      "\n",
      "Distribution des classes dans y_train:\n",
      "Classe 0: 165823 échantillons (11.42%)\n",
      "Classe 1: 1286081 échantillons (88.58%)\n"
     ]
    }
   ],
   "source": [
    "# Affichage des données avant l'entraînement\n",
    "print(\"=== DONNÉES AVANT ENTRAÎNEMENT ===\")\n",
    "print(f\"\\nX_train shape: {X_train.shape}\")\n",
    "print(f\"X_train:\\n{X_train[:5]}\")\n",
    "print(f\"\\ny_train shape: {y_train.shape}\")\n",
    "print(f\"y_train:\\n{y_train[:10]}\")\n",
    "print(f\"\\nX_test shape: {X_test.shape}\")\n",
    "print(f\"X_test:\\n{X_test[:5]}\")\n",
    "print(f\"\\ny_test shape: {y_test.shape}\")\n",
    "print(f\"y_test:\\n{y_test[:10]}\")\n",
    "print(f\"\\nDistribution des classes dans y_train:\")\n",
    "unique, counts = np.unique(y_train, return_counts=True)\n",
    "for u, c in zip(unique, counts):\n",
    "    print(f\"Classe {u}: {c} échantillons ({c/len(y_train)*100:.2f}%)\")"
   ]
  },
  {
   "cell_type": "code",
   "execution_count": 24,
   "id": "b8ce0273",
   "metadata": {},
   "outputs": [
    {
     "name": "stdout",
     "output_type": "stream",
     "text": [
      "Class weights: {np.int64(0): np.float64(4.377872792073476), np.int64(1): np.float64(0.5644683344206158)}\n",
      "Sample weights shape: (1451904,)\n",
      "Sample weights min/max: 0.5645/4.3779\n"
     ]
    }
   ],
   "source": [
    "# Calcul des poids pour équilibrer les classes\n",
    "class_weights = compute_class_weight('balanced', classes=unique, y=y_train)\n",
    "print(f\"Class weights: {dict(zip(unique, class_weights))}\")\n",
    "\n",
    "# Création des sample weights\n",
    "sample_weights = np.array([class_weights[label] for label in y_train])\n",
    "print(f\"Sample weights shape: {sample_weights.shape}\")\n",
    "print(f\"Sample weights min/max: {sample_weights.min():.4f}/{sample_weights.max():.4f}\")"
   ]
  },
  {
   "cell_type": "code",
   "execution_count": 25,
   "id": "88d68ac5",
   "metadata": {},
   "outputs": [
    {
     "name": "stdout",
     "output_type": "stream",
     "text": [
      "Modèle AdaBoost initialisé avec sklearn\n"
     ]
    }
   ],
   "source": [
    "from sklearn.ensemble import AdaBoostClassifier\n",
    "from sklearn.tree import DecisionTreeClassifier\n",
    "\n",
    "# Initialisation du modèle AdaBoost avec sklearn\n",
    "\n",
    "# Création du modèle AdaBoost avec un arbre de décision comme estimateur de base\n",
    "ada_classifier = AdaBoostClassifier(\n",
    "    estimator=DecisionTreeClassifier(max_depth=3),\n",
    "    n_estimators=100,\n",
    "    learning_rate=0.1,\n",
    "    random_state=42\n",
    ")\n",
    "\n",
    "print(\"Modèle AdaBoost initialisé avec sklearn\")"
   ]
  },
  {
   "cell_type": "code",
   "execution_count": 26,
   "id": "9c77fc3d",
   "metadata": {},
   "outputs": [
    {
     "name": "stdout",
     "output_type": "stream",
     "text": [
      "Modèle AdaBoost entraîné!\n"
     ]
    }
   ],
   "source": [
    "ada_classifier.fit(X_train, y_train, sample_weight=sample_weights)\n",
    "print(\"Modèle AdaBoost entraîné!\")"
   ]
  },
  {
   "cell_type": "code",
   "execution_count": 27,
   "id": "21cace59",
   "metadata": {},
   "outputs": [
    {
     "name": "stdout",
     "output_type": "stream",
     "text": [
      "Train Accuracy: 0.7395\n",
      "Test Accuracy: 0.7390\n",
      "\n",
      "Classification report (test):\n",
      "              precision    recall  f1-score   support\n",
      "\n",
      "           0       0.17      0.42      0.24     36424\n",
      "           1       0.92      0.78      0.84    326553\n",
      "\n",
      "    accuracy                           0.74    362977\n",
      "   macro avg       0.55      0.60      0.54    362977\n",
      "weighted avg       0.85      0.74      0.78    362977\n",
      "\n",
      "\n",
      "Confusion matrix (test):\n",
      "[[ 15151  21273]\n",
      " [ 73450 253103]]\n"
     ]
    }
   ],
   "source": [
    "# Prédictions et évaluation\n",
    "y_pred = ada_classifier.predict(X_test)\n",
    "y_train_pred = ada_classifier.predict(X_train)\n",
    "\n",
    "train_acc = accuracy_score(y_train, y_train_pred)\n",
    "test_acc = accuracy_score(y_test, y_pred)\n",
    "print(f\"Train Accuracy: {train_acc:.4f}\")\n",
    "print(f\"Test Accuracy: {test_acc:.4f}\")\n",
    "print(\"\\nClassification report (test):\")\n",
    "print(classification_report(y_test, y_pred))\n",
    "print(\"\\nConfusion matrix (test):\")\n",
    "print(confusion_matrix(y_test, y_pred))"
   ]
  },
  {
   "cell_type": "code",
   "execution_count": 28,
   "id": "9de740b9",
   "metadata": {},
   "outputs": [
    {
     "data": {
      "image/png": "[encoded data removed]",
      "text/plain": [
       "<Figure size 1200x800 with 1 Axes>"
      ]
     },
     "metadata": {},
     "output_type": "display_data"
    },
    {
     "name": "stdout",
     "output_type": "stream",
     "text": [
      "\n",
      "Importances des features (avec suffixes XBT/ETH):\n",
      "slope-ask-5-levels_ETH: 0.2774\n",
      "slope-bid-5-levels_ETH: 0.2658\n",
      "V-ask-5-levels_ETH: 0.2093\n",
      "V-bid-5-levels_ETH: 0.0815\n",
      "slope-ask-5-levels_XBT: 0.0743\n",
      "slope-bid-5-levels_XBT: 0.0629\n",
      "V-bid-5-levels_XBT: 0.0246\n",
      "V-ask-5-levels_XBT: 0.0042\n"
     ]
    }
   ],
   "source": [
    "\n",
    "# Ajout de suffixes pour distinguer les sources XBT et ETH\n",
    "xbt_features = [f\"{col}_XBT\" for col in feature_columns]\n",
    "eth_features = [f\"{col}_ETH\" for col in feature_target_columns if col != target_column]\n",
    "\n",
    "# Concaténation des deux listes dans l'ordre d'entrée du modèle\n",
    "actual_feature_names = xbt_features + eth_features\n",
    "\n",
    "# Vérification des dimensions avec le modèle\n",
    "if len(actual_feature_names) == len(ada_classifier.feature_importances_):\n",
    "    # Création du DataFrame des importances corrigées\n",
    "    feature_importance_corrected = pd.DataFrame({\n",
    "        'feature': actual_feature_names,\n",
    "        'importance': ada_classifier.feature_importances_\n",
    "    }).sort_values('importance', ascending=False)\n",
    "\n",
    "    # Affichage du barplot\n",
    "    plt.figure(figsize=(12, 8))\n",
    "    plt.barh(feature_importance_corrected['feature'], feature_importance_corrected['importance'], color='lightgreen')\n",
    "    plt.xlabel('Importance')\n",
    "    plt.title('Importance des Features - AdaBoost (XBT vs ETH)')\n",
    "    plt.gca().invert_yaxis()\n",
    "    plt.tight_layout()\n",
    "    plt.show()\n",
    "\n",
    "    # Affichage textuel des importances\n",
    "    print(\"\\nImportances des features (avec suffixes XBT/ETH):\")\n",
    "    for idx, row in feature_importance_corrected.iterrows():\n",
    "        print(f\"{row['feature']}: {row['importance']:.4f}\")\n",
    "else:\n",
    "    print(f\"❌ Erreur: {len(actual_feature_names)} noms vs {len(ada_classifier.feature_importances_)} importances\")\n"
   ]
  },
  {
   "cell_type": "code",
   "execution_count": 29,
   "id": "8f4f5272",
   "metadata": {},
   "outputs": [
    {
     "data": {
      "image/png": "[encoded data removed]",
      "text/plain": [
       "<Figure size 600x500 with 2 Axes>"
      ]
     },
     "metadata": {},
     "output_type": "display_data"
    }
   ],
   "source": [
    "# Visualisation de la matrice de confusion\n",
    "plt.figure(figsize=(6, 5))\n",
    "sns.heatmap(confusion_matrix(y_test, y_pred), annot=True, fmt='d', cmap='Blues')\n",
    "plt.title('Confusion Matrix - Test Set')\n",
    "plt.ylabel('True Label')\n",
    "plt.xlabel('Predicted Label')\n",
    "plt.tight_layout()\n",
    "plt.show()"
   ]
  },
  {
   "cell_type": "markdown",
   "id": "f4d7fcd4",
   "metadata": {},
   "source": [
    "##"
   ]
  },
  {
   "cell_type": "code",
   "execution_count": 30,
   "id": "093eaa8c",
   "metadata": {},
   "outputs": [
    {
     "name": "stdout",
     "output_type": "stream",
     "text": [
      "=== PRÉPARATION DES DONNÉES ADABOOST ===\n",
      "Étape 1: Extraction du target 'return-all-signed-for-5-ms'...\n",
      "Target shape: (1817685,)\n",
      "Étape 2: Sélection des features du features_df...\n",
      "Features sélectionnées: ['V-bid-5-levels', 'V-ask-5-levels', 'slope-bid-5-levels', 'slope-ask-5-levels']\n",
      "Features shape avant dropna: (563395, 4)\n",
      "Features shape après dropna: (562697, 4)\n",
      "Étape 3: Alignement temporel avec np.searchsorted...\n",
      "Features après filtrage: (1817685, 4)\n",
      "Indices filtrés: 1817685\n",
      "Étape 4: Création des DataFrames nettoyés...\n",
      "Données après dropna et filtrage NaN: (1817685, 4)\n",
      "Target après dropna et filtrage NaN: (1817685,)\n",
      "Distribution des classes:\n",
      "return-all-signed-for-5-ms\n",
      "-1     202297\n",
      " 0    1615386\n",
      " 1          2\n",
      "Name: count, dtype: int64\n",
      "Proportions des classes:\n",
      "return-all-signed-for-5-ms\n",
      "-1    0.111294\n",
      " 0    0.888705\n",
      " 1    0.000001\n",
      "Name: proportion, dtype: float64\n",
      "Étape 5: Conversion en arrays numpy...\n",
      "\n",
      "=== RÉSULTAT FINAL ===\n",
      "Features (X): (1817685, 4)\n",
      "Labels encodés (y): (1817685,)\n",
      "Mapping des labels: {np.int64(-1): 0, np.int64(0): 1, np.int64(1): 2}\n",
      "Étape 6: Split train/test chronologique...\n",
      "Train set: (1454148, 4), Test set: (363537, 4)\n",
      "X_train: (1454148, 4), X_test: (363537, 4)\n",
      "y_train: (1454148,), y_test: (363537,)\n",
      "Label mapping: {0: np.int64(-1), 1: np.int64(0), 2: np.int64(1)}\n"
     ]
    }
   ],
   "source": [
    "\n",
    "# Définition des colonnes features (XBT)\n",
    "feature_columns = [\n",
    "    \"V-bid-5-levels\",\n",
    "    \"V-ask-5-levels\",\n",
    "    \"slope-bid-5-levels\",\n",
    "    \"slope-ask-5-levels\"\n",
    "]\n",
    "\n",
    "target_column = \"return-all-signed-for-5-ms\"\n",
    "\n",
    "# Préparation des données (split train/test inclus)\n",
    "X_train, X_test, y_train, y_test = preprocessor.prepare_data(\n",
    "    features_df=df_xbt,\n",
    "    target_df=df_eth,\n",
    "    feature_columns=feature_columns,\n",
    "    target_column=target_column,\n",
    "    test_size=0.2\n",
    ")\n",
    "print(f\"X_train: {X_train.shape}, X_test: {X_test.shape}\")\n",
    "print(f\"y_train: {y_train.shape}, y_test: {y_test.shape}\")\n",
    "print(f\"Label mapping: {preprocessor.get_label_mapping()}\")"
   ]
  },
  {
   "cell_type": "code",
   "execution_count": 31,
   "id": "ae124a43",
   "metadata": {},
   "outputs": [
    {
     "name": "stdout",
     "output_type": "stream",
     "text": [
      "=== DONNÉES AVEC NOUVEAUX FEATURES ===\n",
      "\n",
      "X_train shape: (1454148, 4)\n",
      "X_train:\n",
      "[[ 8.2115191   7.472074   -0.5845447   1.17771853]\n",
      " [ 8.2115191   7.472074   -0.5845447   1.17771853]\n",
      " [ 8.2115191   7.472074   -0.5845447   1.17771853]\n",
      " [ 8.2115191   7.472074   -0.5845447   1.17771853]\n",
      " [ 8.2115191   7.472074   -0.5845447   1.17771853]]\n",
      "\n",
      "y_train shape: (1454148,)\n",
      "y_train:\n",
      "[1 1 1 1 1 1 1 1 1 1]\n",
      "\n",
      "X_test shape: (363537, 4)\n",
      "X_test:\n",
      "[[ 7.78442349  2.31406029 -0.21838483 10.03320524]\n",
      " [ 7.78442349  2.31406029 -0.21838483 10.03320524]\n",
      " [ 7.78442349  2.31406029 -0.21838483 10.03320524]\n",
      " [ 7.78442349  2.31406029 -0.21838483 10.03320524]\n",
      " [ 7.78442349  2.31406029 -0.21838483 10.03320524]]\n",
      "\n",
      "y_test shape: (363537,)\n",
      "y_test:\n",
      "[1 1 1 1 1 1 1 1 1 1]\n",
      "\n",
      "Distribution des classes dans y_train:\n",
      "Classe 0: 165980 échantillons (11.41%)\n",
      "Classe 1: 1288168 échantillons (88.59%)\n"
     ]
    }
   ],
   "source": [
    "# Affichage des données avec les nouveaux features\n",
    "print(\"=== DONNÉES AVEC NOUVEAUX FEATURES ===\")\n",
    "print(f\"\\nX_train shape: {X_train.shape}\")\n",
    "print(f\"X_train:\\n{X_train[:5]}\")\n",
    "print(f\"\\ny_train shape: {y_train.shape}\")\n",
    "print(f\"y_train:\\n{y_train[:10]}\")\n",
    "print(f\"\\nX_test shape: {X_test.shape}\")\n",
    "print(f\"X_test:\\n{X_test[:5]}\")\n",
    "print(f\"\\ny_test shape: {y_test.shape}\")\n",
    "print(f\"y_test:\\n{y_test[:10]}\")\n",
    "print(f\"\\nDistribution des classes dans y_train:\")\n",
    "unique, counts = np.unique(y_train, return_counts=True)\n",
    "for u, c in zip(unique, counts):\n",
    "    print(f\"Classe {u}: {c} échantillons ({c/len(y_train)*100:.2f}%)\")"
   ]
  },
  {
   "cell_type": "code",
   "execution_count": 32,
   "id": "2cc54d6f",
   "metadata": {},
   "outputs": [
    {
     "name": "stdout",
     "output_type": "stream",
     "text": [
      "Class weights (nouveaux features): {np.int64(0): np.float64(4.380491625497048), np.int64(1): np.float64(0.5644248265754156)}\n",
      "Sample weights shape: (1454148,)\n",
      "Sample weights min/max: 0.5644/4.3805\n"
     ]
    }
   ],
   "source": [
    "# Calcul des poids pour équilibrer les classes avec les nouveaux features\n",
    "class_weights_new = compute_class_weight('balanced', classes=unique, y=y_train)\n",
    "print(f\"Class weights (nouveaux features): {dict(zip(unique, class_weights_new))}\")\n",
    "sample_weights_new = np.array([class_weights_new[label] for label in y_train])\n",
    "print(f\"Sample weights shape: {sample_weights_new.shape}\")\n",
    "print(f\"Sample weights min/max: {sample_weights_new.min():.4f}/{sample_weights_new.max():.4f}\")"
   ]
  },
  {
   "cell_type": "code",
   "execution_count": 33,
   "id": "6216db06",
   "metadata": {},
   "outputs": [
    {
     "name": "stdout",
     "output_type": "stream",
     "text": [
      "Modèle AdaBoost entraîné avec les nouveaux features!\n"
     ]
    }
   ],
   "source": [
    "# Création et entraînement du modèle AdaBoost avec les nouveaux features\n",
    "ada_classifier_new = AdaBoostClassifier(\n",
    "    estimator=DecisionTreeClassifier(max_depth=3),\n",
    "    n_estimators=100,\n",
    "    learning_rate=0.1,\n",
    "    random_state=42\n",
    ")\n",
    "ada_classifier_new.fit(X_train, y_train, sample_weight=sample_weights_new)\n",
    "print(\"Modèle AdaBoost entraîné avec les nouveaux features!\")"
   ]
  },
  {
   "cell_type": "code",
   "execution_count": 34,
   "id": "a3a39bf0",
   "metadata": {},
   "outputs": [
    {
     "name": "stdout",
     "output_type": "stream",
     "text": [
      "Train Accuracy (nouveaux features): 0.1443\n",
      "Test Accuracy (nouveaux features): 0.1256\n",
      "\n",
      "Classification report (test - nouveaux features):\n",
      "              precision    recall  f1-score   support\n",
      "\n",
      "           0       0.10      0.95      0.18     36317\n",
      "           1       0.85      0.03      0.07    327218\n",
      "           2       0.00      0.00      0.00         2\n",
      "\n",
      "    accuracy                           0.13    363537\n",
      "   macro avg       0.32      0.33      0.08    363537\n",
      "weighted avg       0.78      0.13      0.08    363537\n",
      "\n",
      "\n",
      "Confusion matrix (test - nouveaux features):\n",
      "[[ 34367   1950      0]\n",
      " [315928  11290      0]\n",
      " [     2      0      0]]\n"
     ]
    },
    {
     "name": "stderr",
     "output_type": "stream",
     "text": [
      "c:\\Users\\enzo.cAo\\Documents\\ST-Finance\\EI LOB\\ifcob\\.venv\\Lib\\site-packages\\sklearn\\metrics\\_classification.py:1565: UndefinedMetricWarning: Precision is ill-defined and being set to 0.0 in labels with no predicted samples. Use `zero_division` parameter to control this behavior.\n",
      "  _warn_prf(average, modifier, f\"{metric.capitalize()} is\", len(result))\n",
      "c:\\Users\\enzo.cAo\\Documents\\ST-Finance\\EI LOB\\ifcob\\.venv\\Lib\\site-packages\\sklearn\\metrics\\_classification.py:1565: UndefinedMetricWarning: Precision is ill-defined and being set to 0.0 in labels with no predicted samples. Use `zero_division` parameter to control this behavior.\n",
      "  _warn_prf(average, modifier, f\"{metric.capitalize()} is\", len(result))\n",
      "c:\\Users\\enzo.cAo\\Documents\\ST-Finance\\EI LOB\\ifcob\\.venv\\Lib\\site-packages\\sklearn\\metrics\\_classification.py:1565: UndefinedMetricWarning: Precision is ill-defined and being set to 0.0 in labels with no predicted samples. Use `zero_division` parameter to control this behavior.\n",
      "  _warn_prf(average, modifier, f\"{metric.capitalize()} is\", len(result))\n"
     ]
    }
   ],
   "source": [
    "# Prédictions et évaluation du modèle avec les nouveaux features\n",
    "y_pred_new = ada_classifier_new.predict(X_test)\n",
    "y_train_pred_new = ada_classifier_new.predict(X_train)\n",
    "train_acc_new = accuracy_score(y_train, y_train_pred_new)\n",
    "test_acc_new = accuracy_score(y_test, y_pred_new)\n",
    "print(f\"Train Accuracy (nouveaux features): {train_acc_new:.4f}\")\n",
    "print(f\"Test Accuracy (nouveaux features): {test_acc_new:.4f}\")\n",
    "print(\"\\nClassification report (test - nouveaux features):\")\n",
    "print(classification_report(y_test, y_pred_new))\n",
    "print(\"\\nConfusion matrix (test - nouveaux features):\")\n",
    "print(confusion_matrix(y_test, y_pred_new))"
   ]
  },
  {
   "cell_type": "code",
   "execution_count": 35,
   "id": "fcd3b974",
   "metadata": {},
   "outputs": [
    {
     "data": {
      "image/png": "[encoded data removed]",
      "text/plain": [
       "<Figure size 800x500 with 1 Axes>"
      ]
     },
     "metadata": {},
     "output_type": "display_data"
    },
    {
     "name": "stdout",
     "output_type": "stream",
     "text": [
      "\n",
      "Importances des features:\n",
      "slope-ask-5-levels: 0.4577\n",
      "slope-bid-5-levels: 0.3959\n",
      "V-bid-5-levels: 0.1018\n",
      "V-ask-5-levels: 0.0446\n"
     ]
    }
   ],
   "source": [
    "# Visualisation des importances des nouveaux features\n",
    "feature_importance_new = pd.DataFrame({\n",
    "    'feature': feature_columns,\n",
    "    'importance': ada_classifier_new.feature_importances_\n",
    "}).sort_values('importance', ascending=False)\n",
    "\n",
    "\n",
    "plt.figure(figsize=(8, 5))\n",
    "plt.barh(feature_importance_new['feature'], feature_importance_new['importance'])\n",
    "plt.xlabel('Importance')\n",
    "plt.title('Importance des Features - AdaBoost (nouveaux features)')\n",
    "plt.gca().invert_yaxis()\n",
    "plt.tight_layout()\n",
    "plt.show()\n",
    "print(\"\\nImportances des features:\")\n",
    "for idx, row in feature_importance_new.iterrows():\n",
    "    print(f\"{row['feature']}: {row['importance']:.4f}\")"
   ]
  },
  {
   "cell_type": "code",
   "execution_count": 36,
   "id": "fa7ab239",
   "metadata": {},
   "outputs": [
    {
     "data": {
      "image/png": "[encoded data removed]",
      "text/plain": [
       "<Figure size 600x500 with 2 Axes>"
      ]
     },
     "metadata": {},
     "output_type": "display_data"
    }
   ],
   "source": [
    "# Visualisation de la matrice de confusion (nouveaux features)\n",
    "plt.figure(figsize=(6, 5))\n",
    "sns.heatmap(confusion_matrix(y_test, y_pred_new), annot=True, fmt='d', cmap='Blues')\n",
    "plt.title('Confusion Matrix - Test Set (Nouveaux Features)')\n",
    "plt.ylabel('True Label')\n",
    "plt.xlabel('Predicted Label')\n",
    "plt.tight_layout()\n",
    "plt.show()"
   ]
  },
  {
   "cell_type": "code",
   "execution_count": 37,
   "id": "cd50487c",
   "metadata": {},
   "outputs": [
    {
     "name": "stdout",
     "output_type": "stream",
     "text": [
      "=== COMPARAISON DES PERFORMANCES ===\n",
      "\n",
      "Modèle précédent:\n",
      "  - Train Accuracy: 0.7395\n",
      "  - Test Accuracy: 0.7390\n",
      "\n",
      "Modèle avec nouveaux features:\n",
      "  - Train Accuracy: 0.1443\n",
      "  - Test Accuracy: 0.1256\n",
      "  - Nombre de features: 4\n"
     ]
    }
   ],
   "source": [
    "# Comparaison des performances entre l'ancien et le nouveau modèle\n",
    "print(\"=== COMPARAISON DES PERFORMANCES ===\\n\")\n",
    "try:\n",
    "    print(f\"Modèle précédent:\")\n",
    "    print(f\"  - Train Accuracy: {train_acc:.4f}\")\n",
    "    print(f\"  - Test Accuracy: {test_acc:.4f}\")\n",
    "except:\n",
    "    print(\"Ancien modèle non disponible dans ce kernel.\")\n",
    "print(f\"\\nModèle avec nouveaux features:\")\n",
    "print(f\"  - Train Accuracy: {train_acc_new:.4f}\")\n",
    "print(f\"  - Test Accuracy: {test_acc_new:.4f}\")\n",
    "print(f\"  - Nombre de features: {len(feature_columns)}\")"
   ]
  }
 ],
 "metadata": {
  "kernelspec": {
   "display_name": ".venv",
   "language": "python",
   "name": "python3"
  },
  "language_info": {
   "codemirror_mode": {
    "name": "ipython",
    "version": 3
   },
   "file_extension": ".py",
   "mimetype": "text/x-python",
   "name": "python",
   "nbconvert_exporter": "python",
   "pygments_lexer": "ipython3",
   "version": "3.13.2"
  }
 },
 "nbformat": 4,
 "nbformat_minor": 5
}
