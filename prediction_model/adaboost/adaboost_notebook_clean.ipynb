{
 "cells": [
  {
   "cell_type": "markdown",
   "id": "bb4519c0",
   "metadata": {},
   "source": [
    "# AdaBoost Classification Model (Clean Version)\n",
    "\n",
    "Ce notebook utilise l'utilitaire DataPreprocessor pour préparer les données et entraîner un modèle AdaBoost pour la classification de signaux de trading crypto."
   ]
  },
  {
   "cell_type": "code",
   "execution_count": 1,
   "id": "9b402923",
   "metadata": {},
   "outputs": [
    {
     "name": "stdout",
     "output_type": "stream",
     "text": [
      "Project root ajouté au sys.path : c:\\Users\\enzo.cAo\\Documents\\ST-Finance\\EI LOB\\ifcob\n"
     ]
    }
   ],
   "source": [
    "import sys\n",
    "import os\n",
    "# Ajoute le dossier racine du projet au sys.path\n",
    "project_root = os.path.abspath(os.path.join(os.getcwd(), \"../..\"))\n",
    "if project_root not in sys.path:\n",
    "    sys.path.insert(0, project_root)\n",
    "print(\"Project root ajouté au sys.path :\", project_root)\n"
   ]
  },
  {
   "cell_type": "code",
   "execution_count": 2,
   "id": "102bdc7b",
   "metadata": {},
   "outputs": [],
   "source": [
    "# Imports principaux\n",
    "import pandas as pd\n",
    "import numpy as np\n",
    "from prediction_model.adaboost.data_preprocess import DataPreprocessor\n",
    "from adaboost_model import CryptoAdaBoostClassifier\n",
    "from sklearn.metrics import accuracy_score, classification_report, confusion_matrix\n",
    "from sklearn.utils.class_weight import compute_class_weight\n",
    "import matplotlib.pyplot as plt\n",
    "import seaborn as sns"
   ]
  },
  {
   "cell_type": "code",
   "execution_count": 3,
   "id": "a1405505",
   "metadata": {},
   "outputs": [
    {
     "name": "stdout",
     "output_type": "stream",
     "text": [
      "ETH shape: (1817685, 18)\n",
      "XBT shape: (563395, 18)\n"
     ]
    }
   ],
   "source": [
    "# Chargement des données ETH et XBT\n",
    "eth_path = \"../../data/features/DATA_0/ETH_EUR.parquet\"\n",
    "xbt_path = \"../../data/features/DATA_0/XBT_EUR.parquet\"\n",
    "df_eth = pd.read_parquet(eth_path)\n",
    "df_xbt = pd.read_parquet(xbt_path)\n",
    "print(f\"ETH shape: {df_eth.shape}\")\n",
    "print(f\"XBT shape: {df_xbt.shape}\")"
   ]
  },
  {
   "cell_type": "code",
   "execution_count": null,
   "id": "6169019f",
   "metadata": {},
   "outputs": [
    {
     "name": "stdout",
     "output_type": "stream",
     "text": [
      "=== PRÉPARATION DES DONNÉES ADABOOST ===\n",
      "Étape 1: Extraction du target 'return-all-signed-for-5-ms'...\n",
      "Target shape: (1817685,)\n",
      "Étape 2: Sélection des features...\n",
      "Features sélectionnées: ['bid-ask-imbalance-5-levels', 'spread', 'inst-return', 'V-bid-5-levels', 'V-ask-5-levels', 'slope-bid-5-levels', 'slope-ask-5-levels']\n",
      "Features shape avant dropna: (563395, 7)\n",
      "Features shape après dropna: (562683, 7)\n",
      "Étape 3: Alignement temporel avec np.searchsorted...\n",
      "Features après filtrage: (1817685, 7)\n",
      "Indices filtrés: 1817685\n",
      "Étape 4: Création des DataFrames nettoyés...\n",
      "Features après filtrage: (1817685, 7)\n",
      "Indices filtrés: 1817685\n",
      "Étape 4: Création des DataFrames nettoyés...\n",
      "Données après dropna et filtrage NaN: (1817685, 7)\n",
      "Target après dropna et filtrage NaN: (1817685,)\n",
      "Distribution des classes:\n",
      "return-all-signed-for-5-ms\n",
      "-1     202297\n",
      " 0    1615386\n",
      " 1          2\n",
      "Name: count, dtype: int64\n",
      "Proportions des classes:\n",
      "return-all-signed-for-5-ms\n",
      "-1    0.111294\n",
      " 0    0.888705\n",
      " 1    0.000001\n",
      "Name: proportion, dtype: float64\n",
      "Étape 5: Conversion en arrays numpy...\n",
      "Données après dropna et filtrage NaN: (1817685, 7)\n",
      "Target après dropna et filtrage NaN: (1817685,)\n",
      "Distribution des classes:\n",
      "return-all-signed-for-5-ms\n",
      "-1     202297\n",
      " 0    1615386\n",
      " 1          2\n",
      "Name: count, dtype: int64\n",
      "Proportions des classes:\n",
      "return-all-signed-for-5-ms\n",
      "-1    0.111294\n",
      " 0    0.888705\n",
      " 1    0.000001\n",
      "Name: proportion, dtype: float64\n",
      "Étape 5: Conversion en arrays numpy...\n",
      "\n",
      "=== RÉSULTAT FINAL ===\n",
      "Features (X): (1817685, 7)\n",
      "Labels encodés (y): (1817685,)\n",
      "Mapping des labels: {np.int64(-1): 0, np.int64(0): 1, np.int64(1): 2}\n",
      "Étape 6: Split train/test chronologique...\n",
      "Train set: (1454148, 7), Test set: (363537, 7)\n",
      "X_train: (1454148, 7), X_test: (363537, 7)\n",
      "y_train: (1454148,), y_test: (363537,)\n",
      "Label mapping: {0: np.int64(-1), 1: np.int64(0), 2: np.int64(1)}\n",
      "\n",
      "=== RÉSULTAT FINAL ===\n",
      "Features (X): (1817685, 7)\n",
      "Labels encodés (y): (1817685,)\n",
      "Mapping des labels: {np.int64(-1): 0, np.int64(0): 1, np.int64(1): 2}\n",
      "Étape 6: Split train/test chronologique...\n",
      "Train set: (1454148, 7), Test set: (363537, 7)\n",
      "X_train: (1454148, 7), X_test: (363537, 7)\n",
      "y_train: (1454148,), y_test: (363537,)\n",
      "Label mapping: {0: np.int64(-1), 1: np.int64(0), 2: np.int64(1)}\n"
     ]
    }
   ],
   "source": [
    "# Initialisation du DataPreprocessor\n",
    "preprocessor = DataPreprocessor()\n",
    "\n",
    "# Définition des colonnes features (XBT)\n",
    "feature_columns = [\n",
    "    \"bid-ask-imbalance-5-levels\",\n",
    "    \"spread\",\n",
    "    \"inst-return\",\n",
    "    \"V-bid-5-levels\",\n",
    "    \"V-ask-5-levels\",\n",
    "    \"slope-bid-5-levels\",\n",
    "    \"slope-ask-5-levels\"\n",
    "]\n",
    "\n",
    "target_column = \"return-all-signed-for-5-ms\"\n",
    "\n",
    "# Préparation des données (split train/test inclus)\n",
    "X_train, X_test, y_train, y_test = preprocessor.prepare_data(\n",
    "    features_df=df_xbt,\n",
    "    target_df=df_eth,\n",
    "    feature_columns=feature_columns,\n",
    "    target_column=target_column,\n",
    "    test_size=0.2\n",
    ")\n",
    "print(f\"X_train: {X_train.shape}, X_test: {X_test.shape}\")\n",
    "print(f\"y_train: {y_train.shape}, y_test: {y_test.shape}\")\n",
    "print(f\"Label mapping: {preprocessor.get_label_mapping()}\")"
   ]
  },
  {
   "cell_type": "code",
   "execution_count": 5,
   "id": "836af67c",
   "metadata": {},
   "outputs": [
    {
     "name": "stdout",
     "output_type": "stream",
     "text": [
      "=== DONNÉES AVANT ENTRAÎNEMENT ===\n",
      "\n",
      "X_train shape: (1454148, 7)\n",
      "X_train:\n",
      "[[ 0.04714768  0.1         0.          8.2115191   7.472074   -0.5845447\n",
      "   1.17771853]\n",
      " [ 0.04714768  0.1         0.          8.2115191   7.472074   -0.5845447\n",
      "   1.17771853]\n",
      " [ 0.04714768  0.1         0.          8.2115191   7.472074   -0.5845447\n",
      "   1.17771853]\n",
      " [ 0.04714768  0.1         0.          8.2115191   7.472074   -0.5845447\n",
      "   1.17771853]\n",
      " [ 0.04714768  0.1         0.          8.2115191   7.472074   -0.5845447\n",
      "   1.17771853]]\n",
      "\n",
      "y_train shape: (1454148,)\n",
      "y_train:\n",
      "[1 1 1 1 1 1 1 1 1 1]\n",
      "\n",
      "X_test shape: (363537, 7)\n",
      "X_test:\n",
      "[[ 0.54170144  0.1         0.          7.78442349  2.31406029 -0.21838483\n",
      "  10.03320524]\n",
      " [ 0.54170144  0.1         0.          7.78442349  2.31406029 -0.21838483\n",
      "  10.03320524]\n",
      " [ 0.54170144  0.1         0.          7.78442349  2.31406029 -0.21838483\n",
      "  10.03320524]\n",
      " [ 0.54170144  0.1         0.          7.78442349  2.31406029 -0.21838483\n",
      "  10.03320524]\n",
      " [ 0.54170144  0.1         0.          7.78442349  2.31406029 -0.21838483\n",
      "  10.03320524]]\n",
      "\n",
      "y_test shape: (363537,)\n",
      "y_test:\n",
      "[1 1 1 1 1 1 1 1 1 1]\n",
      "\n",
      "Distribution des classes dans y_train:\n",
      "Classe 0: 165980 échantillons (11.41%)\n",
      "Classe 1: 1288168 échantillons (88.59%)\n"
     ]
    }
   ],
   "source": [
    "# Affichage des données avant l'entraînement\n",
    "print(\"=== DONNÉES AVANT ENTRAÎNEMENT ===\")\n",
    "print(f\"\\nX_train shape: {X_train.shape}\")\n",
    "print(f\"X_train:\\n{X_train[:5]}\")\n",
    "print(f\"\\ny_train shape: {y_train.shape}\")\n",
    "print(f\"y_train:\\n{y_train[:10]}\")\n",
    "print(f\"\\nX_test shape: {X_test.shape}\")\n",
    "print(f\"X_test:\\n{X_test[:5]}\")\n",
    "print(f\"\\ny_test shape: {y_test.shape}\")\n",
    "print(f\"y_test:\\n{y_test[:10]}\")\n",
    "print(f\"\\nDistribution des classes dans y_train:\")\n",
    "unique, counts = np.unique(y_train, return_counts=True)\n",
    "for u, c in zip(unique, counts):\n",
    "    print(f\"Classe {u}: {c} échantillons ({c/len(y_train)*100:.2f}%)\")"
   ]
  },
  {
   "cell_type": "code",
   "execution_count": 6,
   "id": "70765da0",
   "metadata": {},
   "outputs": [
    {
     "name": "stdout",
     "output_type": "stream",
     "text": [
      "=== VÉRIFICATION DES NaN DANS LES DONNÉES ===\n",
      "\n",
      "X_train contient des NaN: False\n",
      "\n",
      "X_test contient des NaN: False\n",
      "\n",
      "y_train contient des NaN: False\n",
      "\n",
      "y_test contient des NaN: False\n"
     ]
    }
   ],
   "source": [
    "# Vérification des NaN dans les données d'entraînement et de test\n",
    "print(\"=== VÉRIFICATION DES NaN DANS LES DONNÉES ===\")\n",
    "\n",
    "# Vérification X_train\n",
    "x_train_nan = np.isnan(X_train)\n",
    "x_train_has_nan = np.any(x_train_nan)\n",
    "print(f\"\\nX_train contient des NaN: {x_train_has_nan}\")\n",
    "if x_train_has_nan:\n",
    "    nan_indices = np.where(x_train_nan)\n",
    "    print(f\"Nombre total de NaN dans X_train: {np.sum(x_train_nan)}\")\n",
    "    print(f\"Lignes avec NaN: {np.unique(nan_indices[0])[:10]}...\")  # Affiche les 10 premières\n",
    "    print(f\"Colonnes avec NaN: {np.unique(nan_indices[1])}\")\n",
    "\n",
    "# Vérification X_test\n",
    "x_test_nan = np.isnan(X_test)\n",
    "x_test_has_nan = np.any(x_test_nan)\n",
    "print(f\"\\nX_test contient des NaN: {x_test_has_nan}\")\n",
    "if x_test_has_nan:\n",
    "    nan_indices = np.where(x_test_nan)\n",
    "    print(f\"Nombre total de NaN dans X_test: {np.sum(x_test_nan)}\")\n",
    "    print(f\"Lignes avec NaN: {np.unique(nan_indices[0])[:10]}...\")  # Affiche les 10 premières\n",
    "    print(f\"Colonnes avec NaN: {np.unique(nan_indices[1])}\")\n",
    "\n",
    "# Vérification y_train\n",
    "y_train_nan = np.isnan(y_train)\n",
    "y_train_has_nan = np.any(y_train_nan)\n",
    "print(f\"\\ny_train contient des NaN: {y_train_has_nan}\")\n",
    "if y_train_has_nan:\n",
    "    nan_indices = np.where(y_train_nan)[0]\n",
    "    print(f\"Nombre de NaN dans y_train: {np.sum(y_train_nan)}\")\n",
    "    print(f\"Indices avec NaN: {nan_indices[:10]}...\")  # Affiche les 10 premiers\n",
    "\n",
    "# Vérification y_test\n",
    "y_test_nan = np.isnan(y_test)\n",
    "y_test_has_nan = np.any(y_test_nan)\n",
    "print(f\"\\ny_test contient des NaN: {y_test_has_nan}\")\n",
    "if y_test_has_nan:\n",
    "    nan_indices = np.where(y_test_nan)[0]\n",
    "    print(f\"Nombre de NaN dans y_test: {np.sum(y_test_nan)}\")\n",
    "    print(f\"Indices avec NaN: {nan_indices[:10]}...\")  # Affiche les 10 premiers"
   ]
  },
  {
   "cell_type": "code",
   "execution_count": 8,
   "id": "b8ce0273",
   "metadata": {},
   "outputs": [
    {
     "name": "stdout",
     "output_type": "stream",
     "text": [
      "Class weights: {np.int64(0): np.float64(4.380491625497048), np.int64(1): np.float64(0.5644248265754156)}\n",
      "Sample weights shape: (1454148,)\n",
      "Sample weights min/max: 0.5644/4.3805\n",
      "Sample weights shape: (1454148,)\n",
      "Sample weights min/max: 0.5644/4.3805\n"
     ]
    }
   ],
   "source": [
    "# Calcul des poids pour équilibrer les classes\n",
    "class_weights = compute_class_weight('balanced', classes=unique, y=y_train)\n",
    "print(f\"Class weights: {dict(zip(unique, class_weights))}\")\n",
    "\n",
    "# Création des sample weights\n",
    "sample_weights = np.array([class_weights[label] for label in y_train])\n",
    "print(f\"Sample weights shape: {sample_weights.shape}\")\n",
    "print(f\"Sample weights min/max: {sample_weights.min():.4f}/{sample_weights.max():.4f}\")"
   ]
  },
  {
   "cell_type": "code",
   "execution_count": 15,
   "id": "88d68ac5",
   "metadata": {},
   "outputs": [
    {
     "name": "stdout",
     "output_type": "stream",
     "text": [
      "Modèle AdaBoost initialisé avec sklearn\n"
     ]
    }
   ],
   "source": [
    "from sklearn.ensemble import AdaBoostClassifier\n",
    "from sklearn.tree import DecisionTreeClassifier\n",
    "\n",
    "# Initialisation du modèle AdaBoost avec sklearn\n",
    "\n",
    "# Création du modèle AdaBoost avec un arbre de décision comme estimateur de base\n",
    "ada_classifier = AdaBoostClassifier(\n",
    "    estimator=DecisionTreeClassifier(max_depth=3),\n",
    "    n_estimators=100,\n",
    "    learning_rate=0.1,\n",
    "    random_state=42\n",
    ")\n",
    "\n",
    "print(\"Modèle AdaBoost initialisé avec sklearn\")"
   ]
  },
  {
   "cell_type": "code",
   "execution_count": 16,
   "id": "9c77fc3d",
   "metadata": {},
   "outputs": [
    {
     "name": "stdout",
     "output_type": "stream",
     "text": [
      "Modèle AdaBoost entraîné!\n"
     ]
    }
   ],
   "source": [
    "ada_classifier.fit(X_train, y_train, sample_weight=sample_weights)\n",
    "print(\"Modèle AdaBoost entraîné!\")"
   ]
  },
  {
   "cell_type": "code",
   "execution_count": 17,
   "id": "21cace59",
   "metadata": {},
   "outputs": [
    {
     "name": "stdout",
     "output_type": "stream",
     "text": [
      "Train Accuracy: 0.1443\n",
      "Test Accuracy: 0.1256\n",
      "\n",
      "Classification report (test):\n",
      "              precision    recall  f1-score   support\n",
      "\n",
      "           0       0.10      0.95      0.18     36317\n",
      "           1       0.85      0.03      0.07    327218\n",
      "           2       0.00      0.00      0.00         2\n",
      "\n",
      "    accuracy                           0.13    363537\n",
      "   macro avg       0.32      0.33      0.08    363537\n",
      "weighted avg       0.78      0.13      0.08    363537\n",
      "\n",
      "\n",
      "Confusion matrix (test):\n",
      "[[ 34367   1950      0]\n",
      " [315928  11290      0]\n",
      " [     2      0      0]]\n"
     ]
    },
    {
     "name": "stderr",
     "output_type": "stream",
     "text": [
      "c:\\Users\\enzo.cAo\\Documents\\ST-Finance\\EI LOB\\ifcob\\.venv\\Lib\\site-packages\\sklearn\\metrics\\_classification.py:1565: UndefinedMetricWarning: Precision is ill-defined and being set to 0.0 in labels with no predicted samples. Use `zero_division` parameter to control this behavior.\n",
      "  _warn_prf(average, modifier, f\"{metric.capitalize()} is\", len(result))\n",
      "c:\\Users\\enzo.cAo\\Documents\\ST-Finance\\EI LOB\\ifcob\\.venv\\Lib\\site-packages\\sklearn\\metrics\\_classification.py:1565: UndefinedMetricWarning: Precision is ill-defined and being set to 0.0 in labels with no predicted samples. Use `zero_division` parameter to control this behavior.\n",
      "  _warn_prf(average, modifier, f\"{metric.capitalize()} is\", len(result))\n",
      "c:\\Users\\enzo.cAo\\Documents\\ST-Finance\\EI LOB\\ifcob\\.venv\\Lib\\site-packages\\sklearn\\metrics\\_classification.py:1565: UndefinedMetricWarning: Precision is ill-defined and being set to 0.0 in labels with no predicted samples. Use `zero_division` parameter to control this behavior.\n",
      "  _warn_prf(average, modifier, f\"{metric.capitalize()} is\", len(result))\n"
     ]
    }
   ],
   "source": [
    "# Prédictions et évaluation\n",
    "y_pred = ada_classifier.predict(X_test)\n",
    "y_train_pred = ada_classifier.predict(X_train)\n",
    "\n",
    "train_acc = accuracy_score(y_train, y_train_pred)\n",
    "test_acc = accuracy_score(y_test, y_pred)\n",
    "print(f\"Train Accuracy: {train_acc:.4f}\")\n",
    "print(f\"Test Accuracy: {test_acc:.4f}\")\n",
    "print(\"\\nClassification report (test):\")\n",
    "print(classification_report(y_test, y_pred))\n",
    "print(\"\\nConfusion matrix (test):\")\n",
    "print(confusion_matrix(y_test, y_pred))"
   ]
  },
  {
   "cell_type": "code",
   "execution_count": null,
   "id": "cf62026f",
   "metadata": {},
   "outputs": [
    {
     "ename": "AttributeError",
     "evalue": "'AdaBoostClassifier' object has no attribute 'model'",
     "output_type": "error",
     "traceback": [
      "\u001b[31m---------------------------------------------------------------------------\u001b[39m",
      "\u001b[31mAttributeError\u001b[39m                            Traceback (most recent call last)",
      "\u001b[36mCell\u001b[39m\u001b[36m \u001b[39m\u001b[32mIn[18]\u001b[39m\u001b[32m, line 4\u001b[39m\n\u001b[32m      1\u001b[39m \u001b[38;5;66;03m# Visualisation des importances des features\u001b[39;00m\n\u001b[32m      2\u001b[39m feature_importance = pd.DataFrame({\n\u001b[32m      3\u001b[39m     \u001b[33m'\u001b[39m\u001b[33mfeature\u001b[39m\u001b[33m'\u001b[39m: feature_columns,\n\u001b[32m----> \u001b[39m\u001b[32m4\u001b[39m     \u001b[33m'\u001b[39m\u001b[33mimportance\u001b[39m\u001b[33m'\u001b[39m: \u001b[43mada_classifier\u001b[49m\u001b[43m.\u001b[49m\u001b[43mmodel\u001b[49m.feature_importances_\n\u001b[32m      5\u001b[39m }).sort_values(\u001b[33m'\u001b[39m\u001b[33mimportance\u001b[39m\u001b[33m'\u001b[39m, ascending=\u001b[38;5;28;01mFalse\u001b[39;00m)\n\u001b[32m      7\u001b[39m plt.figure(figsize=(\u001b[32m8\u001b[39m, \u001b[32m5\u001b[39m))\n\u001b[32m      8\u001b[39m plt.barh(feature_importance[\u001b[33m'\u001b[39m\u001b[33mfeature\u001b[39m\u001b[33m'\u001b[39m], feature_importance[\u001b[33m'\u001b[39m\u001b[33mimportance\u001b[39m\u001b[33m'\u001b[39m])\n",
      "\u001b[31mAttributeError\u001b[39m: 'AdaBoostClassifier' object has no attribute 'model'"
     ]
    }
   ],
   "source": [
    "# Visualisation des importances des features\n",
    "feature_importance = pd.DataFrame({\n",
    "    'feature': feature_columns,\n",
    "    'importance': ada_classifier.feature_importances_\n",
    "}).sort_values('importance', ascending=False)\n",
    "\n",
    "plt.figure(figsize=(8, 5))\n",
    "plt.barh(feature_importance['feature'], feature_importance['importance'])\n",
    "plt.xlabel('Importance')\n",
    "plt.title('Importance des Features - AdaBoost')\n",
    "plt.gca().invert_yaxis()\n",
    "plt.tight_layout()\n",
    "plt.show()"
   ]
  },
  {
   "cell_type": "code",
   "execution_count": null,
   "id": "8f4f5272",
   "metadata": {},
   "outputs": [
    {
     "data": {
      "image/png": "[encoded data removed]",
      "text/plain": [
       "<Figure size 600x500 with 2 Axes>"
      ]
     },
     "metadata": {},
     "output_type": "display_data"
    }
   ],
   "source": [
    "# Visualisation de la matrice de confusion\n",
    "plt.figure(figsize=(6, 5))\n",
    "sns.heatmap(confusion_matrix(y_test, y_pred), annot=True, fmt='d', cmap='Blues')\n",
    "plt.title('Confusion Matrix - Test Set')\n",
    "plt.ylabel('True Label')\n",
    "plt.xlabel('Predicted Label')\n",
    "plt.tight_layout()\n",
    "plt.show()"
   ]
  }
 ],
 "metadata": {
  "kernelspec": {
   "display_name": ".venv",
   "language": "python",
   "name": "python3"
  },
  "language_info": {
   "codemirror_mode": {
    "name": "ipython",
    "version": 3
   },
   "file_extension": ".py",
   "mimetype": "text/x-python",
   "name": "python",
   "nbconvert_exporter": "python",
   "pygments_lexer": "ipython3",
   "version": "3.13.2"
  }
 },
 "nbformat": 4,
 "nbformat_minor": 5
}
