{
 "cells": [
  {
   "cell_type": "markdown",
   "id": "9ce6c63a",
   "metadata": {},
   "source": [
    "# Random Forest Classification Model (Clean Version - Mateo)\n",
    "\n",
    "Ce notebook utilise l'utilitaire DataPreprocessor pour préparer les données et entraîner un modèle Random Forest pour la classification de signaux de trading crypto, basé sur Model_Mateo_1.ipynb."
   ]
  },
  {
   "cell_type": "code",
   "execution_count": 1,
   "id": "86e20b83",
   "metadata": {},
   "outputs": [
    {
     "name": "stdout",
     "output_type": "stream",
     "text": [
      "Project root ajouté au sys.path : c:\\Users\\enzo.cAo\\Documents\\ST-Finance\\EI LOB\\ifcob\n"
     ]
    }
   ],
   "source": [
    "import sys\n",
    "import os\n",
    "# Ajoute le dossier racine du projet au sys.path\n",
    "project_root = os.path.abspath(os.path.join(os.getcwd(), \"../..\"))\n",
    "if project_root not in sys.path:\n",
    "    sys.path.insert(0, project_root)\n",
    "print(\"Project root ajouté au sys.path :\", project_root)"
   ]
  },
  {
   "cell_type": "code",
   "execution_count": 2,
   "id": "f01b18e7",
   "metadata": {},
   "outputs": [],
   "source": [
    "# Imports principaux\n",
    "import pandas as pd\n",
    "import numpy as np\n",
    "from prediction_model.data_preprocess import DataPreprocessor\n",
    "from sklearn.ensemble import RandomForestClassifier\n",
    "from sklearn.metrics import accuracy_score, classification_report, confusion_matrix\n",
    "from sklearn.utils.class_weight import compute_class_weight\n",
    "from sklearn.dummy import DummyClassifier\n",
    "import matplotlib.pyplot as plt\n",
    "import seaborn as sns\n",
    "import joblib"
   ]
  },
  {
   "cell_type": "code",
   "execution_count": 3,
   "id": "41bf908c",
   "metadata": {},
   "outputs": [
    {
     "name": "stdout",
     "output_type": "stream",
     "text": [
      "ETH shape: (1817685, 18)\n",
      "XBT shape: (563395, 18)\n"
     ]
    }
   ],
   "source": [
    "# Chargement des données ETH et XBT\n",
    "eth_path = \"../../data/features/DATA_0/ETH_EUR.parquet\"\n",
    "xbt_path = \"../../data/features/DATA_0/XBT_EUR.parquet\"\n",
    "df_eth = pd.read_parquet(eth_path)\n",
    "df_xbt = pd.read_parquet(xbt_path)\n",
    "print(f\"ETH shape: {df_eth.shape}\")\n",
    "print(f\"XBT shape: {df_xbt.shape}\")"
   ]
  },
  {
   "cell_type": "code",
   "execution_count": 12,
   "id": "e6d59468",
   "metadata": {},
   "outputs": [
    {
     "name": "stdout",
     "output_type": "stream",
     "text": [
      "=== PRÉPARATION DES DONNÉES ADABOOST ===\n",
      "Étape 1: Extraction du target 'return-all-signed-for-5-ms'...\n",
      "Target shape: (1817685,)\n",
      "Étape 2: Sélection des features...\n",
      "Features sélectionnées: ['bid-ask-imbalance-5-levels', 'spread', 'inst-return', 'V-bid-5-levels', 'V-ask-5-levels', 'slope-bid-5-levels', 'slope-ask-5-levels']\n",
      "Features shape avant dropna: (563395, 7)\n",
      "Features shape après dropna: (562683, 7)\n",
      "Étape 3: Alignement temporel avec np.searchsorted...\n",
      "Features après filtrage: (1817685, 7)\n",
      "Indices filtrés: 1817685\n",
      "Étape 4: Création des DataFrames nettoyés...\n",
      "Features après filtrage: (1817685, 7)\n",
      "Indices filtrés: 1817685\n",
      "Étape 4: Création des DataFrames nettoyés...\n",
      "Données après dropna et filtrage NaN: (1817685, 7)\n",
      "Target après dropna et filtrage NaN: (1817685,)\n",
      "Distribution des classes:\n",
      "return-all-signed-for-5-ms\n",
      "-1     202297\n",
      " 0    1615386\n",
      " 1          2\n",
      "Name: count, dtype: int64\n",
      "Proportions des classes:\n",
      "return-all-signed-for-5-ms\n",
      "-1    0.111294\n",
      " 0    0.888705\n",
      " 1    0.000001\n",
      "Name: proportion, dtype: float64\n",
      "Étape 5: Conversion en arrays numpy...\n",
      "\n",
      "=== RÉSULTAT FINAL ===\n",
      "Features (X): (1817685, 7)\n",
      "Labels encodés (y): (1817685,)\n",
      "Mapping des labels: {np.int64(-1): 0, np.int64(0): 1, np.int64(1): 2}\n",
      "Étape 6: Split train/test chronologique...\n",
      "Train set: (1454148, 7), Test set: (363537, 7)\n",
      "X_train: (1454148, 7), X_test: (363537, 7)\n",
      "y_train: (1454148,), y_test: (363537,)\n",
      "Label mapping: {0: np.int64(-1), 1: np.int64(0), 2: np.int64(1)}\n",
      "\n",
      "=== FILTRAGE DE LA CLASSE 1 ===\n",
      "Distribution avant filtrage:\n",
      "Classe 0: 165980 échantillons (11.41%)\n",
      "Classe 1: 1288168 échantillons (88.59%)\n",
      "Données après dropna et filtrage NaN: (1817685, 7)\n",
      "Target après dropna et filtrage NaN: (1817685,)\n",
      "Distribution des classes:\n",
      "return-all-signed-for-5-ms\n",
      "-1     202297\n",
      " 0    1615386\n",
      " 1          2\n",
      "Name: count, dtype: int64\n",
      "Proportions des classes:\n",
      "return-all-signed-for-5-ms\n",
      "-1    0.111294\n",
      " 0    0.888705\n",
      " 1    0.000001\n",
      "Name: proportion, dtype: float64\n",
      "Étape 5: Conversion en arrays numpy...\n",
      "\n",
      "=== RÉSULTAT FINAL ===\n",
      "Features (X): (1817685, 7)\n",
      "Labels encodés (y): (1817685,)\n",
      "Mapping des labels: {np.int64(-1): 0, np.int64(0): 1, np.int64(1): 2}\n",
      "Étape 6: Split train/test chronologique...\n",
      "Train set: (1454148, 7), Test set: (363537, 7)\n",
      "X_train: (1454148, 7), X_test: (363537, 7)\n",
      "y_train: (1454148,), y_test: (363537,)\n",
      "Label mapping: {0: np.int64(-1), 1: np.int64(0), 2: np.int64(1)}\n",
      "\n",
      "=== FILTRAGE DE LA CLASSE 1 ===\n",
      "Distribution avant filtrage:\n",
      "Classe 0: 165980 échantillons (11.41%)\n",
      "Classe 1: 1288168 échantillons (88.59%)\n"
     ]
    }
   ],
   "source": [
    "# Initialisation du DataPreprocessor\n",
    "preprocessor = DataPreprocessor()\n",
    "\n",
    "# Définition des colonnes features (XBT) - mêmes que Model_Mateo_1\n",
    "feature_columns = [\n",
    "    \"bid-ask-imbalance-5-levels\",\n",
    "    \"spread\",\n",
    "    \"inst-return\",\n",
    "    \"V-bid-5-levels\",\n",
    "    \"V-ask-5-levels\",\n",
    "    \"slope-bid-5-levels\",\n",
    "    \"slope-ask-5-levels\"\n",
    "]\n",
    "\n",
    "target_column = \"return-all-signed-for-5-ms\"\n",
    "\n",
    "# Préparation des données (split train/test inclus)\n",
    "X_train, X_test, y_train, y_test = preprocessor.prepare_data(\n",
    "    features_df=df_xbt,\n",
    "    target_df=df_eth,\n",
    "    feature_columns=feature_columns,\n",
    "    target_column=target_column,\n",
    "    test_size=0.2\n",
    ")\n",
    "\n",
    "print(f\"X_train: {X_train.shape}, X_test: {X_test.shape}\")\n",
    "print(f\"y_train: {y_train.shape}, y_test: {y_test.shape}\")\n",
    "print(f\"Label mapping: {preprocessor.get_label_mapping()}\")\n",
    "\n",
    "# Filtrage de la classe 1 (comme dans Model_Mateo_1)\n",
    "print(\"\\n=== FILTRAGE DE LA CLASSE 1 ===\")\n",
    "print(\"Distribution avant filtrage:\")\n",
    "unique_train, counts_train = np.unique(y_train, return_counts=True)\n",
    "for u, c in zip(unique_train, counts_train):\n",
    "    print(f\"Classe {u}: {c} échantillons ({c/len(y_train)*100:.2f}%)\")"
   ]
  },
  {
   "cell_type": "code",
   "execution_count": 13,
   "id": "33f9a4f8",
   "metadata": {},
   "outputs": [
    {
     "name": "stdout",
     "output_type": "stream",
     "text": [
      "Class weights: {np.int64(0): np.float64(4.380491625497048), np.int64(1): np.float64(0.5644248265754156)}\n",
      "\n",
      "Période d'entraînement: index 0 à 1454147\n",
      "Période de test: index 1454148 à 1817684\n"
     ]
    }
   ],
   "source": [
    "# Calcul des poids de classe pour gérer le déséquilibre\n",
    "class_weights = compute_class_weight('balanced', classes=np.unique(y_train), y=y_train)\n",
    "class_weight_dict = dict(zip(np.unique(y_train), class_weights))\n",
    "print(f\"Class weights: {class_weight_dict}\")\n",
    "\n",
    "# Période temporelle des données\n",
    "print(f\"\\nPériode d'entraînement: index 0 à {len(X_train)-1}\")\n",
    "print(f\"Période de test: index {len(X_train)} à {len(X_train)+len(X_test)-1}\")"
   ]
  },
  {
   "cell_type": "code",
   "execution_count": 14,
   "id": "e552757e",
   "metadata": {},
   "outputs": [
    {
     "name": "stdout",
     "output_type": "stream",
     "text": [
      "Entraînement du modèle Random Forest...\n",
      "Modèle Random Forest entraîné!\n",
      "Modèle Random Forest entraîné!\n"
     ]
    }
   ],
   "source": [
    "# Initialisation et entraînement du modèle Random Forest (paramètres de Model_Mateo_1)\n",
    "rf_model = RandomForestClassifier(\n",
    "    n_estimators=100,  # Même nombre d'arbres que Model_Mateo_1\n",
    "    max_depth=3,       # Même profondeur pour éviter l'overfitting\n",
    "    class_weight=\"balanced\",  # Gestion automatique du déséquilibre\n",
    "    random_state=42,\n",
    "    n_jobs=-1  # Utilise tous les cœurs disponibles\n",
    ")\n",
    "\n",
    "print(\"Entraînement du modèle Random Forest...\")\n",
    "rf_model.fit(X_train, y_train)\n",
    "print(\"Modèle Random Forest entraîné!\")"
   ]
  },
  {
   "cell_type": "code",
   "execution_count": 20,
   "id": "96223cee",
   "metadata": {},
   "outputs": [
    {
     "name": "stdout",
     "output_type": "stream",
     "text": [
      "\n",
      "=== RÉSULTATS DU MODÈLE RANDOM FOREST ===\n",
      "Train Accuracy: 0.2431\n",
      "Test Accuracy: 0.2713\n",
      "Différence (overfitting): -0.0282\n",
      "\n",
      "Classes présentes: [np.int64(0), np.int64(1), np.int64(2)]\n",
      "\n",
      "=== CLASSIFICATION REPORT (TEST SET) ===\n",
      "              precision    recall  f1-score   support\n",
      "\n",
      "           0       0.10      0.77      0.17     36317\n",
      "           1       0.89      0.22      0.35    327218\n",
      "           2       0.00      0.00      0.00         2\n",
      "\n",
      "    accuracy                           0.27    363537\n",
      "   macro avg       0.33      0.33      0.17    363537\n",
      "weighted avg       0.81      0.27      0.33    363537\n",
      "\n",
      "\n",
      "=== CONFUSION MATRIX (TEST SET) ===\n",
      "[[ 27877   8440      0]\n",
      " [256468  70750      0]\n",
      " [     2      0      0]]\n",
      "Classes dans y_train: [0 1]\n",
      "Classes dans y_test: [0 1 2]\n",
      "Classes dans y_pred: [0 1]\n"
     ]
    },
    {
     "name": "stderr",
     "output_type": "stream",
     "text": [
      "c:\\Users\\enzo.cAo\\Documents\\ST-Finance\\EI LOB\\ifcob\\.venv\\Lib\\site-packages\\sklearn\\metrics\\_classification.py:1565: UndefinedMetricWarning: Precision is ill-defined and being set to 0.0 in labels with no predicted samples. Use `zero_division` parameter to control this behavior.\n",
      "  _warn_prf(average, modifier, f\"{metric.capitalize()} is\", len(result))\n",
      "c:\\Users\\enzo.cAo\\Documents\\ST-Finance\\EI LOB\\ifcob\\.venv\\Lib\\site-packages\\sklearn\\metrics\\_classification.py:1565: UndefinedMetricWarning: Precision is ill-defined and being set to 0.0 in labels with no predicted samples. Use `zero_division` parameter to control this behavior.\n",
      "  _warn_prf(average, modifier, f\"{metric.capitalize()} is\", len(result))\n",
      "c:\\Users\\enzo.cAo\\Documents\\ST-Finance\\EI LOB\\ifcob\\.venv\\Lib\\site-packages\\sklearn\\metrics\\_classification.py:1565: UndefinedMetricWarning: Precision is ill-defined and being set to 0.0 in labels with no predicted samples. Use `zero_division` parameter to control this behavior.\n",
      "  _warn_prf(average, modifier, f\"{metric.capitalize()} is\", len(result))\n"
     ]
    }
   ],
   "source": [
    "\n",
    "# Prédictions et évaluation\n",
    "y_pred = rf_model.predict(X_test)\n",
    "y_train_pred = rf_model.predict(X_train)\n",
    "\n",
    "train_acc = accuracy_score(y_train, y_train_pred)\n",
    "test_acc = accuracy_score(y_test, y_pred)\n",
    "\n",
    "print(f\"\\n=== RÉSULTATS DU MODÈLE RANDOM FOREST ===\")\n",
    "print(f\"Train Accuracy: {train_acc:.4f}\")\n",
    "print(f\"Test Accuracy: {test_acc:.4f}\")\n",
    "print(f\"Différence (overfitting): {train_acc - test_acc:.4f}\")\n",
    "\n",
    "# Utilisation des vraies classes présentes dans les données\n",
    "actual_labels = sorted(np.unique(np.concatenate([y_test, y_pred])))\n",
    "print(f\"\\nClasses présentes: {actual_labels}\")\n",
    "\n",
    "print(\"\\n=== CLASSIFICATION REPORT (TEST SET) ===\")\n",
    "print(classification_report(y_test, y_pred, labels=actual_labels))\n",
    "\n",
    "print(\"\\n=== CONFUSION MATRIX (TEST SET) ===\")\n",
    "print(confusion_matrix(y_test, y_pred, labels=actual_labels))\n",
    "\n",
    "print(\"Classes dans y_train:\", np.unique(y_train))\n",
    "print(\"Classes dans y_test:\", np.unique(y_test))\n",
    "print(\"Classes dans y_pred:\", np.unique(y_pred))"
   ]
  },
  {
   "cell_type": "code",
   "execution_count": 16,
   "id": "ad87328a",
   "metadata": {},
   "outputs": [
    {
     "name": "stdout",
     "output_type": "stream",
     "text": [
      "\n",
      "=== COMPARAISON AVEC DUMMY CLASSIFIERS ===\n",
      "Random Forest Accuracy: 0.2713\n",
      "Dummy (Most Frequent) Accuracy: 0.9001\n",
      "Dummy (Stratified) Accuracy: 0.8089\n",
      "\n",
      "Amélioration vs Most Frequent: -0.6288\n",
      "Amélioration vs Stratified: -0.5376\n"
     ]
    }
   ],
   "source": [
    "# Comparaison avec des classifieurs dummy (baseline)\n",
    "print(\"\\n=== COMPARAISON AVEC DUMMY CLASSIFIERS ===\")\n",
    "\n",
    "# Création des dummy classifiers\n",
    "dummy_most_frequent = DummyClassifier(strategy=\"most_frequent\", random_state=42)\n",
    "dummy_stratified = DummyClassifier(strategy=\"stratified\", random_state=42)\n",
    "\n",
    "# Entraînement des dummy classifiers\n",
    "dummy_most_frequent.fit(X_train, y_train)\n",
    "dummy_stratified.fit(X_train, y_train)\n",
    "\n",
    "# Prédictions\n",
    "y_pred_dummy_freq = dummy_most_frequent.predict(X_test)\n",
    "y_pred_dummy_strat = dummy_stratified.predict(X_test)\n",
    "\n",
    "# Évaluation\n",
    "accuracy_dummy_freq = accuracy_score(y_test, y_pred_dummy_freq)\n",
    "accuracy_dummy_strat = accuracy_score(y_test, y_pred_dummy_strat)\n",
    "\n",
    "print(f\"Random Forest Accuracy: {test_acc:.4f}\")\n",
    "print(f\"Dummy (Most Frequent) Accuracy: {accuracy_dummy_freq:.4f}\")\n",
    "print(f\"Dummy (Stratified) Accuracy: {accuracy_dummy_strat:.4f}\")\n",
    "print(f\"\\nAmélioration vs Most Frequent: {test_acc - accuracy_dummy_freq:.4f}\")\n",
    "print(f\"Amélioration vs Stratified: {test_acc - accuracy_dummy_strat:.4f}\")"
   ]
  },
  {
   "cell_type": "code",
   "execution_count": 17,
   "id": "27a4959c",
   "metadata": {},
   "outputs": [
    {
     "name": "stdout",
     "output_type": "stream",
     "text": [
      "\n",
      "=== IMPORTANCE DES FEATURES ===\n",
      "                      feature  importance\n",
      "5          slope-bid-5-levels    0.293937\n",
      "6          slope-ask-5-levels    0.288646\n",
      "0  bid-ask-imbalance-5-levels    0.177142\n",
      "4              V-ask-5-levels    0.126065\n",
      "3              V-bid-5-levels    0.099902\n",
      "1                      spread    0.012103\n",
      "2                 inst-return    0.002206\n"
     ]
    },
    {
     "data": {
      "image/png": "[encoded data removed]",
      "text/plain": [
       "<Figure size 1000x600 with 1 Axes>"
      ]
     },
     "metadata": {},
     "output_type": "display_data"
    }
   ],
   "source": [
    "# Analyse et visualisation des importances des features\n",
    "feature_importance = pd.DataFrame({\n",
    "    'feature': feature_columns,\n",
    "    'importance': rf_model.feature_importances_\n",
    "}).sort_values('importance', ascending=False)\n",
    "\n",
    "print(\"\\n=== IMPORTANCE DES FEATURES ===\")\n",
    "print(feature_importance)\n",
    "\n",
    "plt.figure(figsize=(10, 6))\n",
    "plt.barh(feature_importance['feature'], feature_importance['importance'])\n",
    "plt.xlabel('Importance')\n",
    "plt.title('Importance des Features - Random Forest')\n",
    "plt.gca().invert_yaxis()\n",
    "plt.tight_layout()\n",
    "plt.show()"
   ]
  },
  {
   "cell_type": "code",
   "execution_count": 18,
   "id": "8c2c7f7c",
   "metadata": {},
   "outputs": [
    {
     "data": {
      "image/png": "[encoded data removed]",
      "text/plain": [
       "<Figure size 1200x500 with 4 Axes>"
      ]
     },
     "metadata": {},
     "output_type": "display_data"
    }
   ],
   "source": [
    "# Visualisation des matrices de confusion\n",
    "plt.figure(figsize=(12, 5))\n",
    "\n",
    "# Matrice de confusion pour le train set\n",
    "plt.subplot(1, 2, 1)\n",
    "cm_train = confusion_matrix(y_train, y_train_pred, labels=[-1, 0])\n",
    "sns.heatmap(cm_train, annot=True, fmt='d', cmap='Blues', \n",
    "            xticklabels=['Sell (-1)', 'Hold (0)'], \n",
    "            yticklabels=['Sell (-1)', 'Hold (0)'])\n",
    "plt.title(f'Confusion Matrix - Train Set\\nAccuracy: {train_acc:.4f}')\n",
    "plt.ylabel('True Label')\n",
    "plt.xlabel('Predicted Label')\n",
    "\n",
    "# Matrice de confusion pour le test set\n",
    "plt.subplot(1, 2, 2)\n",
    "cm_test = confusion_matrix(y_test, y_pred, labels=[-1, 0])\n",
    "sns.heatmap(cm_test, annot=True, fmt='d', cmap='Oranges', \n",
    "            xticklabels=['Sell (-1)', 'Hold (0)'], \n",
    "            yticklabels=['Sell (-1)', 'Hold (0)'])\n",
    "plt.title(f'Confusion Matrix - Test Set\\nAccuracy: {test_acc:.4f}')\n",
    "plt.ylabel('True Label')\n",
    "plt.xlabel('Predicted Label')\n",
    "\n",
    "plt.tight_layout()\n",
    "plt.show()"
   ]
  },
  {
   "cell_type": "code",
   "execution_count": 19,
   "id": "44167188",
   "metadata": {},
   "outputs": [
    {
     "name": "stdout",
     "output_type": "stream",
     "text": [
      "\n",
      "=== STATISTIQUES FINALES ===\n",
      "Nombre total d'échantillons d'entraînement: 1454148\n",
      "Nombre total d'échantillons de test: 363537\n",
      "Nombre de features: 7\n",
      "Features utilisées: ['bid-ask-imbalance-5-levels', 'spread', 'inst-return', 'V-bid-5-levels', 'V-ask-5-levels', 'slope-bid-5-levels', 'slope-ask-5-levels']\n",
      "Classes dans le dataset: [np.int64(0), np.int64(1)]\n",
      "\n",
      "Performances du modèle Random Forest final:\n",
      "- Train Accuracy: 0.2431\n",
      "- Test Accuracy: 0.2713\n",
      "- Feature la plus importante: slope-bid-5-levels (0.2939)\n",
      "\n",
      "Modèle sauvegardé dans '../../predictors/mateo/rf_model_5ms_clean.joblib'\n",
      "\n",
      "=== ANALYSE TERMINÉE ===\n"
     ]
    }
   ],
   "source": [
    "# Statistiques finales et sauvegarde du modèle\n",
    "print(\"\\n=== STATISTIQUES FINALES ===\")\n",
    "print(f\"Nombre total d'échantillons d'entraînement: {len(X_train)}\")\n",
    "print(f\"Nombre total d'échantillons de test: {len(X_test)}\")\n",
    "print(f\"Nombre de features: {X_train.shape[1]}\")\n",
    "print(f\"Features utilisées: {list(feature_columns)}\")\n",
    "print(f\"Classes dans le dataset: {sorted(np.unique(y_train))}\")\n",
    "\n",
    "print(f\"\\nPerformances du modèle Random Forest final:\")\n",
    "print(f\"- Train Accuracy: {train_acc:.4f}\")\n",
    "print(f\"- Test Accuracy: {test_acc:.4f}\")\n",
    "print(f\"- Feature la plus importante: {feature_importance.iloc[0]['feature']} ({feature_importance.iloc[0]['importance']:.4f})\")\n",
    "\n",
    "# Sauvegarde du modèle\n",
    "os.makedirs(\"../../predictors/mateo\", exist_ok=True)\n",
    "model_path = \"../../predictors/mateo/rf_model_5ms_clean.joblib\"\n",
    "joblib.dump(rf_model, model_path)\n",
    "print(f\"\\nModèle sauvegardé dans '{model_path}'\")\n",
    "\n",
    "print(\"\\n=== ANALYSE TERMINÉE ===\")"
   ]
  }
 ],
 "metadata": {
  "kernelspec": {
   "display_name": ".venv",
   "language": "python",
   "name": "python3"
  },
  "language_info": {
   "codemirror_mode": {
    "name": "ipython",
    "version": 3
   },
   "file_extension": ".py",
   "mimetype": "text/x-python",
   "name": "python",
   "nbconvert_exporter": "python",
   "pygments_lexer": "ipython3",
   "version": "3.13.2"
  }
 },
 "nbformat": 4,
 "nbformat_minor": 5
}
