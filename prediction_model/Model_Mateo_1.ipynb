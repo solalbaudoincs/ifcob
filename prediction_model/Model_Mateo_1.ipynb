{
 "cells": [
  {
   "cell_type": "markdown",
   "id": "2ee1cb53",
   "metadata": {},
   "source": []
  },
  {
   "cell_type": "code",
   "execution_count": null,
   "id": "c069f585",
   "metadata": {},
   "outputs": [],
   "source": [
    "import pandas as pd\n",
    "\n",
    "df_eth = pd.read_parquet(\"../data/features/DATA_0/ETH_EUR.parquet\")\n",
    "df_xbt = pd.read_parquet(\"../data/features/DATA_0/XBT_EUR.parquet\")\n",
    "\n",
    "# Create target based on mid-price trend over next 2 seconds\n",
    "# Assuming timesteps are shorter, 2 seconds = 2000 timesteps\n",
    "window_size = 2000\n",
    "\n",
    "# Vectorized approach using searchsorted without for loop\n",
    "# First, ensure the dataframe is sorted by timestep\n",
    "df_eth = df_eth.sort_values('timestep').reset_index(drop=True)\n",
    "\n",
    "# Get the timestep values for efficient searching\n",
    "timesteps = df_eth['timestep'].values\n",
    "\n",
    "# Calculate end times for all timesteps at once\n",
    "delay = 20 # ms\n",
    "end_times = timesteps + delay  #\n",
    "\n",
    "# Find end indices for all timesteps using searchsorted\n",
    "end_indices = timesteps.searchsorted(end_times, side='right')\n",
    "\n",
    "# Initialize target array\n",
    "target = pd.Series(0, index=df_eth.index)\n",
    "\n",
    "# Create a mask for valid windows (where end_idx <= len(df_eth))\n",
    "valid_mask = end_indices <= len(df_eth)\n",
    "\n",
    "\n",
    "\n",
    "\n",
    "df_eth['target'] = target"
   ]
  }
 ],
 "metadata": {
  "kernelspec": {
   "display_name": "base",
   "language": "python",
   "name": "python3"
  },
  "language_info": {
   "name": "python",
   "version": "3.12.7"
  }
 },
 "nbformat": 4,
 "nbformat_minor": 5
}
