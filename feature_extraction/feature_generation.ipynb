{
 "cells": [
  {
   "cell_type": "markdown",
   "id": "9a73fca5",
   "metadata": {},
   "source": [
    "# Feature generation\n",
    "\n",
    "## Feature generated\n",
    "\n",
    "In this notebook we will generate the following features bases on the dataset : \n",
    "\n",
    "imbalance of the book-order : "
   ]
  },
  {
   "cell_type": "code",
   "execution_count": null,
   "id": "af8b4d3b",
   "metadata": {},
   "outputs": [],
   "source": [
    "import pandas as pd"
   ]
  },
  {
   "cell_type": "code",
   "execution_count": null,
   "id": "ccb9f93a",
   "metadata": {},
   "outputs": [],
   "source": [
    "df = pd.read_csv('../data/DATA_0/ETH_EUR.csv')\n"
   ]
  }
 ],
 "metadata": {
  "kernelspec": {
   "display_name": "base",
   "language": "python",
   "name": "python3"
  },
  "language_info": {
   "name": "python",
   "version": "3.12.7"
  }
 },
 "nbformat": 4,
 "nbformat_minor": 5
}
