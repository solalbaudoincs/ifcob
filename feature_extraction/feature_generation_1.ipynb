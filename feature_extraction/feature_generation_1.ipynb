{
 "cells": [
  {
   "cell_type": "markdown",
   "id": "9a73fca5",
   "metadata": {},
   "source": [
    "# Feature generation\n",
    "\n",
    "## Feature generated\n",
    "\n",
    "In this notebook we will try generate the following features based on the dataset : \n",
    "\n",
    "cumulated depth : somme des volumes disponibles jusqu’à un certain niveau\n",
    "(p. ex. top 10) de chaque côté\n",
    "\n",
    "imbalance of the book-order : (V_bid - V_ask)/(V_bid + V_ask)\n",
    "\n",
    "Écart acheteur-vendeur (Spread) :\n",
    "prix_ask_min – prix_bid_max\n",
    "\n",
    "liquidity ratio : V_bid/V_ask\n",
    "\n",
    "Statistical temporal features: Instantaneous volatility (variance over short windows), momentum (change in mid-price, trend indicators), and volume indicators (VWAP, average volume).\n",
    "\n",
    "Other : book slope (slope of the volume-price curve), implied volatility indicators, etc.\n",
    "\n",
    "\n",
    "\n",
    "Cannot be done with the current data :\n",
    "\n",
    "Order Flow : somme entre volume total\n",
    "d’ordres acheteurs et vendeurs exécutés (ou modifiés) sur une fenêtre\n",
    "\n",
    "Order Flow Imbalance : différence entre volume total\n",
    "d’ordres acheteurs et vendeurs exécutés (ou modifiés) sur une fenêtre\n",
    "\n",
    "Multi-line order flow : Extension of OFI, measuring the net flow at the top N levels\n"
   ]
  },
  {
   "cell_type": "code",
   "execution_count": null,
   "id": "af8b4d3b",
   "metadata": {},
   "outputs": [],
   "source": [
    "import pandas as pd"
   ]
  },
  {
   "cell_type": "code",
   "execution_count": null,
   "id": "ccb9f93a",
   "metadata": {},
   "outputs": [],
   "source": [
    "df = pd.read_csv('../data/processed/cleaned_data_btc.csv')\n",
    "\n",
    "features = pd.DataFrame(index=df.index)"
   ]
  },
  {
   "attachments": {
    "image-2.png": {
     "image/png": "[encoded data removed]"
    },
    "image.png": {
     "image/png": "[encoded data removed]"
    }
   },
   "cell_type": "markdown",
   "id": "eb4136fa",
   "metadata": {},
   "source": [
    "## Generating bid-ask-imbalance or cumulative depth\n",
    "\n",
    "Close to 1 → strong buying pressure.\n",
    "Close to -1 → strong selling pressure.\n",
    "Near 0 → balanced depth.\n",
    "\n",
    "\n",
    "![image.png](attachment:image.png)\n",
    "\n",
    "\n",
    "![image-2.png](attachment:image-2.png)"
   ]
  },
  {
   "cell_type": "code",
   "execution_count": null,
   "id": "4650616f",
   "metadata": {},
   "outputs": [],
   "source": [
    "N_level = 5\n",
    "\n",
    "features[f\"V-bid-{N_level}-levels\"] = df[\"level-1-bid-volume\"]\n",
    "features[f\"V-ask-{N_level}-levels\"] = df[\"level-1-ask-volume\"]\n",
    "\n",
    "for i in range(2, N_level + 1):\n",
    "    features[f\"V-bid-{N_level}-levels\"] += df[f\"level-{i}-bid-volume\"]\n",
    "    features[f\"V-ask-{N_level}-levels\"] += df[f\"level-{i}-ask-volume\"]\n",
    "\n",
    "features[f\"bid-ask-imbalance-{N_level}-levels\"] = (features[f\"V-bid-{N_level}-levels\"] - features[f\"V-ask-{N_level}-levels\"])/(features[f\"V-bid-{N_level}-levels\"] + features[f\"V-ask-{N_level}-levels\"])\n"
   ]
  },
  {
   "cell_type": "markdown",
   "id": "5ea73d87",
   "metadata": {},
   "source": [
    "## Generating spread"
   ]
  },
  {
   "cell_type": "code",
   "execution_count": null,
   "id": "bb23fcbc",
   "metadata": {},
   "outputs": [],
   "source": [
    "features[\"spread\"] = df[\"level-1-ask-price\"] - df[\"level-1-bid-price\"]"
   ]
  },
  {
   "attachments": {
    "image.png": {
     "image/png": "[encoded data removed]"
    }
   },
   "cell_type": "markdown",
   "id": "8d79f80a",
   "metadata": {},
   "source": [
    "## Generating book slope\n",
    "\n",
    "Used to estimate the steepness of liquidity\n",
    "![image.png](attachment:image.png)"
   ]
  },
  {
   "cell_type": "code",
   "execution_count": null,
   "id": "f4b5e949",
   "metadata": {},
   "outputs": [],
   "source": [
    "N_level = 5\n",
    "\n",
    "for side in ['bid', 'ask']:\n",
    "    price_col = [f\"level-{i}-{side}-price\" for i in range(1, N_level + 1)]\n",
    "    volume_col = [f\"level-{i}-{side}-volume\" for i in range(1, N_level + 1)]\n",
    "    P_N = df[price_col[-1]]\n",
    "    P_1 = df[price_col[0]]\n",
    "    V_sum = sum([df[col] for col in volume_col])\n",
    "    features[f\"slope-{side}-{N_level}-levels\"] = (P_N - P_1) / V_sum\n"
   ]
  },
  {
   "attachments": {
    "image.png": {
     "image/png": "[encoded data removed]"
    }
   },
   "cell_type": "markdown",
   "id": "b998f424",
   "metadata": {},
   "source": [
    "## Generating Volume-Weighted Average Price Depth (VWAP Depth)\n",
    "\n",
    "This gives a weighted price level that reflects available liquidity\n",
    "![image.png](attachment:image.png)"
   ]
  },
  {
   "cell_type": "code",
   "execution_count": null,
   "id": "6f8b4407",
   "metadata": {},
   "outputs": [],
   "source": [
    "# Calculate VWAP for bid and ask sides over N_level depth\n",
    "N_level = 5\n",
    "\n",
    "# Bid side VWAP\n",
    "bid_price_cols = [f\"level-{i}-bid-price\" for i in range(1, N_level + 1)]\n",
    "bid_volume_cols = [f\"level-{i}-bid-volume\" for i in range(1, N_level + 1)]\n",
    "bid_prices = df[bid_price_cols]\n",
    "bid_volumes = df[bid_volume_cols]\n",
    "vwap_bid = (bid_prices * bid_volumes).sum(axis=1) / bid_volumes.sum(axis=1)\n",
    "features[f\"vwap-bid-{N_level}-levels\"] = vwap_bid\n",
    "\n",
    "# Ask side VWAP\n",
    "ask_price_cols = [f\"level-{i}-ask-price\" for i in range(1, N_level + 1)]\n",
    "ask_volume_cols = [f\"level-{i}-ask-volume\" for i in range(1, N_level + 1)]\n",
    "ask_prices = df[ask_price_cols]\n",
    "ask_volumes = df[ask_volume_cols]\n",
    "vwap_ask = (ask_prices * ask_volumes).sum(axis=1) / ask_volumes.sum(axis=1)\n",
    "features[f\"vwap-ask-{N_level}-levels\"] = vwap_ask"
   ]
  },
  {
   "cell_type": "markdown",
   "id": "9d4fffd4",
   "metadata": {},
   "source": [
    "## Generating Liquidity Ratio\n",
    "\n",
    "liquidity ratio : V_bid/V_ask"
   ]
  },
  {
   "cell_type": "code",
   "execution_count": null,
   "id": "2279303f",
   "metadata": {},
   "outputs": [],
   "source": [
    "N_level = 5\n",
    "\n",
    "features[\"liquidity-ratio\"] = features[f\"V-bid-{N_level}-levels\"] / features[f\"V-ask-{N_level}-levels\"]"
   ]
  },
  {
   "cell_type": "markdown",
   "id": "5ebd1fa1",
   "metadata": {},
   "source": [
    "## Generating Instantaneous volatility (variance over short windows), momentum (change in mid-price, trend indicators), and volume indicators (VWAP, average volume)\n",
    "\n",
    "Note : average is done in terms over the last transactions, and not over a  "
   ]
  },
  {
   "cell_type": "code",
   "execution_count": null,
   "id": "0f752175",
   "metadata": {},
   "outputs": [],
   "source": [
    "window = 20  # You can adjust the window size as needed\n",
    "\n",
    "# Mid-price calculation\n",
    "mid_price = (df[\"level-1-bid-price\"] + df[\"level-1-ask-price\"]) / 2\n",
    "\n",
    "# Instantaneous volatility (rolling variance of mid-price)\n",
    "features[\"inst_volatility\"] = mid_price.rolling(window=window).var()\n",
    "\n",
    "# Momentum (change in mid-price)\n",
    "features[\"momentum\"] = mid_price.diff(periods=window)\n",
    "\n",
    "# Trend indicator (rolling mean of mid-price)\n",
    "features[\"mid_price_trend\"] = mid_price.rolling(window=window).mean()\n",
    "\n",
    "# VWAP over all levels (already computed for N_level=5, but can do for all if needed)\n",
    "# Here, we use the previously computed vwap_bid and vwap_ask for N_level=5\n",
    "N_level=5\n",
    "features[\"vwap_mid\"] = (features[f\"vwap-bid-{N_level}-levels\"] + features[f\"vwap-ask-{N_level}-levels\"]) / 2\n",
    "\n",
    "# Average volume over short window (using level-1 volumes as example)\n",
    "features[\"avg-bid-volume-level-1\"] = df[\"level-1-bid-volume\"].rolling(window=window).mean()\n",
    "features[\"avg-ask-volume-level-1\"] = df[\"level-1-ask-volume\"].rolling(window=window).mean()"
   ]
  }
 ],
 "metadata": {
  "kernelspec": {
   "display_name": "base",
   "language": "python",
   "name": "python3"
  },
  "language_info": {
   "name": "python",
   "version": "3.12.7"
  }
 },
 "nbformat": 4,
 "nbformat_minor": 5
}
