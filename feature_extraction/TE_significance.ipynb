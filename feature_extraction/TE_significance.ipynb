{
 "cells": [
  {
   "cell_type": "markdown",
   "metadata": {},
   "source": [
    "# In this notebook, we compute the TE (transfer entropy) to perform statistical significance tests\n",
    "\n",
    "$TE_{B \\rightarrow A} = H(A^+|A)-H(A^+|A,B)$\n",
    "\n",
    "where $H(X) = E(\\log P(X)) = \\sum_x P(x)\\log P(x)$ is the entropy of $X$, $A$ and $B$ are time series, an $A^+$ is the \"future\" of $A$\n",
    "\n",
    "\n",
    "In our case, A and can represent ETH and BTC. Then $TE_{BTC \\rightarrow ETH}$ quantifies how much knowing BTC’s past helps predict ETH, beyond what ETH’s own past can tell you."
   ]
  },
  {
   "cell_type": "code",
   "execution_count": 7,
   "metadata": {},
   "outputs": [],
   "source": [
    "import numpy as np\n",
    "import scipy\n",
    "!pip install --quiet git+https://github.com/pwollstadt/IDTxl.git\n",
    "import idtxl"
   ]
  },
  {
   "cell_type": "code",
   "execution_count": null,
   "metadata": {},
   "outputs": [],
   "source": [
    "def transfer_entropy(A, B):\n",
    "    \"\"\"computes the transfer entropy from B to A\n",
    "\n",
    "    Args:\n",
    "        A (_type_): time series of A\n",
    "        B (_type_): time series of B\n",
    "    \n",
    "    Returns:\n",
    "        float: transfer entropy from B to A\n",
    "    \"\"\"\n",
    "    \n",
    "    "
   ]
  },
  {
   "cell_type": "code",
   "execution_count": 9,
   "metadata": {},
   "outputs": [
    {
     "ename": "NameError",
     "evalue": "name 'data' is not defined",
     "output_type": "error",
     "traceback": [
      "\u001b[0;31m---------------------------------------------------------------------------\u001b[0m",
      "\u001b[0;31mNameError\u001b[0m                                 Traceback (most recent call last)",
      "Cell \u001b[0;32mIn[9], line 13\u001b[0m\n\u001b[1;32m      5\u001b[0m \u001b[38;5;66;03m# Step 1: Define the data object\u001b[39;00m\n\u001b[1;32m      6\u001b[0m \u001b[38;5;66;03m# 'discrete=False' means we use the Kraskov (k-NN) estimator\u001b[39;00m\n\u001b[1;32m      7\u001b[0m settings \u001b[38;5;241m=\u001b[39m {\n\u001b[1;32m      8\u001b[0m     \u001b[38;5;124m'\u001b[39m\u001b[38;5;124mcmi_estimator\u001b[39m\u001b[38;5;124m'\u001b[39m: \u001b[38;5;124m'\u001b[39m\u001b[38;5;124mJidtKraskovCMI\u001b[39m\u001b[38;5;124m'\u001b[39m,\n\u001b[1;32m      9\u001b[0m     \u001b[38;5;124m'\u001b[39m\u001b[38;5;124mmax_lag_sources\u001b[39m\u001b[38;5;124m'\u001b[39m: \u001b[38;5;241m5\u001b[39m,\n\u001b[1;32m     10\u001b[0m     \u001b[38;5;124m'\u001b[39m\u001b[38;5;124mmin_lag_sources\u001b[39m\u001b[38;5;124m'\u001b[39m: \u001b[38;5;241m1\u001b[39m\n\u001b[1;32m     11\u001b[0m }\n\u001b[0;32m---> 13\u001b[0m data \u001b[38;5;241m=\u001b[39m Data(data, dim_order\u001b[38;5;241m=\u001b[39m\u001b[38;5;124m'\u001b[39m\u001b[38;5;124mps\u001b[39m\u001b[38;5;124m'\u001b[39m)  \u001b[38;5;66;03m# 'ps' = processes x samples\u001b[39;00m\n\u001b[1;32m     15\u001b[0m \u001b[38;5;66;03m# Step 2: Run TE inference\u001b[39;00m\n\u001b[1;32m     16\u001b[0m network_analysis \u001b[38;5;241m=\u001b[39m MultivariateTE()\n",
      "\u001b[0;31mNameError\u001b[0m: name 'data' is not defined"
     ]
    }
   ],
   "source": [
    "from idtxl.multivariate_te import MultivariateTE\n",
    "from idtxl.data import Data\n",
    "from idtxl.visualise_graph import plot_network\n",
    "\n",
    "# Step 1: Define the data object\n",
    "# 'discrete=False' means we use the Kraskov (k-NN) estimator\n",
    "settings = {\n",
    "    'cmi_estimator': 'JidtKraskovCMI',\n",
    "    'max_lag_sources': 5,\n",
    "    'min_lag_sources': 1\n",
    "}\n",
    "\n",
    "data = Data(data, dim_order='ps')  # 'ps' = processes x samples\n",
    "\n",
    "# Step 2: Run TE inference\n",
    "network_analysis = MultivariateTE()\n",
    "results = network_analysis.analyse_network(settings=settings, data=data, target=0)\n",
    "\n",
    "# Step 3: Access results\n",
    "print(results.get_single_target(0))"
   ]
  }
 ],
 "metadata": {
  "kernelspec": {
   "display_name": "base",
   "language": "python",
   "name": "python3"
  },
  "language_info": {
   "codemirror_mode": {
    "name": "ipython",
    "version": 3
   },
   "file_extension": ".py",
   "mimetype": "text/x-python",
   "name": "python",
   "nbconvert_exporter": "python",
   "pygments_lexer": "ipython3",
   "version": "3.12.7"
  }
 },
 "nbformat": 4,
 "nbformat_minor": 2
}
