{
 "cells": [
  {
   "cell_type": "markdown",
   "metadata": {},
   "source": [
    "# In this notebook, we compute the TE (transfer entropy) to perform statistical significance tests\n",
    "\n",
    "$TE_{B \\rightarrow A} = H(A^+|A)-H(A^+|A,B)$\n",
    "\n",
    "where $H(X|Y) = -E(\\log P(X|Y)) = -\\sum\\limits_{x,y} P(x,y)\\log P(x|y)$ is the conditional entropy of $X$ given $Y$, $A$ and $B$ are time series, and $A^+$ is the \"future\" of $A$"
   ]
  },
  {
   "cell_type": "markdown",
   "metadata": {},
   "source": [
    "Here $TE_{XBT \\rightarrow ETH}$ represents how much knowing XBT’s past helps predict ETH, beyond what ETH’s own past can tell us.\n",
    "\n",
    "We first synchronize the asynchronous time series of XBT's features and ETH's prices. Then we we compute the transfer entropy to test for the statistical significance of the different features with a $\\chi^2$ test (cf. [arXiv:2206.10173v1](https://arxiv.org/abs/2206.10173#) by Christian Bongiorno & Damien Challet) using a repository on [Christian Bongiorno's github PV-TE](https://github.com/bongiornoc/PV-TE)."
   ]
  },
  {
   "cell_type": "code",
   "execution_count": null,
   "metadata": {},
   "outputs": [],
   "source": [
    "import numpy as np\n",
    "import pandas as pd\n",
    "import scipy\n",
    "import requests\n",
    "from typing import Tuple\n",
    "\n",
    "\n",
    "url_tepv = \"https://raw.githubusercontent.com/bongiornoc/PV-TE/refs/heads/main/TEpv.py\"\n",
    "response = requests.get(url_tepv)\n",
    "if response.status_code == 200:\n",
    "    code = response.text\n",
    "    # Execute the code dynamically\n",
    "    exec(code)\n",
    "else:\n",
    "    print(f\"Failed to fetch the file: {response.status_code}\")\n",
    "\n"
   ]
  },
  {
   "cell_type": "code",
   "execution_count": null,
   "metadata": {},
   "outputs": [],
   "source": [
    "features = pd.read_parquet(\"../data/features/DATA_0/XBT_EUR.parquet\")\n",
    "\n",
    "eth = pd.read_parquet(\"../data/preprocessed/DATA_0/ETH_EUR.parquet\")\n",
    "eth = eth[\"level-1-bid-price\"]"
   ]
  },
  {
   "cell_type": "code",
   "execution_count": null,
   "metadata": {},
   "outputs": [],
   "source": [
    "def backward_matching(A: pd.DataFrame, B: pd.DataFrame, timeshift=pd.Timedelta('0s'), \n",
    "                  fill_method: str = 'linear') -> Tuple[pd.DataFrame, pd.DataFrame]:\n",
    "    \"\"\"\n",
    "    Transform asynchronous time series into synchronous time series using the union method.\n",
    "    For each timestamp from A, takes the lates timestamp of B shifted by timeshift.\n",
    "    \n",
    "    Args:\n",
    "        A (pd.DataFrame): target time series with datetime index\n",
    "        B (pd.DataFrame): base time series with datetime index (the one that will be synced)\n",
    "    \n",
    "    Returns:\n",
    "        pd.DataFrame: Synchronized time series B_sync (with respect to A)\n",
    "    \"\"\"\n",
    "    # Shift B by the specified timeshift\n",
    "    B_shifted = B.shift(freq=timeshift)\n",
    "    \n",
    "    # Reindex B to match the index of A_shifted, using the latest available values\n",
    "    A_sync = B.reindex(A.index, method='ffill')\n",
    "    \n",
    "    return B_sync"
   ]
  },
  {
   "cell_type": "code",
   "execution_count": null,
   "metadata": {},
   "outputs": [],
   "source": [
    "synced_features = backward_matching(features, eth, timeshift=pd.Timedelta('1ms'), fill_method='linear')\n",
    "TE_test_result = [transfer_entropy_analysis(features.iloc[:-1][feat], eth.iloc[:-1], eth.iloc[1:]) for feat in features.columns if feat != 'timestamp']"
   ]
  }
 ],
 "metadata": {
  "kernelspec": {
   "display_name": "base",
   "language": "python",
   "name": "python3"
  },
  "language_info": {
   "codemirror_mode": {
    "name": "ipython",
    "version": 3
   },
   "file_extension": ".py",
   "mimetype": "text/x-python",
   "name": "python",
   "nbconvert_exporter": "python",
   "pygments_lexer": "ipython3",
   "version": "3.12.7"
  }
 },
 "nbformat": 4,
 "nbformat_minor": 2
}
