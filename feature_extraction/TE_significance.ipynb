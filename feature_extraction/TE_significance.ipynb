{
 "cells": [
  {
   "cell_type": "markdown",
   "metadata": {},
   "source": [
    "# In this notebook, we compute the TE (transfer entropy) to perform statistical significance tests\n",
    "\n",
    "$TE_{B \\rightarrow A} = H(A^+|A)-H(A^+|A,B)$\n",
    "\n",
    "where $H(X|Y) = -E(\\log P(X|Y)) = -\\sum\\limits_{x,y} P(x,y)\\log P(x|y)$ is the conditional entropy of $X$ given $Y$, $A$ and $B$ are time series, and $A^+$ is the \"future\" of $A$"
   ]
  },
  {
   "cell_type": "markdown",
   "metadata": {},
   "source": [
    "Here $TE_{XBT \\rightarrow ETH}$ represents how much knowing XBT’s past helps predict ETH, beyond what ETH’s own past can tell us.\n",
    "\n",
    "We first synchronize the asynchronous time series of XBT's features and ETH's prices. Then we we compute the transfer entropy to test for the statistical significance of the different features with a $\\chi^2$ test (cf. [arXiv:2206.10173v1](https://arxiv.org/abs/2206.10173#) by Christian Bongiorno & Damien Challet) using a repository on [Christian Bongiorno's github PV-TE](https://github.com/bongiornoc/PV-TE)."
   ]
  },
  {
   "cell_type": "code",
   "execution_count": 30,
   "metadata": {},
   "outputs": [],
   "source": [
    "import numpy as np\n",
    "import pandas as pd\n",
    "import scipy\n",
    "import requests\n",
    "from typing import Tuple\n",
    "\n",
    "\n",
    "url_tepv = \"https://raw.githubusercontent.com/bongiornoc/PV-TE/refs/heads/main/TEpv.py\"\n",
    "response = requests.get(url_tepv)\n",
    "if response.status_code == 200:\n",
    "    code = response.text\n",
    "    # Execute the code dynamically\n",
    "    exec(code)\n",
    "else:\n",
    "    print(f\"Failed to fetch the file: {response.status_code}\")\n",
    "\n"
   ]
  },
  {
   "cell_type": "code",
   "execution_count": 31,
   "metadata": {},
   "outputs": [],
   "source": [
    "features = pd.read_parquet(\"../data/features/DATA_0/XBT_EUR.parquet\")\n",
    "\n",
    "eth = pd.read_parquet(\"../data/features/DATA_0/ETH_EUR.parquet\")\n",
    "eth = eth[\"level-1-bid-price\"]"
   ]
  },
  {
   "cell_type": "code",
   "execution_count": 32,
   "metadata": {},
   "outputs": [],
   "source": [
    "def backward_matching(A: pd.DataFrame, B: pd.DataFrame, timeshift=pd.Timedelta('0s'), \n",
    "                  fill_method: str = 'linear') -> Tuple[pd.DataFrame, pd.DataFrame]:\n",
    "    \"\"\"\n",
    "    Transform asynchronous time series into synchronous time series using the union method.\n",
    "    For each timestamp from A, takes the lates timestamp of B shifted by timeshift.\n",
    "    \n",
    "    Args:\n",
    "        A (pd.DataFrame): target time series with datetime index\n",
    "        B (pd.DataFrame): base time series with datetime index (the one that will be synced)\n",
    "    \n",
    "    Returns:\n",
    "        pd.DataFrame: Synchronized time series B_sync (with respect to A)\n",
    "    \"\"\"\n",
    "    # Shift B by the specified timeshift\n",
    "    B_shifted = B.shift(freq=timeshift)\n",
    "    \n",
    "    # Reindex B_shifted to match the index of A, using the latest available values\n",
    "    B_sync = B_shifted.reindex(A.index, method='ffill')\n",
    "    \n",
    "    return B_sync"
   ]
  },
  {
   "cell_type": "code",
   "execution_count": 33,
   "metadata": {},
   "outputs": [
    {
     "ename": "NotImplementedError",
     "evalue": "This method is only implemented for DatetimeIndex, PeriodIndex and TimedeltaIndex; Got type Index",
     "output_type": "error",
     "traceback": [
      "\u001b[0;31m---------------------------------------------------------------------------\u001b[0m",
      "\u001b[0;31mNotImplementedError\u001b[0m                       Traceback (most recent call last)",
      "Cell \u001b[0;32mIn[33], line 1\u001b[0m\n\u001b[0;32m----> 1\u001b[0m synced_features \u001b[38;5;241m=\u001b[39m backward_matching(features, eth, timeshift\u001b[38;5;241m=\u001b[39mpd\u001b[38;5;241m.\u001b[39mTimedelta(\u001b[38;5;124m'\u001b[39m\u001b[38;5;124m1ms\u001b[39m\u001b[38;5;124m'\u001b[39m), fill_method\u001b[38;5;241m=\u001b[39m\u001b[38;5;124m'\u001b[39m\u001b[38;5;124mlinear\u001b[39m\u001b[38;5;124m'\u001b[39m)\n\u001b[1;32m      2\u001b[0m TE_test_result \u001b[38;5;241m=\u001b[39m [transfer_entropy_analysis(features\u001b[38;5;241m.\u001b[39miloc[:\u001b[38;5;241m-\u001b[39m\u001b[38;5;241m1\u001b[39m][feat], eth\u001b[38;5;241m.\u001b[39miloc[:\u001b[38;5;241m-\u001b[39m\u001b[38;5;241m1\u001b[39m], eth\u001b[38;5;241m.\u001b[39miloc[\u001b[38;5;241m1\u001b[39m:]) \u001b[38;5;28;01mfor\u001b[39;00m feat \u001b[38;5;129;01min\u001b[39;00m features\u001b[38;5;241m.\u001b[39mcolumns \u001b[38;5;28;01mif\u001b[39;00m feat \u001b[38;5;241m!=\u001b[39m \u001b[38;5;124m'\u001b[39m\u001b[38;5;124mtimestamp\u001b[39m\u001b[38;5;124m'\u001b[39m]\n",
      "Cell \u001b[0;32mIn[32], line 15\u001b[0m, in \u001b[0;36mbackward_matching\u001b[0;34m(A, B, timeshift, fill_method)\u001b[0m\n\u001b[1;32m      3\u001b[0m \u001b[38;5;250m\u001b[39m\u001b[38;5;124;03m\"\"\"\u001b[39;00m\n\u001b[1;32m      4\u001b[0m \u001b[38;5;124;03mTransform asynchronous time series into synchronous time series using the union method.\u001b[39;00m\n\u001b[1;32m      5\u001b[0m \u001b[38;5;124;03mFor each timestamp from A, takes the lates timestamp of B shifted by timeshift.\u001b[39;00m\n\u001b[0;32m   (...)\u001b[0m\n\u001b[1;32m     12\u001b[0m \u001b[38;5;124;03m    pd.DataFrame: Synchronized time series B_sync (with respect to A)\u001b[39;00m\n\u001b[1;32m     13\u001b[0m \u001b[38;5;124;03m\"\"\"\u001b[39;00m\n\u001b[1;32m     14\u001b[0m \u001b[38;5;66;03m# Shift B by the specified timeshift\u001b[39;00m\n\u001b[0;32m---> 15\u001b[0m B_shifted \u001b[38;5;241m=\u001b[39m B\u001b[38;5;241m.\u001b[39mshift(freq\u001b[38;5;241m=\u001b[39mtimeshift)\n\u001b[1;32m     17\u001b[0m \u001b[38;5;66;03m# Reindex B_shifted to match the index of A, using the latest available values\u001b[39;00m\n\u001b[1;32m     18\u001b[0m B_sync \u001b[38;5;241m=\u001b[39m B_shifted\u001b[38;5;241m.\u001b[39mreindex(A\u001b[38;5;241m.\u001b[39mindex, method\u001b[38;5;241m=\u001b[39m\u001b[38;5;124m'\u001b[39m\u001b[38;5;124mffill\u001b[39m\u001b[38;5;124m'\u001b[39m)\n",
      "File \u001b[0;32m/opt/anaconda3/lib/python3.12/site-packages/pandas/core/generic.py:11233\u001b[0m, in \u001b[0;36mNDFrame.shift\u001b[0;34m(self, periods, freq, axis, fill_value, suffix)\u001b[0m\n\u001b[1;32m  11228\u001b[0m     new_data \u001b[38;5;241m=\u001b[39m \u001b[38;5;28mself\u001b[39m\u001b[38;5;241m.\u001b[39m_mgr\u001b[38;5;241m.\u001b[39mshift(periods\u001b[38;5;241m=\u001b[39mperiods, fill_value\u001b[38;5;241m=\u001b[39mfill_value)\n\u001b[1;32m  11229\u001b[0m     \u001b[38;5;28;01mreturn\u001b[39;00m \u001b[38;5;28mself\u001b[39m\u001b[38;5;241m.\u001b[39m_constructor_from_mgr(\n\u001b[1;32m  11230\u001b[0m         new_data, axes\u001b[38;5;241m=\u001b[39mnew_data\u001b[38;5;241m.\u001b[39maxes\n\u001b[1;32m  11231\u001b[0m     )\u001b[38;5;241m.\u001b[39m__finalize__(\u001b[38;5;28mself\u001b[39m, method\u001b[38;5;241m=\u001b[39m\u001b[38;5;124m\"\u001b[39m\u001b[38;5;124mshift\u001b[39m\u001b[38;5;124m\"\u001b[39m)\n\u001b[0;32m> 11233\u001b[0m \u001b[38;5;28;01mreturn\u001b[39;00m \u001b[38;5;28mself\u001b[39m\u001b[38;5;241m.\u001b[39m_shift_with_freq(periods, axis, freq)\n",
      "File \u001b[0;32m/opt/anaconda3/lib/python3.12/site-packages/pandas/core/generic.py:11266\u001b[0m, in \u001b[0;36mNDFrame._shift_with_freq\u001b[0;34m(self, periods, axis, freq)\u001b[0m\n\u001b[1;32m  11264\u001b[0m     new_ax \u001b[38;5;241m=\u001b[39m index\u001b[38;5;241m.\u001b[39mshift(periods)\n\u001b[1;32m  11265\u001b[0m \u001b[38;5;28;01melse\u001b[39;00m:\n\u001b[0;32m> 11266\u001b[0m     new_ax \u001b[38;5;241m=\u001b[39m index\u001b[38;5;241m.\u001b[39mshift(periods, freq)\n\u001b[1;32m  11268\u001b[0m result \u001b[38;5;241m=\u001b[39m \u001b[38;5;28mself\u001b[39m\u001b[38;5;241m.\u001b[39mset_axis(new_ax, axis\u001b[38;5;241m=\u001b[39maxis)\n\u001b[1;32m  11269\u001b[0m \u001b[38;5;28;01mreturn\u001b[39;00m result\u001b[38;5;241m.\u001b[39m__finalize__(\u001b[38;5;28mself\u001b[39m, method\u001b[38;5;241m=\u001b[39m\u001b[38;5;124m\"\u001b[39m\u001b[38;5;124mshift\u001b[39m\u001b[38;5;124m\"\u001b[39m)\n",
      "File \u001b[0;32m/opt/anaconda3/lib/python3.12/site-packages/pandas/core/indexes/base.py:6011\u001b[0m, in \u001b[0;36mIndex.shift\u001b[0;34m(self, periods, freq)\u001b[0m\n\u001b[1;32m   5955\u001b[0m \u001b[38;5;28;01mdef\u001b[39;00m \u001b[38;5;21mshift\u001b[39m(\u001b[38;5;28mself\u001b[39m, periods: \u001b[38;5;28mint\u001b[39m \u001b[38;5;241m=\u001b[39m \u001b[38;5;241m1\u001b[39m, freq\u001b[38;5;241m=\u001b[39m\u001b[38;5;28;01mNone\u001b[39;00m):\n\u001b[1;32m   5956\u001b[0m \u001b[38;5;250m    \u001b[39m\u001b[38;5;124;03m\"\"\"\u001b[39;00m\n\u001b[1;32m   5957\u001b[0m \u001b[38;5;124;03m    Shift index by desired number of time frequency increments.\u001b[39;00m\n\u001b[1;32m   5958\u001b[0m \n\u001b[0;32m   (...)\u001b[0m\n\u001b[1;32m   6009\u001b[0m \u001b[38;5;124;03m                  dtype='datetime64[ns]', freq='MS')\u001b[39;00m\n\u001b[1;32m   6010\u001b[0m \u001b[38;5;124;03m    \"\"\"\u001b[39;00m\n\u001b[0;32m-> 6011\u001b[0m     \u001b[38;5;28;01mraise\u001b[39;00m \u001b[38;5;167;01mNotImplementedError\u001b[39;00m(\n\u001b[1;32m   6012\u001b[0m         \u001b[38;5;124mf\u001b[39m\u001b[38;5;124m\"\u001b[39m\u001b[38;5;124mThis method is only implemented for DatetimeIndex, PeriodIndex and \u001b[39m\u001b[38;5;124m\"\u001b[39m\n\u001b[1;32m   6013\u001b[0m         \u001b[38;5;124mf\u001b[39m\u001b[38;5;124m\"\u001b[39m\u001b[38;5;124mTimedeltaIndex; Got type \u001b[39m\u001b[38;5;132;01m{\u001b[39;00m\u001b[38;5;28mtype\u001b[39m(\u001b[38;5;28mself\u001b[39m)\u001b[38;5;241m.\u001b[39m\u001b[38;5;18m__name__\u001b[39m\u001b[38;5;132;01m}\u001b[39;00m\u001b[38;5;124m\"\u001b[39m\n\u001b[1;32m   6014\u001b[0m     )\n",
      "\u001b[0;31mNotImplementedError\u001b[0m: This method is only implemented for DatetimeIndex, PeriodIndex and TimedeltaIndex; Got type Index"
     ]
    }
   ],
   "source": [
    "synced_features = backward_matching(features, eth, timeshift=pd.Timedelta('1ms'), fill_method='linear')\n",
    "TE_test_result = [transfer_entropy_analysis(features.iloc[:-1][feat], eth.iloc[:-1], eth.iloc[1:]) for feat in features.columns if feat != 'timestamp']"
   ]
  }
 ],
 "metadata": {
  "kernelspec": {
   "display_name": "base",
   "language": "python",
   "name": "python3"
  },
  "language_info": {
   "codemirror_mode": {
    "name": "ipython",
    "version": 3
   },
   "file_extension": ".py",
   "mimetype": "text/x-python",
   "name": "python",
   "nbconvert_exporter": "python",
   "pygments_lexer": "ipython3",
   "version": "3.12.7"
  }
 },
 "nbformat": 4,
 "nbformat_minor": 2
}
