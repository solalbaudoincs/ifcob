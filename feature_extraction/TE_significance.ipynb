{
 "cells": [
  {
   "cell_type": "markdown",
   "metadata": {},
   "source": [
    "# In this notebook, we compute the TE (transfer entropy) to perform statistical significance tests\n",
    "\n",
    "$TE_{B \\rightarrow A} = H(A^+|A)-H(A^+|A,B)$\n",
    "\n",
    "where $H(X|Y) = -E(\\log P(X|Y)) = -\\sum\\limits_{x,y} P(x,y)\\log P(x|y)$ is the conditional entropy of $X$ given $Y$, $A$ and $B$ are time series, and $A^+$ is the \"future\" of $A$"
   ]
  },
  {
   "cell_type": "markdown",
   "metadata": {},
   "source": [
    "Here $TE_{XBT \\rightarrow ETH}$ represents how much knowing XBT’s past helps predict ETH, beyond what ETH’s own past can tell us.\n",
    "\n",
    "We first synchronize the asynchronous time series of XBT's features and ETH's prices. Then we we compute the transfer entropy to test for the statistical significance of the different features with a $\\chi^2$ test (cf. [arXiv:2206.10173v1](https://arxiv.org/abs/2206.10173#) by Christian Bongiorno & Damien Challet) using a repository on [Christian Bongiorno's github PV-TE](https://github.com/bongiornoc/PV-TE)."
   ]
  },
  {
   "cell_type": "code",
   "execution_count": 6,
   "metadata": {},
   "outputs": [],
   "source": [
    "import numpy as np\n",
    "import pandas as pd\n",
    "import scipy\n",
    "import requests\n",
    "from typing import Tuple\n",
    "import regex as re\n",
    "\n",
    "url_tepv = \"https://raw.githubusercontent.com/bongiornoc/PV-TE/refs/heads/main/TEpv.py\"\n",
    "response = requests.get(url_tepv)\n",
    "if response.status_code == 200:\n",
    "    code = response.text\n",
    "    # Execute the code dynamically\n",
    "    exec(code)\n",
    "else:\n",
    "    print(f\"Failed to fetch the file: {response.status_code}\")\n",
    "\n"
   ]
  },
  {
   "cell_type": "code",
   "execution_count": 7,
   "metadata": {},
   "outputs": [],
   "source": [
    "features = pd.read_parquet(\"../data/features/DATA_0/XBT_EUR.parquet\")\n",
    "features.index = pd.to_datetime(features.index, unit='ms', utc=True)\n",
    "eth = pd.read_parquet(\"../data/features/DATA_0/ETH_EUR.parquet\")\n",
    "eth.index = pd.to_datetime(eth.index, unit='ms', utc=True)\n",
    "eth = eth[[\"level-1-bid-price\"]]"
   ]
  },
  {
   "cell_type": "code",
   "execution_count": 13,
   "metadata": {},
   "outputs": [],
   "source": [
    "def backward_matching(A: pd.DataFrame, B: pd.DataFrame, timeshift=pd.Timedelta('0s')) -> Tuple[pd.DataFrame, pd.DataFrame]:\n",
    "    \"\"\"\n",
    "    Transform asynchronous time series into synchronous time series using the union method.\n",
    "    For each timestamp from A, takes the lates timestamp of B shifted by timeshift.\n",
    "    \n",
    "    Args:\n",
    "        A (pd.DataFrame): target time series with datetime index\n",
    "        B (pd.DataFrame): base time series with datetime index (the one that will be synced)\n",
    "    \n",
    "    Returns:\n",
    "        pd.DataFrame: Synchronized time series B_sync (with respect to A)\n",
    "    \"\"\"\n",
    "    \n",
    "    # Shift B by the specified timeshift\n",
    "    B_shifted = B.shift(freq=timeshift)\n",
    "    \n",
    "    # Reindex B_shifted to match the index of A, using the latest available values\n",
    "    B_sync = pd.merge_asof(A, B_shifted, on='timestamp', direction=\"backward\", suffixes=(\"_A\", \"\")).filter(regex='.*(?<!_A$)')\n",
    "    \n",
    "    return B_sync"
   ]
  },
  {
   "cell_type": "code",
   "execution_count": 19,
   "metadata": {},
   "outputs": [
    {
     "name": "stdout",
     "output_type": "stream",
     "text": [
      "(1000, 58) (1000, 1)\n"
     ]
    },
    {
     "name": "stderr",
     "output_type": "stream",
     "text": [
      "<string>:143: UserWarning: Sample size T=999 may be too small for χ² asymptotics (df=362952).\n",
      "<string>:143: UserWarning: Sample size T=999 may be too small for χ² asymptotics (df=15336).\n",
      "<string>:143: UserWarning: Sample size T=999 may be too small for χ² asymptotics (df=46008).\n",
      "<string>:143: UserWarning: Sample size T=999 may be too small for χ² asymptotics (df=194256).\n",
      "<string>:143: UserWarning: Sample size T=999 may be too small for χ² asymptotics (df=209592).\n",
      "<string>:143: UserWarning: Sample size T=999 may be too small for χ² asymptotics (df=224928).\n",
      "<string>:143: UserWarning: Sample size T=999 may be too small for χ² asymptotics (df=214704).\n",
      "<string>:143: UserWarning: Sample size T=999 may be too small for χ² asymptotics (df=316944).\n",
      "<string>:143: UserWarning: Sample size T=999 may be too small for χ² asymptotics (df=301608).\n",
      "<string>:143: UserWarning: Sample size T=999 may be too small for χ² asymptotics (df=265824).\n",
      "<string>:143: UserWarning: Sample size T=999 may be too small for χ² asymptotics (df=260712).\n",
      "<string>:143: UserWarning: Sample size T=999 may be too small for χ² asymptotics (df=255600).\n",
      "<string>:143: UserWarning: Sample size T=999 may be too small for χ² asymptotics (df=245376).\n",
      "<string>:143: UserWarning: Sample size T=999 may be too small for χ² asymptotics (df=270936).\n",
      "<string>:143: UserWarning: Sample size T=999 may be too small for χ² asymptotics (df=265824).\n",
      "<string>:143: UserWarning: Sample size T=999 may be too small for χ² asymptotics (df=270936).\n",
      "<string>:143: UserWarning: Sample size T=999 may be too small for χ² asymptotics (df=265824).\n",
      "<string>:143: UserWarning: Sample size T=999 may be too small for χ² asymptotics (df=265824).\n",
      "<string>:143: UserWarning: Sample size T=999 may be too small for χ² asymptotics (df=260712).\n",
      "<string>:143: UserWarning: Sample size T=999 may be too small for χ² asymptotics (df=301608).\n",
      "<string>:143: UserWarning: Sample size T=999 may be too small for χ² asymptotics (df=306720).\n",
      "<string>:143: UserWarning: Sample size T=999 may be too small for χ² asymptotics (df=15336).\n",
      "<string>:143: UserWarning: Sample size T=999 may be too small for χ² asymptotics (df=51120).\n",
      "<string>:143: UserWarning: Sample size T=999 may be too small for χ² asymptotics (df=117576).\n",
      "<string>:143: UserWarning: Sample size T=999 may be too small for χ² asymptotics (df=102240).\n",
      "<string>:143: UserWarning: Sample size T=999 may be too small for χ² asymptotics (df=184032).\n",
      "<string>:143: UserWarning: Sample size T=999 may be too small for χ² asymptotics (df=204480).\n",
      "<string>:143: UserWarning: Sample size T=999 may be too small for χ² asymptotics (df=204480).\n",
      "<string>:143: UserWarning: Sample size T=999 may be too small for χ² asymptotics (df=204480).\n",
      "<string>:143: UserWarning: Sample size T=999 may be too small for χ² asymptotics (df=194256).\n",
      "<string>:143: UserWarning: Sample size T=999 may be too small for χ² asymptotics (df=194256).\n",
      "<string>:143: UserWarning: Sample size T=999 may be too small for χ² asymptotics (df=189144).\n",
      "<string>:143: UserWarning: Sample size T=999 may be too small for χ² asymptotics (df=189144).\n",
      "<string>:143: UserWarning: Sample size T=999 may be too small for χ² asymptotics (df=194256).\n",
      "<string>:143: UserWarning: Sample size T=999 may be too small for χ² asymptotics (df=194256).\n",
      "<string>:143: UserWarning: Sample size T=999 may be too small for χ² asymptotics (df=230040).\n",
      "<string>:143: UserWarning: Sample size T=999 may be too small for χ² asymptotics (df=230040).\n",
      "<string>:143: UserWarning: Sample size T=999 may be too small for χ² asymptotics (df=214704).\n",
      "<string>:143: UserWarning: Sample size T=999 may be too small for χ² asymptotics (df=209592).\n",
      "<string>:143: UserWarning: Sample size T=999 may be too small for χ² asymptotics (df=189144).\n",
      "<string>:143: UserWarning: Sample size T=999 may be too small for χ² asymptotics (df=168696).\n",
      "<string>:143: UserWarning: Sample size T=999 may be too small for χ² asymptotics (df=414072).\n",
      "<string>:143: UserWarning: Sample size T=999 may be too small for χ² asymptotics (df=296496).\n",
      "<string>:143: UserWarning: Sample size T=999 may be too small for χ² asymptotics (df=516312).\n",
      "<string>:143: UserWarning: Sample size T=999 may be too small for χ² asymptotics (df=20448).\n"
     ]
    },
    {
     "name": "stdout",
     "output_type": "stream",
     "text": [
      "  level-1-bid-price_A level-1-bid-price level-1-bid-volume level-2-bid-price  \\\n",
      "0                 0.0          0.031158           0.039247          0.115221   \n",
      "1                 1.0               1.0                1.0               1.0   \n",
      "2                 0.0          0.062315           0.078494          0.230441   \n",
      "3              362952             15336              46008            194256   \n",
      "4                  lr                lr                 lr                lr   \n",
      "\n",
      "  level-2-bid-volume level-3-bid-price level-3-bid-volume level-4-bid-price  \\\n",
      "0           0.108314          0.112987            0.11071          0.133416   \n",
      "1                1.0               1.0                1.0               1.0   \n",
      "2           0.216629          0.225974           0.221421          0.266832   \n",
      "3             209592            224928             214704            316944   \n",
      "4                 lr                lr                 lr                lr   \n",
      "\n",
      "  level-4-bid-volume level-5-bid-price  ... vwap-bid-5-levels  \\\n",
      "0           0.130442          0.129638  ...          0.006012   \n",
      "1                1.0               1.0  ...               1.0   \n",
      "2           0.260884          0.259276  ...          0.012025   \n",
      "3             301608            265824  ...              5112   \n",
      "4                 lr                lr  ...                lr   \n",
      "\n",
      "  vwap-ask-5-levels avg-vwap-diff-5-levels liquidity-ratio  \\\n",
      "0          0.006012               0.006012        0.163002   \n",
      "1               1.0                    1.0             1.0   \n",
      "2          0.012025               0.012025        0.326005   \n",
      "3              5112                   5112          516312   \n",
      "4                lr                     lr              lr   \n",
      "\n",
      "  rate-inst-volatility rate-momentum rate-mid-price-trend  \\\n",
      "0             0.066485      0.040756             0.023222   \n",
      "1                  1.0           1.0                  1.0   \n",
      "2             0.132969      0.081512             0.046443   \n",
      "3                51120         20448                20448   \n",
      "4                   lr            lr                   lr   \n",
      "\n",
      "  rate-vwap-diff-5-levels rate-bid-volume-level-1 rate-ask-volume-level-1  \n",
      "0                0.006012                0.062342                 0.11531  \n",
      "1                     1.0                     1.0                     1.0  \n",
      "2                0.012025                0.124684                0.230621  \n",
      "3                    5112                  122688                  260712  \n",
      "4                      lr                      lr                      lr  \n",
      "\n",
      "[5 rows x 57 columns]\n"
     ]
    },
    {
     "name": "stderr",
     "output_type": "stream",
     "text": [
      "<string>:143: UserWarning: Sample size T=999 may be too small for χ² asymptotics (df=419184).\n",
      "<string>:143: UserWarning: Sample size T=999 may be too small for χ² asymptotics (df=306720).\n",
      "<string>:143: UserWarning: Sample size T=999 may be too small for χ² asymptotics (df=5112).\n",
      "<string>:143: UserWarning: Sample size T=999 may be too small for χ² asymptotics (df=5112).\n",
      "<string>:143: UserWarning: Sample size T=999 may be too small for χ² asymptotics (df=5112).\n",
      "<string>:143: UserWarning: Sample size T=999 may be too small for χ² asymptotics (df=516312).\n",
      "<string>:143: UserWarning: Sample size T=999 may be too small for χ² asymptotics (df=51120).\n",
      "<string>:143: UserWarning: Sample size T=999 may be too small for χ² asymptotics (df=20448).\n",
      "<string>:143: UserWarning: Sample size T=999 may be too small for χ² asymptotics (df=20448).\n",
      "<string>:143: UserWarning: Sample size T=999 may be too small for χ² asymptotics (df=5112).\n",
      "<string>:143: UserWarning: Sample size T=999 may be too small for χ² asymptotics (df=122688).\n",
      "<string>:143: UserWarning: Sample size T=999 may be too small for χ² asymptotics (df=260712).\n"
     ]
    }
   ],
   "source": [
    "sampple_size = 1000\n",
    "sample_features = features.iloc[:sampple_size].copy()\n",
    "sample_eth = eth.iloc[:sampple_size].copy()\n",
    "synced_features = backward_matching(sample_eth, sample_features, timeshift=pd.Timedelta('1ms'))\n",
    "print(synced_features.shape, sample_eth.shape)\n",
    "TE_test_result = pd.DataFrame({feat: transfer_entropy_analysis(synced_features[feat].iloc[:-1], sample_eth.iloc[:-1], sample_eth.iloc[1:]) for feat in synced_features.columns if feat != 'timestamp'})\n",
    "print(TE_test_result)"
   ]
  }
 ],
 "metadata": {
  "kernelspec": {
   "display_name": "base",
   "language": "python",
   "name": "python3"
  },
  "language_info": {
   "codemirror_mode": {
    "name": "ipython",
    "version": 3
   },
   "file_extension": ".py",
   "mimetype": "text/x-python",
   "name": "python",
   "nbconvert_exporter": "python",
   "pygments_lexer": "ipython3",
   "version": "3.12.7"
  }
 },
 "nbformat": 4,
 "nbformat_minor": 2
}
