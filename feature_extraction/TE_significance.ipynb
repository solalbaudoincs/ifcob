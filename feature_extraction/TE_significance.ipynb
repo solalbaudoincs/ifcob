{
 "cells": [
  {
   "cell_type": "markdown",
   "metadata": {},
   "source": [
    "# In this notebook, we compute the TE (transfer entropy) to perform statistical significance tests\n",
    "\n",
    "$TE_{B \\rightarrow A} = H(A^+|A)-H(A^+|A,B)$\n",
    "\n",
    "where $H(X) = E(\\log P(X)) = \\sum_x P(x)\\log P(x)$ is the entropy of $X$, $A$ and $B$ are time series, an $A^+$ is the \"future\" of $A$\n",
    "\n",
    "\n",
    "In our case, A and can represent ETH and BTC. Then $TE_{BTC \\rightarrow ETH}$ quantifies how much knowing BTC’s past helps predict ETH, beyond what ETH’s own past can tell you."
   ]
  },
  {
   "cell_type": "code",
   "execution_count": 11,
   "metadata": {},
   "outputs": [],
   "source": [
    "import numpy as np\n",
    "import scipy\n",
    "import requests\n",
    "\n",
    "# URL of the raw Python file in the GitHub repository\n",
    "url = \"https://raw.githubusercontent.com/bongiornoc/PV-TE/refs/heads/main/TEpv.py\"\n",
    "\n",
    "# Download the file content\n",
    "response = requests.get(url)\n",
    "if response.status_code == 200:\n",
    "    code = response.text\n",
    "    # Execute the code dynamically\n",
    "    exec(code)\n",
    "else:\n",
    "    print(f\"Failed to fetch the file: {response.status_code}\")\n",
    "\n"
   ]
  },
  {
   "cell_type": "code",
   "execution_count": null,
   "metadata": {},
   "outputs": [],
   "source": [
    "def async_to_sync(A, B):\n",
    "    \"\"\"transform the asynchronous time series into synchronous time series.\n",
    "\n",
    "    Args:\n",
    "        A (_type_): _description_\n",
    "        B (_type_): _description_\n",
    "    \"\"\""
   ]
  }
 ],
 "metadata": {
  "kernelspec": {
   "display_name": "base",
   "language": "python",
   "name": "python3"
  },
  "language_info": {
   "codemirror_mode": {
    "name": "ipython",
    "version": 3
   },
   "file_extension": ".py",
   "mimetype": "text/x-python",
   "name": "python",
   "nbconvert_exporter": "python",
   "pygments_lexer": "ipython3",
   "version": "3.12.7"
  }
 },
 "nbformat": 4,
 "nbformat_minor": 2
}
